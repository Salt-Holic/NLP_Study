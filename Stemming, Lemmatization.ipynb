{
 "cells": [
  {
   "cell_type": "code",
   "execution_count": null,
   "outputs": [],
   "source": [
    "Lemmatization(표제어 추출)\n",
    "표제어(Lemma) - 기본 사전형 단어(가장 기본이 되는 단어?)\n",
    "표제어 추출은 단어들로부터 표제어를 찾아가는 과정\n",
    "다른 형태를 가지더라도, 그 뿌리가 되는 단어가 존재 -> 이를 통해 단어의 개수를 줄일수 있는지 판단\n",
    "예시) am, is, are -> 뿌리단어 be\n",
    "\n",
    "표제어 추출을 하는 가장 섬세하는 방법은 parsing -> 즉,형태소 단위로 파싱\n",
    "\n",
    "참고)\n",
    "형태소(morpheme) - 의미를 가진 가장 작은 단위\n",
    "형태학(morphology) - 형태소로부터 단어들을 만들어가는 학문\n",
    "\n",
    "형태소는 두가지 종류 존재\n",
    "어간(stem): 단어의 의미를 담고 있는 핵심 부분\n",
    "접사(affix): 단어에 추가적인 의미를 주는 부분\n",
    "Cats -> cat(어간) + -s(접사)\n",
    "\n",
    "\n",
    "\n",
    "Stemming(어간 추출)\n",
    "어간을 추출하는 작업, 정해진 규칙으로 단어의 어미를 잘라냄\n",
    "추출후 결과는 사전에 없는 단어일 수 있음\n",
    "어간(stem)과 어미(ending) 분리\n",
    "\n",
    "\n",
    "결과 차이\n",
    "Stemming\n",
    "am → am\n",
    "the going → the go\n",
    "having → hav\n",
    "\n",
    "Lemmatization\n",
    "am → be\n",
    "the going → the going\n",
    "having → have"
   ],
   "metadata": {
    "collapsed": false
   }
  },
  {
   "cell_type": "code",
   "execution_count": 1,
   "metadata": {
    "collapsed": true
   },
   "outputs": [
    {
     "name": "stdout",
     "output_type": "stream",
     "text": [
      "표제어 추출 전 : ['policy', 'doing', 'organization', 'have', 'going', 'love', 'lives', 'fly', 'dies', 'watched', 'has', 'starting']\n",
      "표제어 추출 후 : ['policy', 'doing', 'organization', 'have', 'going', 'love', 'life', 'fly', 'dy', 'watched', 'ha', 'starting']\n"
     ]
    }
   ],
   "source": [
    "from nltk.stem import WordNetLemmatizer\n",
    "\n",
    "lemmatizer = WordNetLemmatizer()\n",
    "\n",
    "words = ['policy', 'doing', 'organization', 'have', 'going', 'love', 'lives', 'fly', 'dies', 'watched', 'has', 'starting']\n",
    "\n",
    "print('표제어 추출 전 :',words)\n",
    "print('표제어 추출 후 :',[lemmatizer.lemmatize(word) for word in words])\n"
   ]
  },
  {
   "cell_type": "code",
   "execution_count": null,
   "outputs": [],
   "source": [],
   "metadata": {
    "collapsed": false
   }
  }
 ],
 "metadata": {
  "kernelspec": {
   "display_name": "Python 3",
   "language": "python",
   "name": "python3"
  },
  "language_info": {
   "codemirror_mode": {
    "name": "ipython",
    "version": 2
   },
   "file_extension": ".py",
   "mimetype": "text/x-python",
   "name": "python",
   "nbconvert_exporter": "python",
   "pygments_lexer": "ipython2",
   "version": "2.7.6"
  }
 },
 "nbformat": 4,
 "nbformat_minor": 0
}
