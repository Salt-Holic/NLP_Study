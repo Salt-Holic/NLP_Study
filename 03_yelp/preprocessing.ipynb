{
 "cells": [
  {
   "cell_type": "code",
   "execution_count": 34,
   "id": "initial_id",
   "metadata": {
    "collapsed": true,
    "ExecuteTime": {
     "end_time": "2023-08-07T13:06:18.681687Z",
     "start_time": "2023-08-07T13:06:18.585616Z"
    }
   },
   "outputs": [],
   "source": [
    "import collections\n",
    "import numpy as np\n",
    "import pandas as pd\n",
    "import re\n",
    "\n",
    "from argparse import Namespace"
   ]
  },
  {
   "cell_type": "code",
   "execution_count": 35,
   "outputs": [],
   "source": [
    "args = Namespace(\n",
    "    raw_train_dataset_csv='data/raw_train.csv',\n",
    "    raw_test_dataset_csv='data/raw_test.csv',\n",
    "    train_proportion=0.7,\n",
    "    val_proportion=0.3,\n",
    "    output_munged_csv='data/reviews_with_splits_full.csv',\n",
    "    seed=1337\n",
    ")"
   ],
   "metadata": {
    "collapsed": false,
    "ExecuteTime": {
     "end_time": "2023-08-07T13:06:18.681931Z",
     "start_time": "2023-08-07T13:06:18.588664Z"
    }
   },
   "id": "11715304a047bad9"
  },
  {
   "cell_type": "code",
   "execution_count": 36,
   "outputs": [],
   "source": [
    "# 원본 데이터를 읽어옴\n",
    "train_reviews = pd.read_csv(args.raw_train_dataset_csv, header=None, names=['rating', 'review'], encoding='utf-8')\n",
    "train_reviews = train_reviews[~pd.isnull(train_reviews.review)] # 리뷰가 없는 행 제거\n",
    "test_reviews = pd.read_csv(args.raw_test_dataset_csv, header=None, names=['rating', 'review'], encoding='utf-8')\n",
    "test_reviews = test_reviews[~pd.isnull(test_reviews.review)]"
   ],
   "metadata": {
    "collapsed": false,
    "ExecuteTime": {
     "end_time": "2023-08-07T13:06:21.643094Z",
     "start_time": "2023-08-07T13:06:18.593001Z"
    }
   },
   "id": "445ef87368ee86a2"
  },
  {
   "cell_type": "code",
   "execution_count": 37,
   "outputs": [
    {
     "data": {
      "text/plain": "   rating                                             review\n0       1  Unfortunately, the frustration of being Dr. Go...\n1       2  Been going to Dr. Goldberg for over 10 years. ...\n2       1  I don't know what Dr. Goldberg was like before...\n3       1  I'm writing this review to give you a heads up...\n4       2  All the food is great here. But the best thing...",
      "text/html": "<div>\n<style scoped>\n    .dataframe tbody tr th:only-of-type {\n        vertical-align: middle;\n    }\n\n    .dataframe tbody tr th {\n        vertical-align: top;\n    }\n\n    .dataframe thead th {\n        text-align: right;\n    }\n</style>\n<table border=\"1\" class=\"dataframe\">\n  <thead>\n    <tr style=\"text-align: right;\">\n      <th></th>\n      <th>rating</th>\n      <th>review</th>\n    </tr>\n  </thead>\n  <tbody>\n    <tr>\n      <th>0</th>\n      <td>1</td>\n      <td>Unfortunately, the frustration of being Dr. Go...</td>\n    </tr>\n    <tr>\n      <th>1</th>\n      <td>2</td>\n      <td>Been going to Dr. Goldberg for over 10 years. ...</td>\n    </tr>\n    <tr>\n      <th>2</th>\n      <td>1</td>\n      <td>I don't know what Dr. Goldberg was like before...</td>\n    </tr>\n    <tr>\n      <th>3</th>\n      <td>1</td>\n      <td>I'm writing this review to give you a heads up...</td>\n    </tr>\n    <tr>\n      <th>4</th>\n      <td>2</td>\n      <td>All the food is great here. But the best thing...</td>\n    </tr>\n  </tbody>\n</table>\n</div>"
     },
     "execution_count": 37,
     "metadata": {},
     "output_type": "execute_result"
    }
   ],
   "source": [
    "train_reviews.head()"
   ],
   "metadata": {
    "collapsed": false,
    "ExecuteTime": {
     "end_time": "2023-08-07T13:06:21.648629Z",
     "start_time": "2023-08-07T13:06:21.645333Z"
    }
   },
   "id": "55a611bda4c91728"
  },
  {
   "cell_type": "code",
   "execution_count": 38,
   "outputs": [
    {
     "data": {
      "text/plain": "   rating                                             review\n0       1  Ordered a large Mango-Pineapple smoothie. Stay...\n1       2  Quite a surprise!  \\n\\nMy wife and I loved thi...\n2       1  First I will say, this is a nice atmosphere an...\n3       2  I was overall pretty impressed by this hotel. ...\n4       1  Video link at bottom review. Worst service I h...",
      "text/html": "<div>\n<style scoped>\n    .dataframe tbody tr th:only-of-type {\n        vertical-align: middle;\n    }\n\n    .dataframe tbody tr th {\n        vertical-align: top;\n    }\n\n    .dataframe thead th {\n        text-align: right;\n    }\n</style>\n<table border=\"1\" class=\"dataframe\">\n  <thead>\n    <tr style=\"text-align: right;\">\n      <th></th>\n      <th>rating</th>\n      <th>review</th>\n    </tr>\n  </thead>\n  <tbody>\n    <tr>\n      <th>0</th>\n      <td>1</td>\n      <td>Ordered a large Mango-Pineapple smoothie. Stay...</td>\n    </tr>\n    <tr>\n      <th>1</th>\n      <td>2</td>\n      <td>Quite a surprise!  \\n\\nMy wife and I loved thi...</td>\n    </tr>\n    <tr>\n      <th>2</th>\n      <td>1</td>\n      <td>First I will say, this is a nice atmosphere an...</td>\n    </tr>\n    <tr>\n      <th>3</th>\n      <td>2</td>\n      <td>I was overall pretty impressed by this hotel. ...</td>\n    </tr>\n    <tr>\n      <th>4</th>\n      <td>1</td>\n      <td>Video link at bottom review. Worst service I h...</td>\n    </tr>\n  </tbody>\n</table>\n</div>"
     },
     "execution_count": 38,
     "metadata": {},
     "output_type": "execute_result"
    }
   ],
   "source": [
    "test_reviews.head()"
   ],
   "metadata": {
    "collapsed": false,
    "ExecuteTime": {
     "end_time": "2023-08-07T13:06:21.651884Z",
     "start_time": "2023-08-07T13:06:21.649110Z"
    }
   },
   "id": "9876c87c55fc6752"
  },
  {
   "cell_type": "code",
   "execution_count": 39,
   "outputs": [
    {
     "data": {
      "text/plain": "{1, 2}"
     },
     "execution_count": 39,
     "metadata": {},
     "output_type": "execute_result"
    }
   ],
   "source": [
    "# 고유 클래스\n",
    "set(train_reviews.rating) # 긍정, 부정 클래스만 존재"
   ],
   "metadata": {
    "collapsed": false,
    "ExecuteTime": {
     "end_time": "2023-08-07T13:06:21.712734Z",
     "start_time": "2023-08-07T13:06:21.668927Z"
    }
   },
   "id": "dacb3cba59d1363"
  },
  {
   "cell_type": "code",
   "execution_count": 40,
   "outputs": [
    {
     "data": {
      "text/plain": "'\\n별점마다 그룹화할 경우\\n데이터 분할, 데이터 불균형, 감정 분류 문제, 다양한 모델 적용, 시각화 및 분석에 유리\\n'"
     },
     "execution_count": 40,
     "metadata": {},
     "output_type": "execute_result"
    }
   ],
   "source": [
    "# 훈련, 검증, 테스트를 만들기 위해 별점을 기준으로 나눔\n",
    "by_rating = collections.defaultdict(list)\n",
    "for _, row in train_reviews.iterrows(): # iterrows 사용시 행 번호도 같이 나옴\n",
    "    by_rating[row.rating].append(row.to_dict())\n",
    "'''\n",
    "별점마다 그룹화할 경우\n",
    "데이터 분할, 데이터 불균형, 감정 분류 문제, 다양한 모델 적용, 시각화 및 분석에 유리\n",
    "'''"
   ],
   "metadata": {
    "collapsed": false,
    "ExecuteTime": {
     "end_time": "2023-08-07T13:06:29.344796Z",
     "start_time": "2023-08-07T13:06:21.676754Z"
    }
   },
   "id": "2a68f3634bf9447f"
  },
  {
   "cell_type": "code",
   "execution_count": 41,
   "outputs": [],
   "source": [
    "# 분할 데이터를 만듦\n",
    "final_list = []\n",
    "np.random.seed(args.seed)\n",
    "\n",
    "for _, item_list in sorted(by_rating.items()):\n",
    "    '''\n",
    "    by_rating = {\n",
    "        1:[\n",
    "            {'rating': 1, 'review': ...}\n",
    "            ]\n",
    "        0: [...}\n",
    "    형태로 이루어짐\n",
    "    \n",
    "    item_list = [\n",
    "        {'rating': 1, review: ...}\n",
    "        ]\n",
    "    '''\n",
    "    np.random.shuffle(item_list)\n",
    "    \n",
    "    n_total = len(item_list)\n",
    "    n_train = int(args.train_proportion * n_total)\n",
    "    n_val = int(args.val_proportion * n_total)\n",
    "    \n",
    "    # 데이터 포인터에 분할 속성 추가\n",
    "    for item in item_list[:n_train]:\n",
    "        item['split'] = 'train'\n",
    "    \n",
    "    for item in item_list[n_train:]:\n",
    "        item['split'] = 'val'\n",
    "    \n",
    "    # 최종 리스트에 추가\n",
    "    final_list.extend(item_list)"
   ],
   "metadata": {
    "collapsed": false,
    "ExecuteTime": {
     "end_time": "2023-08-07T13:06:29.558355Z",
     "start_time": "2023-08-07T13:06:29.395823Z"
    }
   },
   "id": "b5039807f8bb5519"
  },
  {
   "cell_type": "code",
   "execution_count": 42,
   "outputs": [],
   "source": [
    "for _, row in test_reviews.iterrows():\n",
    "    row_dict = row.to_dict()\n",
    "    row_dict['split'] = 'test'\n",
    "    final_list.append(row_dict)"
   ],
   "metadata": {
    "collapsed": false,
    "ExecuteTime": {
     "end_time": "2023-08-07T13:06:30.018829Z",
     "start_time": "2023-08-07T13:06:29.598099Z"
    }
   },
   "id": "949f992f4ea8cb7d"
  },
  {
   "cell_type": "code",
   "execution_count": 43,
   "outputs": [],
   "source": [
    "# 분할 데이터를 데이터 프레임으로 만듭니다\n",
    "final_reviews = pd.DataFrame(final_list)"
   ],
   "metadata": {
    "collapsed": false,
    "ExecuteTime": {
     "end_time": "2023-08-07T13:06:30.466133Z",
     "start_time": "2023-08-07T13:06:30.086788Z"
    }
   },
   "id": "6d552e6c01a81bff"
  },
  {
   "cell_type": "code",
   "execution_count": 44,
   "outputs": [
    {
     "data": {
      "text/plain": "train    392000\nval      168000\ntest      38000\nName: split, dtype: int64"
     },
     "execution_count": 44,
     "metadata": {},
     "output_type": "execute_result"
    }
   ],
   "source": [
    "final_reviews.split.value_counts()"
   ],
   "metadata": {
    "collapsed": false,
    "ExecuteTime": {
     "end_time": "2023-08-07T13:06:30.481028Z",
     "start_time": "2023-08-07T13:06:30.478136Z"
    }
   },
   "id": "4bbf1dd6fde135f4"
  },
  {
   "cell_type": "code",
   "execution_count": 45,
   "outputs": [
    {
     "data": {
      "text/plain": "0    The entrance was the #1 impressive thing about...\n1    I'm a Mclover, and I had no problem\\nwith the ...\n2    Less than good here, not terrible, but I see n...\n3    I don't know if I can ever bring myself to go ...\n4    Food was OK/Good but the service was terrible....\nName: review, dtype: object"
     },
     "execution_count": 45,
     "metadata": {},
     "output_type": "execute_result"
    }
   ],
   "source": [
    "final_reviews.review.head()"
   ],
   "metadata": {
    "collapsed": false,
    "ExecuteTime": {
     "end_time": "2023-08-07T13:06:30.484209Z",
     "start_time": "2023-08-07T13:06:30.481622Z"
    }
   },
   "id": "a20d8c621937d9be"
  },
  {
   "cell_type": "code",
   "execution_count": 46,
   "outputs": [
    {
     "data": {
      "text/plain": "Empty DataFrame\nColumns: [rating, review, split]\nIndex: []",
      "text/html": "<div>\n<style scoped>\n    .dataframe tbody tr th:only-of-type {\n        vertical-align: middle;\n    }\n\n    .dataframe tbody tr th {\n        vertical-align: top;\n    }\n\n    .dataframe thead th {\n        text-align: right;\n    }\n</style>\n<table border=\"1\" class=\"dataframe\">\n  <thead>\n    <tr style=\"text-align: right;\">\n      <th></th>\n      <th>rating</th>\n      <th>review</th>\n      <th>split</th>\n    </tr>\n  </thead>\n  <tbody>\n  </tbody>\n</table>\n</div>"
     },
     "execution_count": 46,
     "metadata": {},
     "output_type": "execute_result"
    }
   ],
   "source": [
    "final_reviews[pd.isnull(final_reviews.review)] # 리뷰가 비어있는 항목 검색"
   ],
   "metadata": {
    "collapsed": false,
    "ExecuteTime": {
     "end_time": "2023-08-07T13:06:30.509274Z",
     "start_time": "2023-08-07T13:06:30.483724Z"
    }
   },
   "id": "183a61699b0386"
  },
  {
   "cell_type": "code",
   "execution_count": 47,
   "outputs": [],
   "source": [
    "# 리뷰 전처리\n",
    "def preprocess_text(text):\n",
    "    if type(text) == float:\n",
    "        print(text)\n",
    "    text = text.lower()\n",
    "    text = re.sub(r\"([.,!?])\", r\" \\1 \", text) # 해당 문자 앞뒤 공백 추가\n",
    "    text = re.sub(r\"[^a-zA-Z.,!?]+\", r\" \", text) # 알파벳, 해당 문자외 공백으로 변경\n",
    "    return text\n",
    "final_reviews.review = final_reviews.review.apply(preprocess_text)"
   ],
   "metadata": {
    "collapsed": false,
    "ExecuteTime": {
     "end_time": "2023-08-07T13:06:49.581685Z",
     "start_time": "2023-08-07T13:06:30.509944Z"
    }
   },
   "id": "40b58e25cff64852"
  },
  {
   "cell_type": "code",
   "execution_count": 48,
   "outputs": [],
   "source": [
    "final_reviews.rating = final_reviews.rating.apply({1: 'negative', 2: 'positive'}.get) # get은 키값을 가져오는거"
   ],
   "metadata": {
    "collapsed": false,
    "ExecuteTime": {
     "end_time": "2023-08-07T13:06:49.611523Z",
     "start_time": "2023-08-07T13:06:49.582048Z"
    }
   },
   "id": "189eba35b3098e6a"
  },
  {
   "cell_type": "code",
   "execution_count": 51,
   "outputs": [
    {
     "data": {
      "text/plain": "     rating                                             review  split\n0  negative  the entrance was the impressive thing about th...  train\n1  negative  i m a mclover , and i had no problem nwith the...  train\n2  negative  less than good here , not terrible , but i see...  train\n3  negative  i don t know if i can ever bring myself to go ...  train\n4  negative  food was ok good but the service was terrible ...  train",
      "text/html": "<div>\n<style scoped>\n    .dataframe tbody tr th:only-of-type {\n        vertical-align: middle;\n    }\n\n    .dataframe tbody tr th {\n        vertical-align: top;\n    }\n\n    .dataframe thead th {\n        text-align: right;\n    }\n</style>\n<table border=\"1\" class=\"dataframe\">\n  <thead>\n    <tr style=\"text-align: right;\">\n      <th></th>\n      <th>rating</th>\n      <th>review</th>\n      <th>split</th>\n    </tr>\n  </thead>\n  <tbody>\n    <tr>\n      <th>0</th>\n      <td>negative</td>\n      <td>the entrance was the impressive thing about th...</td>\n      <td>train</td>\n    </tr>\n    <tr>\n      <th>1</th>\n      <td>negative</td>\n      <td>i m a mclover , and i had no problem nwith the...</td>\n      <td>train</td>\n    </tr>\n    <tr>\n      <th>2</th>\n      <td>negative</td>\n      <td>less than good here , not terrible , but i see...</td>\n      <td>train</td>\n    </tr>\n    <tr>\n      <th>3</th>\n      <td>negative</td>\n      <td>i don t know if i can ever bring myself to go ...</td>\n      <td>train</td>\n    </tr>\n    <tr>\n      <th>4</th>\n      <td>negative</td>\n      <td>food was ok good but the service was terrible ...</td>\n      <td>train</td>\n    </tr>\n  </tbody>\n</table>\n</div>"
     },
     "execution_count": 51,
     "metadata": {},
     "output_type": "execute_result"
    }
   ],
   "source": [
    "final_reviews.head()"
   ],
   "metadata": {
    "collapsed": false,
    "ExecuteTime": {
     "end_time": "2023-08-07T13:07:04.599426Z",
     "start_time": "2023-08-07T13:07:04.588199Z"
    }
   },
   "id": "fc205735171428c2"
  },
  {
   "cell_type": "code",
   "execution_count": 50,
   "outputs": [],
   "source": [
    "final_reviews.to_csv(args.output_munged_csv, index=False)"
   ],
   "metadata": {
    "collapsed": false,
    "ExecuteTime": {
     "end_time": "2023-08-07T13:06:54.207803Z",
     "start_time": "2023-08-07T13:06:49.616363Z"
    }
   },
   "id": "2841b7bac7d86489"
  }
 ],
 "metadata": {
  "kernelspec": {
   "display_name": "Python 3",
   "language": "python",
   "name": "python3"
  },
  "language_info": {
   "codemirror_mode": {
    "name": "ipython",
    "version": 2
   },
   "file_extension": ".py",
   "mimetype": "text/x-python",
   "name": "python",
   "nbconvert_exporter": "python",
   "pygments_lexer": "ipython2",
   "version": "2.7.6"
  }
 },
 "nbformat": 4,
 "nbformat_minor": 5
}
