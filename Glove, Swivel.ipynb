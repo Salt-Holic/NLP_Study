{
 "cells": [
  {
   "cell_type": "markdown",
   "source": [
    "## GloVe(Global Word Vector)\n",
    "2014년 미국 스탠포드대에서 개발된 워드 임베딩 기법\n",
    "\n",
    "Word2Vec와 LSA의 단점을 극복하여, 단어 벡터 간 유사도를 잘 측정하면서 말뭉치 전체에 대한 통계량을 잘 반영할 수 있는 임베딩 기법을 목표로 개발(카운트 기반과 예측 기반을 모두 사용)\n",
    "\n",
    "Word2Vec만큼 뛰어난 성능 둘 중 뭐가 더 뛰어나다 할 수 없어 모두 사용하고 성능이 더 좋은 것을 사용하는것이 좋음\n",
    "\n"
   ],
   "metadata": {
    "collapsed": false
   }
  },
  {
   "cell_type": "markdown",
   "source": [
    "## Swivel\n",
    "2016년 구글에서 발표한 행렬 분해 기반 단어 임베딩 기법\n",
    "\n",
    "GloVe가 단어-문맥 행렬을 분해하는 반면, Swivel은 PMI행렬을 분해하여 PMI의 단점을 커버할 수 있도록 설계"
   ],
   "metadata": {
    "collapsed": false
   }
  }
 ],
 "metadata": {
  "kernelspec": {
   "display_name": "Python 3",
   "language": "python",
   "name": "python3"
  },
  "language_info": {
   "codemirror_mode": {
    "name": "ipython",
    "version": 2
   },
   "file_extension": ".py",
   "mimetype": "text/x-python",
   "name": "python",
   "nbconvert_exporter": "python",
   "pygments_lexer": "ipython2",
   "version": "2.7.6"
  }
 },
 "nbformat": 4,
 "nbformat_minor": 0
}
