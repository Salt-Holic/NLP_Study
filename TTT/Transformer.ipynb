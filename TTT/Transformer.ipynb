{
 "cells": [
  {
   "cell_type": "code",
   "source": [
    "%%capture\n",
    "# capture는 주렁주렁 출력 보여주지 않게끔\n",
    "# 그래프에서 한글이 깨지지 않게 폰트 설치..\n",
    "# *맨처음에 셀 한 번 실행하고 세션 다시 시작하고 또 실행해야 반영됨!!\n",
    "!sudo apt-get install -y fonts-nanum\n",
    "!sudo fc-cache -fv\n",
    "!rm ~/.cache/matplotlib -rf\n",
    "import matplotlib.pyplot as plt\n",
    "plt.rc('font', family='NanumBarunGothic')"
   ],
   "metadata": {
    "id": "jCfL6bLPsKfh"
   },
   "execution_count": null,
   "outputs": []
  },
  {
   "cell_type": "code",
   "execution_count": null,
   "metadata": {
    "id": "zLax66xAd6EE"
   },
   "outputs": [],
   "source": [
    "%%capture\n",
    "!pip install gdown\n",
    "!pip install transformers\n",
    "!pip install sentencepiece # MarianTokenizer 불러올 때 필요\n",
    "!pip install sacremoses # MarianMTModel 에서 불러올 때 warning 뜨는 것 방지\n",
    "!pip install einops # 지리는 einops 쓰기 (Einstein operations)"
   ]
  },
  {
   "cell_type": "code",
   "execution_count": null,
   "metadata": {
    "id": "MTWYysoYmgVO",
    "colab": {
     "base_uri": "https://localhost:8080/"
    },
    "executionInfo": {
     "status": "ok",
     "timestamp": 1710431433517,
     "user_tz": -540,
     "elapsed": 23683,
     "user": {
      "displayName": "ppen hyuk",
      "userId": "06590780498642875598"
     }
    },
    "outputId": "a7264bcd-efe9-47d2-b518-7ecbebf47d09"
   },
   "outputs": [
    {
     "output_type": "stream",
     "name": "stdout",
     "text": [
      "Drive already mounted at /content/drive; to attempt to forcibly remount, call drive.mount(\"/content/drive\", force_remount=True).\n",
      "cpu\n"
     ]
    }
   ],
   "source": [
    "from google.colab import drive\n",
    "drive.mount('/content/drive')\n",
    "import torch\n",
    "from torch import nn, optim\n",
    "from torch.optim.lr_scheduler import CosineAnnealingWarmRestarts\n",
    "from transformers import MarianMTModel, MarianTokenizer # MT: Machine Translation\n",
    "import pandas as pd\n",
    "from tqdm import tqdm\n",
    "import math\n",
    "from einops import rearrange\n",
    "\n",
    "DEVICE = \"cuda\" if torch.cuda.is_available() else \"cpu\"\n",
    "print(DEVICE)"
   ]
  },
  {
   "cell_type": "code",
   "execution_count": null,
   "metadata": {
    "id": "M91CMRBUxnOX",
    "colab": {
     "base_uri": "https://localhost:8080/"
    },
    "executionInfo": {
     "status": "ok",
     "timestamp": 1710431454644,
     "user_tz": -540,
     "elapsed": 21141,
     "user": {
      "displayName": "ppen hyuk",
      "userId": "06590780498642875598"
     }
    },
    "outputId": "c24ad191-0c5b-49f8-cba4-2b87761df552"
   },
   "outputs": [
    {
     "output_type": "stream",
     "name": "stderr",
     "text": [
      "/usr/local/lib/python3.10/dist-packages/huggingface_hub/utils/_token.py:88: UserWarning: \n",
      "The secret `HF_TOKEN` does not exist in your Colab secrets.\n",
      "To authenticate with the Hugging Face Hub, create a token in your settings tab (https://huggingface.co/settings/tokens), set it as secret in your Google Colab and restart your session.\n",
      "You will be able to reuse this secret in all of your notebooks.\n",
      "Please note that authentication is recommended but still optional to access public models or datasets.\n",
      "  warnings.warn(\n"
     ]
    }
   ],
   "source": [
    "# Load the tokenizer & input embedding layer & last fc layer\n",
    "tokenizer = MarianTokenizer.from_pretrained('Helsinki-NLP/opus-mt-ko-en')\n",
    "model = MarianMTModel.from_pretrained('Helsinki-NLP/opus-mt-ko-en') # MT: Machine Translation\n",
    "# input_embedding = model.get_input_embeddings() # 일부 사이즈 큰 놈들은 데려와서 나머지만 학습시키려는 시도\n",
    "# input_embedding.weight.requires_grad = False # freeze\n",
    "# fc_out = model.get_output_embeddings()\n",
    "# fc_out.weight.requires_grad = False"
   ]
  },
  {
   "cell_type": "code",
   "source": [
    "eos_idx = tokenizer.eos_token_id\n",
    "pad_idx = tokenizer.pad_token_id\n",
    "print(\"eos_idx = \", eos_idx)\n",
    "print(\"pad_idx = \", pad_idx)"
   ],
   "metadata": {
    "id": "7JVm2cLU7RFT",
    "colab": {
     "base_uri": "https://localhost:8080/"
    },
    "executionInfo": {
     "status": "ok",
     "timestamp": 1710431454644,
     "user_tz": -540,
     "elapsed": 6,
     "user": {
      "displayName": "ppen hyuk",
      "userId": "06590780498642875598"
     }
    },
    "outputId": "1184ba43-5134-4c20-a3e7-5ce7dbf569d6"
   },
   "execution_count": null,
   "outputs": [
    {
     "output_type": "stream",
     "name": "stdout",
     "text": [
      "eos_idx =  0\n",
      "pad_idx =  65000\n"
     ]
    }
   ]
  },
  {
   "cell_type": "markdown",
   "metadata": {
    "id": "F5yc63mSLmhA"
   },
   "source": [
    "## 하이퍼파라미터 조정"
   ]
  },
  {
   "cell_type": "code",
   "execution_count": null,
   "metadata": {
    "id": "LrCcO4lFbavF",
    "colab": {
     "base_uri": "https://localhost:8080/"
    },
    "executionInfo": {
     "status": "ok",
     "timestamp": 1710431463919,
     "user_tz": -540,
     "elapsed": 9279,
     "user": {
      "displayName": "ppen hyuk",
      "userId": "06590780498642875598"
     }
    },
    "outputId": "5369c47e-6ce4-435e-87d7-4f36f5f7ae85"
   },
   "outputs": [
    {
     "output_type": "stream",
     "name": "stdout",
     "text": [
      "Downloading...\n",
      "From: https://drive.google.com/uc?id=1bjbeWgqlVKJ9gzDcL1hfD9cIItQy9_N2\n",
      "To: /content/Transformer_small.pt\n",
      "100% 448M/448M [00:05<00:00, 82.0MB/s]\n",
      "Downloading...\n",
      "From: https://drive.google.com/uc?id=1M0yYP2umxlwaAbk_iq5G_Z5y3qLu9Wet\n",
      "To: /content/Transformer_small_history.pt\n",
      "100% 775/775 [00:00<00:00, 2.54MB/s]\n"
     ]
    }
   ],
   "source": [
    "BATCH_SIZE = 64 # 논문에선 2.5만 token이 한 batch에 담기게 했다고 함.\n",
    "LAMBDA = 0 # l2-Regularization를 위한 hyperparam. # 저장된 모델\n",
    "EPOCH = 15 # 저장된 모델\n",
    "# max_len = 512 # model.model.encoder.embed_positions 를 보면 512로 했음을 알 수 있다.\n",
    "max_len = 100 # 너무 긴거 같아서 자름 (GPU 부담도 많이 덜어짐)\n",
    "criterion = nn.CrossEntropyLoss(ignore_index = pad_idx) # pad token 이 출력 나와야하는 시점의 loss는 무시 (즉, label이 <pad> 일 때는 무시) # 저장된 모델\n",
    "# criterion = nn.CrossEntropyLoss(ignore_index = pad_idx, label_smoothing = 0.1) # 막상 해보니 성능 안나옴 <- 데이터가 많아야 할 듯\n",
    "\n",
    "scheduler_name = 'Noam'\n",
    "# scheduler_name = 'Cos'\n",
    "#### Noam ####\n",
    "# warmup_steps = 4000 # 이건 논문에서 제시한 값 (총 10만 step의 4%)\n",
    "warmup_steps = 1500 # 데이터 수 * EPOCH / BS = 총 step 수 인것 고려 # 저장된 모델\n",
    "LR_scale = 0.5 # Noam scheduler에 peak LR 값 조절을 위해 곱해질 녀석 # 저장된 모델\n",
    "#### Cos ####\n",
    "LR_init = 5e-4\n",
    "T0 = 1500 # 첫 주기\n",
    "T_mult = 2 # 배 만큼 주기가 길어짐 (1보다 큰 정수여야 함)\n",
    "#############\n",
    "\n",
    "new_model_train = False\n",
    "hyuk_model_use = True # 여러분만의 모델 만들어서 사용하고 싶다면 False로\n",
    "\n",
    "if hyuk_model_use:\n",
    "    !gdown https://drive.google.com/uc?id=1bjbeWgqlVKJ9gzDcL1hfD9cIItQy9_N2 -O Transformer_small.pt\n",
    "    !gdown https://drive.google.com/uc?id=1M0yYP2umxlwaAbk_iq5G_Z5y3qLu9Wet -O Transformer_small_history.pt\n",
    "\n",
    "    save_model_path = 'Transformer_small.pt'\n",
    "    save_history_path = 'Transformer_small_history.pt'\n",
    "else:\n",
    "    save_model_path = '/content/drive/MyDrive/Colab Notebooks/results/Transformer_small2.pt'\n",
    "    save_history_path = '/content/drive/MyDrive/Colab Notebooks/results/Transformer_small2_history.pt'"
   ]
  },
  {
   "cell_type": "code",
   "execution_count": null,
   "metadata": {
    "id": "z_s8XVEO0FJV",
    "colab": {
     "base_uri": "https://localhost:8080/"
    },
    "executionInfo": {
     "status": "ok",
     "timestamp": 1710431463920,
     "user_tz": -540,
     "elapsed": 43,
     "user": {
      "displayName": "ppen hyuk",
      "userId": "06590780498642875598"
     }
    },
    "outputId": "25d8c23a-0768-4602-e7ca-6e9c5b7cc93a"
   },
   "outputs": [
    {
     "output_type": "stream",
     "name": "stdout",
     "text": [
      "65001\n"
     ]
    }
   ],
   "source": [
    "vocab_size = tokenizer.vocab_size\n",
    "print(vocab_size)\n",
    "\n",
    "# 논문에 나오는 base 모델 (train loss를 많이 줄이려면 많은 Epoch이 요구됨, 또, test 성능도 좋으려면 더 많은 데이터 요구)\n",
    "# n_layers = 6\n",
    "# d_model = 512\n",
    "# d_ff = 2048\n",
    "# n_heads = 8\n",
    "# drop_p = 0.1\n",
    "\n",
    "# 좀 사이즈 줄인 모델 (훈련된 input_embedding, fc_out 사용하면 사용 불가)\n",
    "n_layers = 3\n",
    "d_model = 256\n",
    "d_ff = 512\n",
    "n_heads = 8\n",
    "drop_p = 0.1"
   ]
  },
  {
   "cell_type": "markdown",
   "source": [
    "## 토크나이저 & 학습된 모델 써보기"
   ],
   "metadata": {
    "id": "IW3yD7ps3GO7"
   }
  },
  {
   "cell_type": "code",
   "execution_count": null,
   "metadata": {
    "id": "RDM4hb-m-p9R",
    "colab": {
     "base_uri": "https://localhost:8080/"
    },
    "executionInfo": {
     "status": "ok",
     "timestamp": 1710431463920,
     "user_tz": -540,
     "elapsed": 39,
     "user": {
      "displayName": "ppen hyuk",
      "userId": "06590780498642875598"
     }
    },
    "outputId": "9d8a80a3-ddd6-425e-fd0c-eaf6c274de3b"
   },
   "outputs": [
    {
     "output_type": "stream",
     "name": "stdout",
     "text": [
      "['▁H', 'i', ',', '▁I', \"'\", 'm', '▁H', 'y', 'u', 'k', '.', '▁', '...', '▁a', '▁a', '?']\n",
      "['▁a', '/', 'b', '▁1', '+2', '+3', '▁2:', '1', '▁a', '>', 'b']\n",
      "['▁p', 're', 'tra', 'in', 'ed', '▁re', 'st', 'art']\n",
      "['▁ch', 'at', 'G', 'P', 'T']\n",
      "['▁The', '▁', 'ex', 'am', 'ple', '▁is', '▁', 'very', '▁good', '▁in', '▁', 'our', '▁', 'le', 'c', 'ture']\n",
      "['▁한', '글', '은', '▁어떻게', '▁할까', '?']\n",
      "['▁확실히', '▁띄', '어', '쓰기', '▁기준으로', '▁토', '크', '나이', '징', '을', '▁하는', '▁것', '▁같', '진', '▁않다', '.']\n",
      "['▁조사', '는', '?', '▁나는', '▁너는', '▁우리는', '▁강의', '는', '▁너와', '▁나의', '▁내가', '▁너가', '▁나무가', '▁', '헿']\n",
      "['▁마음대로', '▁추가', '▁문장']\n"
     ]
    }
   ],
   "source": [
    "# tokenizer 써보기 (_로 띄어쓰기를 나타낸다! 즉, _가 없으면 이어진 한 단어임을 나타냄 subword tokenizing)\n",
    "# 토크나이저에 대해 참고 자료: https://ratsgo.github.io/nlpbook/docs/preprocess/bpe/\n",
    "print(tokenizer.tokenize(\"Hi, I'm Hyuk. ...        a   a?\"))\n",
    "print(tokenizer.tokenize(\"a/b 1+2+3 2:1 a>b\"))\n",
    "print(tokenizer.tokenize(\"pretrained restart\"))\n",
    "print(tokenizer.tokenize(\"chatGPT\"))\n",
    "print(tokenizer.tokenize(\"The example is very good in our lecture\")) # 띄어쓰기도 tokenize 할 때가 있다.\n",
    "print(tokenizer.tokenize(\"한글은 어떻게 할까?\"))\n",
    "print(tokenizer.tokenize(\"확실히 띄어쓰기 기준으로 토크나이징을 하는 것 같진 않다.\"))\n",
    "print(tokenizer.tokenize(\"조사는? 나는 너는 우리는 강의는 너와 나의 내가 너가 나무가 헿\"))\n",
    "print(tokenizer.tokenize(\"마음대로 추가 문장\"))"
   ]
  },
  {
   "cell_type": "code",
   "execution_count": 1,
   "metadata": {
    "id": "JW5RLzZCo0QT",
    "colab": {
     "base_uri": "https://localhost:8080/"
    },
    "executionInfo": {
     "status": "ok",
     "timestamp": 1710431474653,
     "user_tz": -540,
     "elapsed": 10770,
     "user": {
      "displayName": "ppen hyuk",
      "userId": "06590780498642875598"
     }
    },
    "outputId": "612bc738-a561-4e44-9c5e-b7d20d55365e",
    "ExecuteTime": {
     "end_time": "2024-03-23T17:01:07.641410Z",
     "start_time": "2024-03-23T17:01:07.559495Z"
    }
   },
   "outputs": [
    {
     "ename": "NameError",
     "evalue": "name 'tokenizer' is not defined",
     "output_type": "error",
     "traceback": [
      "\u001B[0;31m---------------------------------------------------------------------------\u001B[0m",
      "\u001B[0;31mNameError\u001B[0m                                 Traceback (most recent call last)",
      "Cell \u001B[0;32mIn[1], line 1\u001B[0m\n\u001B[0;32m----> 1\u001B[0m \u001B[38;5;28mprint\u001B[39m(\u001B[43mtokenizer\u001B[49m\u001B[38;5;241m.\u001B[39mget_vocab())\n\u001B[1;32m      2\u001B[0m \u001B[38;5;28mprint\u001B[39m(tokenizer\u001B[38;5;241m.\u001B[39mvocab_size)\n\u001B[1;32m      4\u001B[0m \u001B[38;5;28mprint\u001B[39m(tokenizer\u001B[38;5;241m.\u001B[39mencode(\u001B[38;5;124m'\u001B[39m\u001B[38;5;124m지능\u001B[39m\u001B[38;5;124m'\u001B[39m, add_special_tokens\u001B[38;5;241m=\u001B[39m\u001B[38;5;28;01mFalse\u001B[39;00m)) \u001B[38;5;66;03m# string to index\u001B[39;00m\n",
      "\u001B[0;31mNameError\u001B[0m: name 'tokenizer' is not defined"
     ]
    }
   ],
   "source": [
    "print(tokenizer.get_vocab())\n",
    "print(tokenizer.vocab_size)\n",
    "\n",
    "print(tokenizer.encode('지능', add_special_tokens=False)) # string to index\n",
    "print(tokenizer.encode('<pad>', add_special_tokens=False)) # <pad>는 65000\n",
    "print(tokenizer.encode('</s>', add_special_tokens=False)) # <sos> or <eos>는 0\n",
    "print(tokenizer.encode('He', add_special_tokens=False)) # add_special_tokens=False 는 <eos> 자동 붙여주는 것을 방지\n",
    "print(tokenizer.encode('he', add_special_tokens=False)) # 대소문자 다른 단어로 인식\n",
    "print(tokenizer.tokenize('문장을 넣으면 토크나이즈해서 숫자로 바꾼다'))\n",
    "print(tokenizer.encode('문장을 넣으면 토크나이즈해서 숫자로 바꾼다', add_special_tokens=False))\n",
    "print(tokenizer.decode([204]))\n",
    "print(tokenizer.decode([206]))\n",
    "print(tokenizer.decode([210]))\n",
    "print(tokenizer.decode(list(range(15)) + [65000,65001,65002,65003]))"
   ]
  },
  {
   "cell_type": "code",
   "execution_count": null,
   "metadata": {
    "id": "bDKo6PAk-thZ",
    "colab": {
     "base_uri": "https://localhost:8080/"
    },
    "executionInfo": {
     "status": "ok",
     "timestamp": 1710431479440,
     "user_tz": -540,
     "elapsed": 4790,
     "user": {
      "displayName": "ppen hyuk",
      "userId": "06590780498642875598"
     }
    },
    "outputId": "81a4b9a3-63ed-4a0e-ac7d-3a25952b3b71"
   },
   "outputs": [
    {
     "output_type": "stream",
     "name": "stdout",
     "text": [
      "입력: 헐! 대박 쩐다!\n",
      "AI의 번역: Oh, my God! That's awesome!\n"
     ]
    }
   ],
   "source": [
    "# 사전 학습된 모델로 번역해보기 (생각보다 성능 좋네)\n",
    "input_text = \"헐! 대박 쩐다!\"\n",
    "\n",
    "input_tokens = tokenizer.encode(input_text, return_tensors=\"pt\")\n",
    "translated_tokens = model.generate(input_tokens, max_new_tokens=max_len) # shape = (batch, seq)\n",
    "translated_text = tokenizer.decode(translated_tokens[0], skip_special_tokens=True)\n",
    "\n",
    "print(\"입력:\", input_text)\n",
    "print(\"AI의 번역:\", translated_text)"
   ]
  },
  {
   "cell_type": "markdown",
   "metadata": {
    "id": "BEdSAEdAYzBf"
   },
   "source": [
    "## DS, DL 생성 & 테스트"
   ]
  },
  {
   "cell_type": "code",
   "source": [
    "# data 다운\n",
    "# %%capture\n",
    "# https://aihub.or.kr/aihubdata/data/view.do?currMenu=115&topMenu=100&aihubDataSe=realm&dataSetSn=126 에서 받을 수 있어요\n",
    "!gdown https://drive.google.com/uc?id=1r4ZnFJOStyBlNRx7snBQ-Iq2GNyJKL6t -O '대화체.xlsx'"
   ],
   "metadata": {
    "id": "VmDVZxIOdnKJ",
    "colab": {
     "base_uri": "https://localhost:8080/"
    },
    "executionInfo": {
     "status": "ok",
     "timestamp": 1710431489039,
     "user_tz": -540,
     "elapsed": 9616,
     "user": {
      "displayName": "ppen hyuk",
      "userId": "06590780498642875598"
     }
    },
    "outputId": "9ff21d59-2176-432c-d18e-41a83dbae465"
   },
   "execution_count": null,
   "outputs": [
    {
     "output_type": "stream",
     "name": "stdout",
     "text": [
      "Downloading...\n",
      "From: https://drive.google.com/uc?id=1r4ZnFJOStyBlNRx7snBQ-Iq2GNyJKL6t\n",
      "To: /content/대화체.xlsx\n",
      "100% 9.57M/9.57M [00:00<00:00, 29.6MB/s]\n"
     ]
    }
   ]
  },
  {
   "cell_type": "code",
   "execution_count": null,
   "metadata": {
    "id": "LO8CDAgiFzgW",
    "colab": {
     "base_uri": "https://localhost:8080/"
    },
    "executionInfo": {
     "status": "ok",
     "timestamp": 1710431504483,
     "user_tz": -540,
     "elapsed": 15456,
     "user": {
      "displayName": "ppen hyuk",
      "userId": "06590780498642875598"
     }
    },
    "outputId": "c822b2aa-1a99-4af8-f289-aca8b94d187c"
   },
   "outputs": [
    {
     "output_type": "stream",
     "name": "stdout",
     "text": [
      "95000\n",
      "2000\n",
      "1000\n"
     ]
    }
   ],
   "source": [
    "class CustomDataset(torch.utils.data.Dataset):\n",
    "    def __init__(self, data):\n",
    "        self.data = data\n",
    "\n",
    "    def __len__(self):\n",
    "        return self.data.shape[0]\n",
    "\n",
    "    def __getitem__(self, idx):\n",
    "        return self.data.loc[idx, '원문'], self.data.loc[idx, '번역문']\n",
    "\n",
    "data = pd.read_excel('대화체.xlsx')\n",
    "custom_DS = CustomDataset(data)\n",
    "\n",
    "train_DS, val_DS, test_DS, _ = torch.utils.data.random_split(custom_DS, [95000, 2000, 1000, len(custom_DS)-95000-2000-1000])\n",
    "# 논문에서는 450만개 영,독 문장 pair 사용\n",
    "\n",
    "train_DL = torch.utils.data.DataLoader(train_DS, batch_size=BATCH_SIZE, shuffle=True)\n",
    "val_DL = torch.utils.data.DataLoader(val_DS, batch_size=BATCH_SIZE, shuffle=True)\n",
    "test_DL = torch.utils.data.DataLoader(test_DS, batch_size=BATCH_SIZE, shuffle=True)\n",
    "\n",
    "print(len(train_DS))\n",
    "print(len(val_DS))\n",
    "print(len(test_DS))"
   ]
  },
  {
   "cell_type": "code",
   "execution_count": null,
   "metadata": {
    "id": "cStafJLkxb6E",
    "colab": {
     "base_uri": "https://localhost:8080/"
    },
    "executionInfo": {
     "status": "ok",
     "timestamp": 1710431504484,
     "user_tz": -540,
     "elapsed": 11,
     "user": {
      "displayName": "ppen hyuk",
      "userId": "06590780498642875598"
     }
    },
    "outputId": "f314e817-dc8e-4c90-fbe9-254220d13892"
   },
   "outputs": [
    {
     "output_type": "stream",
     "name": "stdout",
     "text": [
      "93521\n",
      "다른 추석 선물 세트는 오른편에 보시면 잔뜩 있습니다.\n",
      "There are a bunch of other Chuseok gift sets on the right.\n"
     ]
    }
   ],
   "source": [
    "# test_DS 테스트\n",
    "i = 5\n",
    "idx = test_DS.indices[i]\n",
    "print(idx) # 엑셀 파일에서 idx번째 문장에 들어있음을 확인할 수 있다\n",
    "src_text, trg_text = custom_DS.__getitem__(idx)\n",
    "print(src_text)\n",
    "print(trg_text)"
   ]
  },
  {
   "cell_type": "code",
   "execution_count": null,
   "metadata": {
    "id": "g1eSFkg9pYkl",
    "colab": {
     "base_uri": "https://localhost:8080/"
    },
    "executionInfo": {
     "status": "ok",
     "timestamp": 1710431504484,
     "user_tz": -540,
     "elapsed": 9,
     "user": {
      "displayName": "ppen hyuk",
      "userId": "06590780498642875598"
     }
    },
    "outputId": "f2847720-32ea-4716-ffb2-27e5e855f215"
   },
   "outputs": [
    {
     "output_type": "stream",
     "name": "stdout",
     "text": [
      "('팀원들 모두 열심히 준비했는데 성과가 좋아서 기분이 좋아요.', '그래도 모든 직원이 나오게 찍는 사진이니까 촬영에 임해주셨으면 좋겠어요.', '제품에 문제가 있어서 교환하는 경우에는 저희가 택배비를 내드립니다.', '구글 클라우드 서비스로 변경하는 것은 어떻습니까?', '네, 개발되는 화장품에 관심이 많더라고요.', '분명 객실을 예약할 때 침대 2개를 했는데 1개 밖에 없네요.', '요즘은 점심 회식도 많다고 하는데 그런 거 해볼까 싶어요.', '경찰서에서 범죄 수사경력회보서를 발급받을 수 있어요.', '네, 색다른 즐거움과 재미를 위한 협업을 했습니다.', '저쪽 민원실 옆 투명한 방에 가시면 복사랑 팩스 이용하실 수 있어요.', '이곳에서 4박 5일을 묵는 건 무리였을지도 모르겠다.', '저도 그래요, 매년 이 일을 어떻게 하는지 모르겠어요.', '그렇지만 화장을 하거나 꾸밀 수가 없잖아.', '사실 때 받았던 영수증을 보여주시면 환불해드리겠습니다.', '면세점에서 꽤 많이 샀는데, 혹시 과세가 되지는 않을까요?', '크게 불편한 건 없고, 전부 한 봉투에 담아서 주세요.', '회사 앞에 새로 생긴 식당 있다는데, 거기 가볼래?', '응, 그냥 클라이맥스만 강조하려다 보니 오히려 지루해.', '다른 회사는 많이들 자율근무제 시행하던데.', '합격자 발표가 난 곳도 있나요?', '직장 다니니까 그런 프로그램 볼 시간이 없었지.', '그 정도까지는 힘들 것 같은데, 외부에서 찾아볼까요?', '수술 일자, 상병명 다 기재되어 있는 건가요?', '우리 다 같이 식사하려고 하는데, 같이 하실래요?', '가구 만드는 거 네 생각보다 그렇게 어렵지 않아.', '계속 같은 현상이 일어난다면 다시 한번 방문 수리를 받아보시겠어요?', '여러 가지 방법들이 있지만, 셔틀버스를 추천합니다.', '오늘은 너만을 위한 날이야.', '조금만 더 따뜻하게 해주시면 딱 좋을 것 같아요.', '시내의 모든 도로의 규정 속도가 50km/h로 바뀐 거 알아?', '연기 때문에 불빛도 잘 안 보이고 숨이 너무 막혀요.', '올해까지만이라도 같은 가격으로 진행해주셨으면 좋겠는데요.', '정말? 고마워, 밥 맛있게 잘 먹었어.', '대단하시네요. 그래도 시간이 꽤 걸리지 않나요?', '몇 가지를 쓰고 저한테 헷갈리는 부분들을 알려주세요.', '어제 사가신 두부는 맛있게 요리해 드셨어요?', '저희 방의 샤워가 고장 났는데 언제 고쳐 주실 건가요?', '알고 있습니다, 그래도 검토라도 해 주시죠.', '죄송하지만 에어컨이 고장 났다는 이야기는 오늘 처음 듣는데요.', '저기, 여행자 수표를 여기서 발급할 수 있을까요?', '여기 이 제품이 무선으로 이용 가능해서 많이 찾으세요.', '저도 가끔 실수를 하므로 이해할 수 있습니다.', '그래, 화장실은 아마도 오른쪽으로 쭉 가면 있을 거야.', '그 분한테 사정 설명하고 새 명찰 받으시면 돼요.', '그렇다면 프랑스에 가는 기차는 어디에서 타나요?', '지금은 흥미롭기도 하지만 무섭기도 한 기분이에요.', '혹시 카드가 아닌 현금으로 결제하면 조금 더 저렴한가요?', '코어 부품은 생각보다 내구성이 강해서 오래 갈 거예요.', '스마트 시대이다 보니 오히려 중년층들도 많이 사용합니다.', '일주일 동안 집을 비우려니까 마음이 싱숭생숭해요.', '네, 얼룩지지 않게 색상 잘 맞춰서 염색해드릴게요.', '자기를 이만큼이나 생각하고 있다는 걸 본인도 알아줘야 할 텐데.', '네, 가능합니다. 그럼 그때 뵙겠습니다.', '일회용 젓가락을 네 개 주실 수 있을까 싶어서요.', '나는 피넛 버터 쿠키 먹을 건데, 넌 뭐 먹을 거야?', '이번 파업은 다행이게도 협상이 빨리 타결됐다던데, 내가 들은 소식이 맞아요?', '정말요? 그럼 어떻게 해야 하죠? 어디서 열차를 갈아타야 하나요?', '사랑니를 지난 금요일에 뺐는데 자꾸만 그 틈에 음식물이 들어가네요.', '네, 토요일로 확정이니 더 이상 변동은 없을 겁니다.', '저희 수영장은 옥상층에 회원분들에게 제공하고 있습니다.', '안 그래도 이번 티켓 가격이 오른 게 저 사람이 유명해서 그런 거라는 말을 들었지.', '곧 비행기가 착륙할 예정이라 더는 맥주를 드릴 수 없습니다.', '여기 관광 지도에 추천 호텔과 전화번호가 나와 있으니 예약하시면 됩니다.', '고객님, 안녕하세요, 고객님의 강남 지점 단골 가게입니다.')\n",
      "(\"All the team members worked very hard and I'm glad that the results were good.\", \"But I hope you participate in the photoshoot because it's for everyone to be in.\", 'We pay the shipping fee for an exchange in the case of a defective product.', 'How about changing to Google Cloud Services?', 'Yeah, they had a ton of interest in cosmetics under development.', 'I am sure I asked for 2 beds when I made the reservation but there is only 1 bed.', 'They say they do a lot of lunch company get-togethers these days, so I am thinking of trying that.', 'You can get the criminal records issued at the police station.', \"Yeah, we've worked together for unique pleasure and excitement.\", 'You can use the facsimile if you go to the transparent room next to the public service center.', 'It may be a bad idea of staying here for 5 days.', 'Me too, I do not know how I do this every year.', \"But they can't put on make up nor pamper themselves.\", \"If you show us the receipt, we'll give you a refund.\", \"I've purchased quite a lot at the duty-free store, but won't they be taxed?\", \"That shouldn't be a big problem, so please put them all in 1 envelope.\", 'There is a new restaurant in front of the company, want to go try it out?', 'Yeah, they only tried to emphasize the climax, so it was boring.', 'Many other companies are carrying out flexible work hours.', 'Have you heard back from any of them?', \"I didn't have time to watch such programs since I was working.\", \"That's out of my capabilities. Should I find someone from outside?\", 'Does it have the date of surgery and name of disease listed?', \"We're all going to eat together, so would you like to join us?\", \"Making furniture isn't as hard as you think.\", 'If that continues to happen, would you like to receive a repair visit?', 'There are many ways, but I recommend a shuttle bus.', 'Today is your day and yours only.', \"Make it a little bit higher and it'll be just right.\", 'Do you know that the speed limit of all the streets in downtown changed to 50km/h?', \"Because of the smoke, I can't see the lights well and I can't breathe.\", 'I would like to ask you to keep the unit price just for the current year.', 'Really? Thank you, I enjoyed the meal.', \"That's great. Doesn't it take a while though?\", 'Write a few things down and tell me about the confusing parts.', 'Did you enjoy the tofu that you bought yesterday?', 'Our shower is broken. When are you going to fix it?', \"I know, but at least see what it's like, please.\", 'I am sorry but I had no idea that the air conditioner was broken.', \"Excuse me, can I issue traveler's checks here?\", 'This product here is wireless so many people ask for them.', 'I make mistakes sometimes so I can understand.', 'Okay, if you go right and straight, the washrooms will probably be there.', 'You can explain your situation to him and get a new name tag.', 'Then where should I go to take the train to France?', \"It's exciting, but I feel scared now.\", 'Is it cheaper if I pay with cash instead of a card?', 'The core parts are more durable than you think so they will last longer.', \"It's a smart age, so it is being used by middle-aged people as well.\", 'I feel weird to leave home for a week.', \"No, I will touch up with the right color, so it won't be spotty.\", 'She must know that you care for her that much.', 'Yes, that works. We’ll see you then.', 'Could you send four disposable chopsticks?', \"I'm going to have peanut butter cookies, what are you going to eat?\", 'Fortunately, I heard that the strike was settled quickly, is what I heard true?', 'Really? What should I do? Where can I change trains?', 'I had my wisdom tooth removed last Friday but the food keeps getting stuck in the gap.', 'Yes, since the final date is Saturday, there will be no more changes.', 'Our swimming pool is on the top floor available for our members.', \"I actually heard that an increase in the ticket price this time is because he's so renowned.\", \"The plane is about to land, so I can't give you any more beer.\", 'There are recommended hotels and phone numbers on this tourist map so you can make a reservation.', 'Hello, this is the branch in Gangnam area that you often visit.')\n",
      "64\n",
      "64\n",
      "tensor([[ 5951,   792,   424,   837, 12002,  2461,  4692, 27935,    62,   803,\n",
      "           212,  8417,  2305,     2,     0, 65000, 65000, 65000, 65000, 65000,\n",
      "         65000, 65000, 65000],\n",
      "        [ 3106,   262, 17564,    48, 29897,  9900,    55,  3672, 11170, 13272,\n",
      "            64,   604,   253, 47468, 23596,     2,     0, 65000, 65000, 65000,\n",
      "         65000, 65000, 65000]])\n",
      "tensor([[    0,   399,     4,     9,  3893,  2135,    75,   107,  7156,    10,\n",
      "             9, 11372,   194,     9, 18601,  3963,  5622,     8,    16,    12,\n",
      "           107,  2441,  1053,  3154,    15,     4,     9, 27342,  2021, 31435,\n",
      "            37,   101,   186,     2,     0, 65000, 65000, 65000, 65000, 65000,\n",
      "         65000, 65000],\n",
      "        [    0,   127,    16,  3963, 21707,    18,  1835,  1618,  4586,  7460,\n",
      "          2582,    13,     4,     9,  6519,  7099,  4641,  5732,  7099,    31,\n",
      "          4883,  9561,    24,    12,    10,    26,  3041, 18601,  3184,     5,\n",
      "            31,    13,     2,     0, 65000, 65000, 65000, 65000, 65000, 65000,\n",
      "         65000, 65000]])\n",
      "torch.Size([64, 23])\n",
      "torch.Size([64, 42])\n",
      "tensor([65000, 65000, 65000, 65000, 65000, 65000, 65000, 65000, 65000,     0,\n",
      "        65000, 65000, 65000, 65000, 65000, 65000, 65000, 65000, 65000, 65000,\n",
      "        65000, 65000, 65000, 65000, 65000, 65000, 65000, 65000, 65000, 65000,\n",
      "        65000, 65000, 65000, 65000, 65000, 65000, 65000, 65000, 65000, 65000,\n",
      "        65000, 65000, 65000, 65000, 65000, 65000, 65000, 65000, 65000, 65000,\n",
      "        65000, 65000, 65000, 65000, 65000, 65000, 65000, 65000, 65000, 65000,\n",
      "        65000, 65000, 65000, 65000])\n",
      "</s> You can use the facsimile if you go to the transparent room next to the public service center.</s>\n",
      "tensor([    0,    16,     9,  2135,   979, 12471,    16,    50,  1479,   194,\n",
      "           26,   182,    31, 39039,     9, 22614,  1252,    16,  1495, 12649,\n",
      "            4,     9, 27342,   360,  3405,  1664,    99,   109,    20,    39,\n",
      "          295,   132,   575,   194,     2,     0, 65000, 65000, 65000, 65000,\n",
      "        65000])\n",
      "tensor([   16,     9,  2135,   979, 12471,    16,    50,  1479,   194,    26,\n",
      "          182,    31, 39039,     9, 22614,  1252,    16,  1495, 12649,     4,\n",
      "            9, 27342,   360,  3405,  1664,    99,   109,    20,    39,   295,\n",
      "          132,   575,   194,     2,     0, 65000, 65000, 65000, 65000, 65000,\n",
      "        65000])\n"
     ]
    }
   ],
   "source": [
    "# train_DL 테스트\n",
    "src_texts, trg_texts = next(iter(train_DL)) # 데이터 한 국자 뜨기\n",
    "\n",
    "print(src_texts)\n",
    "print(trg_texts)\n",
    "print(len(src_texts))\n",
    "print(len(trg_texts))\n",
    "\n",
    "# 여러 문장에 대해서는 tokenizer.encode() 가 아닌 그냥 tokenizer()\n",
    "src = tokenizer(src_texts, padding=True, truncation=True, max_length = max_len, return_tensors='pt').input_ids # pt: pytorch tensor로 변환\n",
    "# add_special_tokens = True (default)면 마지막 토큰에 <eos> 가 붙어 나옴\n",
    "# truncation = True: max_len 보다 길면 끊고 <eos> 집어넣어버림\n",
    "# src에 <eos>가 있는 게 반드시 좋은 건지는 알 수 없지만 그냥 붙여봤어요..\n",
    "trg_texts = ['</s> ' + s for s in trg_texts]\n",
    "trg = tokenizer(trg_texts, padding=True, truncation=True, max_length = max_len, return_tensors='pt').input_ids\n",
    "\n",
    "print(src[:2])\n",
    "print(trg[:2])\n",
    "print(src.shape)\n",
    "print(trg.shape)\n",
    "print(trg[:,-1]) # 가장 마지막 단어를 보니 어떤 문장은 <eos> 로 끝이 났고 나머지는 <pad> 로 끝이 났다는 걸 볼 수 있음\n",
    "print(tokenizer.decode(trg[trg[:,-1]==eos_idx,:][0])) # 가장 긴 문장 중 첫 번째 문장 관찰\n",
    "print(trg[5,:-1]) # 디코더 입력\n",
    "print(trg[5,1:]) # 디코더 출력\n",
    "# 그런데 [:,:-1] 로 주면 패딩된 문장은 eos도 넣는 셈 아닌가? 맞다! 하지만 괜찮다. 어차피 출력으로 pad token이 기다리고 있으니.. (loss에서 ignore됨)"
   ]
  },
  {
   "cell_type": "code",
   "source": [
    "# 내가 쓸 train data 에 대해서 기존 model이 잘 번역하는지 확인\n",
    "i = 5\n",
    "idx = train_DS.indices[i]\n",
    "src_text, trg_text = custom_DS.__getitem__(idx)\n",
    "print(f\"입력: {src_text}\")\n",
    "print(f\"정답: {trg_text}\")\n",
    "\n",
    "src = tokenizer.encode(src_text, return_tensors='pt', add_special_tokens = True)\n",
    "# add_special_tokens = False 해보면 뭔가 이상하게 번역함 (학습 때 source에도 <eos>를 넣었단 증거?)\n",
    "translated_tokens = model.generate(src, max_new_tokens=max_len)\n",
    "translated_text = tokenizer.decode(translated_tokens[0], skip_special_tokens=False)\n",
    "\n",
    "print(f\"AI의 번역: {translated_text}\") # 디코더 첫 입력으로 <pad> 토큰을 넣었음. (<pad>를 <sos>로 사용)"
   ],
   "metadata": {
    "id": "ESCEFb8uEFg6",
    "colab": {
     "base_uri": "https://localhost:8080/"
    },
    "executionInfo": {
     "status": "ok",
     "timestamp": 1710431506084,
     "user_tz": -540,
     "elapsed": 1607,
     "user": {
      "displayName": "ppen hyuk",
      "userId": "06590780498642875598"
     }
    },
    "outputId": "d64e02b8-1f9c-45c4-8623-d4d048e5c0d4"
   },
   "execution_count": null,
   "outputs": [
    {
     "output_type": "stream",
     "name": "stdout",
     "text": [
      "입력: 야간 담당 간호사분께서 근무 중이시니 호출 벨을 눌러주시면 간호사가 올 겁니다.\n",
      "정답: We have a nurse on a night shift, press the bell and she'll come right over.\n",
      "AI의 번역: <pad> The night nurse is on duty, so if you can press the call bell, the nurse will come.</s>\n"
     ]
    }
   ]
  },
  {
   "cell_type": "markdown",
   "metadata": {
    "id": "u1QI9ylaH8jN"
   },
   "source": [
    "## 모델 구현"
   ]
  },
  {
   "cell_type": "markdown",
   "source": [
    "### Multi-Head Attention"
   ],
   "metadata": {
    "id": "YmYru6y0efTM"
   }
  },
  {
   "cell_type": "code",
   "execution_count": null,
   "metadata": {
    "id": "KHjUdTFQl4sW"
   },
   "outputs": [],
   "source": [
    "class MHA(nn.Module):\n",
    "    def __init__(self, d_model, n_heads):\n",
    "        super().__init__()\n",
    "\n",
    "        self.n_heads = n_heads\n",
    "\n",
    "        self.fc_q = nn.Linear(d_model, d_model) # 차 or 개x차 or 개x개x차 로 입력해줘야\n",
    "        self.fc_k = nn.Linear(d_model, d_model)\n",
    "        self.fc_v = nn.Linear(d_model, d_model)\n",
    "        self.fc_o = nn.Linear(d_model, d_model)\n",
    "\n",
    "        self.scale = torch.sqrt(torch.tensor(d_model / n_heads))\n",
    "\n",
    "    def forward(self, Q, K, V, mask = None):\n",
    "\n",
    "        Q = self.fc_q(Q) # 개단차\n",
    "        K = self.fc_k(K)\n",
    "        V = self.fc_v(V)\n",
    "\n",
    "        Q = rearrange(Q, '개 단 (헤 차) -> 개 헤 단 차', 헤 = self.n_heads) # 개단차 -> 개헤단차\n",
    "        K = rearrange(K, '개 단 (헤 차) -> 개 헤 단 차', 헤 = self.n_heads)\n",
    "        V = rearrange(V, '개 단 (헤 차) -> 개 헤 단 차', 헤 = self.n_heads)\n",
    "\n",
    "        attention_score = Q @ K.transpose(-2,-1)/self.scale # 개헤단단\n",
    "\n",
    "        if mask is not None:\n",
    "            attention_score[mask] = -1e10\n",
    "        attention_weights = torch.softmax(attention_score, dim=-1) # 개헤단단\n",
    "\n",
    "        attention = attention_weights @ V # 개헤단차\n",
    "\n",
    "        x = rearrange(attention, '개 헤 단 차 -> 개 단 (헤 차)') # 개헤단차 -> 개단차\n",
    "        x = self.fc_o(x) # 개단차\n",
    "\n",
    "        return x, attention_weights\n",
    "\n",
    "        # einops를 알기전\n",
    "        # batch_size = Q.shape[0]\n",
    "\n",
    "        # Q = self.fc_q(Q) # 개단차\n",
    "        # K = self.fc_k(K)\n",
    "        # V = self.fc_v(V)\n",
    "\n",
    "        # Q = Q.reshape(batch_size, -1, self.n_heads, self.head_dim).permute(0,2,1,3) # 개헤단차를 만들어줘야 한다 (QK^TV 연산을 위해)\n",
    "        # K = K.reshape(batch_size, -1, self.n_heads, self.head_dim).permute(0,2,1,3) # 이 때, 개단차 -> 개단헤차 -> 개헤단차\n",
    "        # V = V.reshape(batch_size, -1, self.n_heads, self.head_dim).permute(0,2,1,3) # 이 순서로 해야 reshape할 때 512를 8개로 쪼갬!!!\n",
    "\n",
    "        # attention_score = Q@K.permute(0,1,3,2)/self.scale # 개헤단단\n",
    "\n",
    "        # if mask is not None:\n",
    "        #     attention_score[mask] = -1e10 # mask.shape = 개헤단단\n",
    "        # attention_weights = torch.softmax(attention_score, dim=-1) # 개헤단단\n",
    "\n",
    "        # attention = attention_weights @ V # 개헤단차\n",
    "\n",
    "        # x = attention.permute(0,2,1,3) # 개단헤차\n",
    "        # x = x.reshape(batch_size, -1, self.d_model) # 개단차\n",
    "\n",
    "        # x = self.fc_o(x) # 개단차\n",
    "\n",
    "        # return x, attention_weights\n",
    "\n",
    "class FeedForward(nn.Module):\n",
    "    def __init__(self, d_model, d_ff, drop_p):\n",
    "        super().__init__()\n",
    "\n",
    "        self.linear = nn.Sequential(nn.Linear(d_model, d_ff),\n",
    "                                    nn.ReLU(),\n",
    "                                    nn.Dropout(drop_p), # 논문에는 명시되어 있지 않지만.. overfitting 취약한 부분이라\n",
    "                                    nn.Linear(d_ff, d_model))\n",
    "\n",
    "    def forward(self, x):\n",
    "        x = self.linear(x)\n",
    "        return x"
   ]
  },
  {
   "cell_type": "markdown",
   "source": [
    "#### rearrange, scaling 실험"
   ],
   "metadata": {
    "id": "GpNQ96PXeTMc"
   }
  },
  {
   "cell_type": "code",
   "source": [
    "Q = torch.randn(1, 4, 6) # 개단차\n",
    "print(Q)\n",
    "\n",
    "Q = rearrange(Q, '개 단 (헤 차) -> 개 헤 단 차', 헤 = 3) # 개단차 -> 개헤단차\n",
    "# 주의! (차 헤) 로 해보면 또 다름. 차원의 수 6을 헤드의 수 3으로 쪼개는 것이므로 (헤 차) 가 맞다\n",
    "print(Q)\n",
    "\n",
    "x = rearrange(Q, '개 헤 단 차 -> 개 단 (헤 차)') # 개헤단차 -> 개단차,\n",
    "print(x)\n",
    "print(x.shape)"
   ],
   "metadata": {
    "id": "IissYFn5xgYo",
    "colab": {
     "base_uri": "https://localhost:8080/"
    },
    "executionInfo": {
     "status": "ok",
     "timestamp": 1710431506084,
     "user_tz": -540,
     "elapsed": 17,
     "user": {
      "displayName": "ppen hyuk",
      "userId": "06590780498642875598"
     }
    },
    "outputId": "7fe7a187-3f59-4371-e89b-8f27f14ec3d1"
   },
   "execution_count": null,
   "outputs": [
    {
     "output_type": "stream",
     "name": "stdout",
     "text": [
      "tensor([[[ 0.0580,  1.9497, -0.5643, -1.8105, -0.3094, -0.7563],\n",
      "         [-0.3868,  0.2235, -1.3808, -1.1754,  0.0704, -2.0027],\n",
      "         [ 2.1684, -1.1149,  1.5260, -1.1570,  1.2181, -3.3233],\n",
      "         [-0.1865,  0.5739,  0.0320,  0.4919, -0.0487, -0.4744]]])\n",
      "tensor([[[[ 0.0580,  1.9497],\n",
      "          [-0.3868,  0.2235],\n",
      "          [ 2.1684, -1.1149],\n",
      "          [-0.1865,  0.5739]],\n",
      "\n",
      "         [[-0.5643, -1.8105],\n",
      "          [-1.3808, -1.1754],\n",
      "          [ 1.5260, -1.1570],\n",
      "          [ 0.0320,  0.4919]],\n",
      "\n",
      "         [[-0.3094, -0.7563],\n",
      "          [ 0.0704, -2.0027],\n",
      "          [ 1.2181, -3.3233],\n",
      "          [-0.0487, -0.4744]]]])\n",
      "tensor([[[ 0.0580,  1.9497, -0.5643, -1.8105, -0.3094, -0.7563],\n",
      "         [-0.3868,  0.2235, -1.3808, -1.1754,  0.0704, -2.0027],\n",
      "         [ 2.1684, -1.1149,  1.5260, -1.1570,  1.2181, -3.3233],\n",
      "         [-0.1865,  0.5739,  0.0320,  0.4919, -0.0487, -0.4744]]])\n",
      "torch.Size([1, 4, 6])\n"
     ]
    }
   ]
  },
  {
   "cell_type": "code",
   "source": [
    "# Q = torch.randn(1, 4, 6) # 개단차\n",
    "# print(Q)\n",
    "\n",
    "# Q = Q.reshape(1, -1, 3, 2).permute(0,2,1,3) # 개헤단차를 만들어줘야 한다 (QK^TV 연산을 위해)\n",
    "# 이 때, 개단차 -> 개단헤차 -> 개헤단차\n",
    "# 이 순서로 해야 reshape할 때 512를 8개로 쪼갬!!!\n",
    "# print(Q)\n",
    "\n",
    "# x = Q.permute(0,2,1,3) # 개단헤차\n",
    "# x = x.reshape(1, -1, 6) # 개단차\n",
    "# print(x)"
   ],
   "metadata": {
    "id": "_CI30fky-EEU"
   },
   "execution_count": null,
   "outputs": []
  },
  {
   "cell_type": "code",
   "execution_count": null,
   "metadata": {
    "id": "t026BQxhtw0d",
    "colab": {
     "base_uri": "https://localhost:8080/",
     "height": 448
    },
    "executionInfo": {
     "status": "ok",
     "timestamp": 1710431528448,
     "user_tz": -540,
     "elapsed": 22375,
     "user": {
      "displayName": "ppen hyuk",
      "userId": "06590780498642875598"
     }
    },
    "outputId": "86cefee8-08ee-4422-ea6e-2f074df2b199"
   },
   "outputs": [
    {
     "output_type": "execute_result",
     "data": {
      "text/plain": [
       "[<matplotlib.lines.Line2D at 0x7a9584010b50>]"
      ]
     },
     "metadata": {},
     "execution_count": 19
    },
    {
     "output_type": "display_data",
     "data": {
      "text/plain": [
       "<Figure size 640x480 with 1 Axes>"
      ],
      "image/png": "[encoded data removed]"
     },
     "metadata": {}
    }
   ],
   "source": [
    "# 왜 scaling을 sqrt(dk) 로? <- 일단 나누는 이유: 안나누면 softmax로 들어갈때 분산이 크면 grad가 작아짐\n",
    "n=torch.arange(1,513)\n",
    "N=1000\n",
    "result=[]\n",
    "for ni in n:\n",
    "    inner_prod = torch.zeros(N)\n",
    "    for i in range(N):\n",
    "        inner_prod[i] = torch.randn(ni,1).T@torch.randn(ni,1) # 내적값을 N번 구해서 var 구해보자\n",
    "    result += [torch.var(inner_prod)]\n",
    "\n",
    "plt.plot(n,result)\n",
    "plt.plot(n,n,'r') # variance 가 점점커지니까 std로 나눠서 unit variance로 만들자는 것!"
   ]
  },
  {
   "cell_type": "markdown",
   "source": [
    "### Encoder"
   ],
   "metadata": {
    "id": "k_h-MNJoeN9C"
   }
  },
  {
   "cell_type": "code",
   "execution_count": null,
   "metadata": {
    "id": "phbQS65u8sre"
   },
   "outputs": [],
   "source": [
    "class EncoderLayer(nn.Module):\n",
    "    def __init__(self, d_model, d_ff, n_heads, drop_p):\n",
    "        super().__init__()\n",
    "\n",
    "        self.self_atten = MHA(d_model, n_heads)\n",
    "        self.self_atten_LN = nn.LayerNorm(d_model)\n",
    "\n",
    "        self.FF = FeedForward(d_model, d_ff, drop_p)\n",
    "        self.FF_LN = nn.LayerNorm(d_model)\n",
    "\n",
    "        self.dropout = nn.Dropout(drop_p)\n",
    "\n",
    "    def forward(self, x, enc_mask):\n",
    "\n",
    "        residual, atten_enc = self.self_atten(x, x, x, enc_mask) # 인코더에도 마스크가?!\n",
    "        residual = self.dropout(residual)\n",
    "        x = self.self_atten_LN(x + residual)\n",
    "\n",
    "        residual = self.FF(x)\n",
    "        residual = self.dropout(residual)\n",
    "        x = self.FF_LN(x + residual)\n",
    "\n",
    "        return x, atten_enc\n",
    "\n",
    "class Encoder(nn.Module):\n",
    "    def __init__(self, input_embedding, max_len, n_layers, d_model, d_ff, n_heads, drop_p):\n",
    "        super().__init__()\n",
    "\n",
    "        self.scale = torch.sqrt(torch.tensor(d_model))\n",
    "        self.input_embedding = input_embedding\n",
    "        self.pos_embedding = nn.Embedding(max_len, d_model)\n",
    "\n",
    "        self.dropout = nn.Dropout(drop_p)\n",
    "\n",
    "        self.layers = nn.ModuleList([EncoderLayer(d_model, d_ff, n_heads, drop_p) for _ in range(n_layers)])\n",
    "\n",
    "    def forward(self, src, mask, atten_map_save = False): # src.shape = 개단, mask.shape = 개헤단단\n",
    "\n",
    "        pos = torch.arange(src.shape[1]).expand_as(src).to(DEVICE) # 개단\n",
    "\n",
    "        x = self.scale*self.input_embedding(src) + self.pos_embedding(pos) # 개단차\n",
    "        # self.scale 을 곱해주면 position 보다 token 정보를 더 보게 된다 (gradient에 self.scale 만큼이 더 곱해짐)\n",
    "        x = self.dropout(x)\n",
    "\n",
    "        atten_encs = torch.tensor([]).to(DEVICE)\n",
    "        for layer in self.layers:\n",
    "            x, atten_enc = layer(x, mask)\n",
    "            if atten_map_save is True:\n",
    "                atten_encs = torch.cat([atten_encs , atten_enc[0].unsqueeze(0)], dim=0) # 층헤단단 ㅋ\n",
    "\n",
    "        return x, atten_encs"
   ]
  },
  {
   "cell_type": "markdown",
   "source": [
    "#### expand_as, nn.embedding 실험"
   ],
   "metadata": {
    "id": "YWVnXSIpd2Au"
   }
  },
  {
   "cell_type": "code",
   "source": [
    "src = torch.randn(3,5) # 개단\n",
    "pos = torch.arange(5).expand_as(src).to(DEVICE)\n",
    "print(src)\n",
    "print(pos)"
   ],
   "metadata": {
    "colab": {
     "base_uri": "https://localhost:8080/"
    },
    "id": "JJ82B97Ufj9o",
    "executionInfo": {
     "status": "ok",
     "timestamp": 1710431528449,
     "user_tz": -540,
     "elapsed": 11,
     "user": {
      "displayName": "ppen hyuk",
      "userId": "06590780498642875598"
     }
    },
    "outputId": "d941df3f-3f89-4edf-9c04-9beb7bdbad83"
   },
   "execution_count": null,
   "outputs": [
    {
     "output_type": "stream",
     "name": "stdout",
     "text": [
      "tensor([[-0.9167,  0.6734, -0.4509,  0.4858,  0.8737],\n",
      "        [-0.7553,  0.5952,  0.1280,  0.0700,  0.8801],\n",
      "        [ 1.6790,  1.2980, -1.8116, -0.0711,  1.4209]])\n",
      "tensor([[0, 1, 2, 3, 4],\n",
      "        [0, 1, 2, 3, 4],\n",
      "        [0, 1, 2, 3, 4]])\n"
     ]
    }
   ]
  },
  {
   "cell_type": "code",
   "execution_count": null,
   "metadata": {
    "id": "0OKjkrQo6IJk",
    "colab": {
     "base_uri": "https://localhost:8080/"
    },
    "executionInfo": {
     "status": "ok",
     "timestamp": 1710431528916,
     "user_tz": -540,
     "elapsed": 475,
     "user": {
      "displayName": "ppen hyuk",
      "userId": "06590780498642875598"
     }
    },
    "outputId": "c6bd9cca-194d-4a2b-86f1-4aaead4f7b45"
   },
   "outputs": [
    {
     "output_type": "stream",
     "name": "stdout",
     "text": [
      "torch.Size([10, 5])\n",
      "tensor([-0.3890, -0.3947, -0.1002,  0.6274, -0.7930],\n",
      "       grad_fn=<EmbeddingBackward0>)\n",
      "tensor([[[-1.2740,  0.5692,  1.4260, -2.3240, -1.1743],\n",
      "         [ 0.8761, -0.0868,  0.3428,  2.2290, -0.8240],\n",
      "         [-0.3890, -0.3947, -0.1002,  0.6274, -0.7930]],\n",
      "\n",
      "        [[-0.3890, -0.3947, -0.1002,  0.6274, -0.7930],\n",
      "         [ 0.8761, -0.0868,  0.3428,  2.2290, -0.8240],\n",
      "         [-1.2618,  0.2368, -1.7425,  0.0215, -0.9853]]],\n",
      "       grad_fn=<EmbeddingBackward0>)\n",
      "torch.Size([2, 3, 5])\n"
     ]
    }
   ],
   "source": [
    "# nn.Embedding 실험\n",
    "emb=nn.Embedding(10,5) # one-hot encoding 된 벡터가 통과된다는 것이 약속된 상태의 FC layer 인 것\n",
    "print(emb.weight.shape) # weight 개수는 nn.Linear(10,5) 과 동일! 동작 방식이 다른 것\n",
    "print(emb(torch.tensor(2)))\n",
    "\n",
    "print(emb(torch.tensor([[6,1,2],[2,1,7]]))) # 2 개 문장, 3개 단어\n",
    "print(emb(torch.tensor([[6,1,2],[2,1,7]])).shape)"
   ]
  },
  {
   "cell_type": "markdown",
   "source": [
    "### Decoder, 모델 전체"
   ],
   "metadata": {
    "id": "mHBzHMlbd991"
   }
  },
  {
   "cell_type": "code",
   "execution_count": null,
   "metadata": {
    "id": "ESEcHhs9ugSk"
   },
   "outputs": [],
   "source": [
    "class DecoderLayer(nn.Module):\n",
    "    def __init__(self, d_model, d_ff, n_heads, drop_p):\n",
    "        super().__init__()\n",
    "\n",
    "        self.self_atten = MHA(d_model, n_heads)\n",
    "        self.self_atten_LN = nn.LayerNorm(d_model)\n",
    "\n",
    "        self.enc_dec_atten = MHA(d_model, n_heads)\n",
    "        self.enc_dec_atten_LN = nn.LayerNorm(d_model)\n",
    "\n",
    "        self.FF = FeedForward(d_model, d_ff, drop_p)\n",
    "        self.FF_LN = nn.LayerNorm(d_model)\n",
    "\n",
    "        self.dropout = nn.Dropout(drop_p)\n",
    "\n",
    "    def forward(self, x, enc_out, dec_mask, enc_dec_mask):\n",
    "\n",
    "        residual, atten_dec = self.self_atten(x, x, x, dec_mask)\n",
    "        residual = self.dropout(residual)\n",
    "        x = self.self_atten_LN(x + residual)\n",
    "\n",
    "        residual, atten_enc_dec = self.enc_dec_atten(x, enc_out, enc_out, enc_dec_mask) # Q는 디코더로부터 K,V는 인코더로부터!!\n",
    "        residual = self.dropout(residual)\n",
    "        x = self.enc_dec_atten_LN(x + residual)\n",
    "\n",
    "        residual = self.FF(x)\n",
    "        residual = self.dropout(residual)\n",
    "        x = self.FF_LN(x + residual)\n",
    "\n",
    "        return x, atten_dec, atten_enc_dec\n",
    "\n",
    "class Decoder(nn.Module):\n",
    "    def __init__(self, input_embedding, max_len, n_layers, d_model, d_ff, n_heads, drop_p):\n",
    "        super().__init__()\n",
    "\n",
    "        self.scale = torch.sqrt(torch.tensor(d_model))\n",
    "        self.input_embedding = input_embedding\n",
    "        self.pos_embedding = nn.Embedding(max_len, d_model)\n",
    "\n",
    "        self.dropout = nn.Dropout(drop_p)\n",
    "\n",
    "        self.layers = nn.ModuleList([DecoderLayer(d_model, d_ff, n_heads, drop_p) for _ in range(n_layers)])\n",
    "\n",
    "        self.fc_out = nn.Linear(d_model, vocab_size)\n",
    "\n",
    "    def forward(self, trg, enc_out, dec_mask, enc_dec_mask, atten_map_save = False): # trg.shape = 개단, enc_out.shape = 개단차, dec_mask.shape = 개헤단단\n",
    "\n",
    "        pos = torch.arange(trg.shape[1]).expand_as(trg).to(DEVICE) # 개단\n",
    "\n",
    "        x = self.scale*self.input_embedding(trg) + self.pos_embedding(pos) # 개단차\n",
    "        # self.scale 을 곱해주면 position 보다 token 정보를 더 보게 된다 (gradient에 self.scale 만큼이 더 곱해짐)\n",
    "        x = self.dropout(x)\n",
    "\n",
    "        atten_decs = torch.tensor([]).to(DEVICE)\n",
    "        atten_enc_decs = torch.tensor([]).to(DEVICE)\n",
    "        for layer in self.layers:\n",
    "            x, atten_dec, atten_enc_dec = layer(x, enc_out, dec_mask, enc_dec_mask)\n",
    "            if atten_map_save is True:\n",
    "                atten_decs = torch.cat([atten_decs , atten_dec[0].unsqueeze(0)], dim=0) # 층헤단단 ㅋ\n",
    "                atten_enc_decs = torch.cat([atten_enc_decs , atten_enc_dec[0].unsqueeze(0)], dim=0) # 층헤단단 ㅋ\n",
    "\n",
    "        x = self.fc_out(x)\n",
    "\n",
    "        return x, atten_decs, atten_enc_decs"
   ]
  },
  {
   "cell_type": "code",
   "execution_count": null,
   "metadata": {
    "id": "80cXz80GYnrM"
   },
   "outputs": [],
   "source": [
    "class Transformer(nn.Module):\n",
    "    def __init__(self, vocab_size, max_len, n_layers, d_model, d_ff, n_heads, drop_p):\n",
    "        super().__init__()\n",
    "\n",
    "        self.input_embedding = nn.Embedding(vocab_size, d_model)\n",
    "        self.encoder = Encoder(self.input_embedding, max_len, n_layers, d_model, d_ff, n_heads, drop_p)\n",
    "        self.decoder = Decoder(self.input_embedding, max_len, n_layers, d_model, d_ff, n_heads, drop_p)\n",
    "\n",
    "        self.n_heads = n_heads\n",
    "\n",
    "        # for m in self.modules():\n",
    "        #     if hasattr(m,'weight') and m.weight.dim() > 1: # layer norm에 대해선 initial 안하겠다는 뜻\n",
    "        #         nn.init.kaiming_uniform_(m.weight) # Kaiming의 분산은 2/Nin\n",
    "\n",
    "        for m in self.modules():\n",
    "            if hasattr(m,'weight') and m.weight.dim() > 1: # 인풋 임베딩은 그대로 쓰기 위함\n",
    "                nn.init.xavier_uniform_(m.weight) # xavier의 분산은 2/(Nin+Nout) 즉, 분산이 더 작다. => 그래서 sigmoid/tanh에 적합한 것! (vanishing gradient 막기 위해)\n",
    "\n",
    "    def make_enc_mask(self, src): # src.shape = 개단\n",
    "\n",
    "        enc_mask = (src == pad_idx).unsqueeze(1).unsqueeze(2) # 개11단\n",
    "        enc_mask = enc_mask.expand(src.shape[0], self.n_heads, src.shape[1], src.shape[1]) # 개헤단단\n",
    "        \"\"\" src pad mask (문장 마다 다르게 생김. 이건 한 문장에 대한 pad 행렬)\n",
    "        F F T T\n",
    "        F F T T\n",
    "        F F T T\n",
    "        F F T T\n",
    "        \"\"\"\n",
    "        return enc_mask\n",
    "\n",
    "    def make_dec_mask(self, trg): # trg.shape = 개단\n",
    "\n",
    "        trg_pad_mask = (trg == pad_idx).unsqueeze(1).unsqueeze(2) # 개11단\n",
    "        trg_pad_mask = trg_pad_mask.expand(trg.shape[0], self.n_heads, trg.shape[1], trg.shape[1]) # 개헤단단\n",
    "        \"\"\" trg pad mask\n",
    "        F F F T T\n",
    "        F F F T T\n",
    "        F F F T T\n",
    "        F F F T T\n",
    "        F F F T T\n",
    "        \"\"\"\n",
    "        trg_future_mask = torch.tril(torch.ones(trg.shape[0], self.n_heads, trg.shape[1], trg.shape[1]))==0 # 개헤단단\n",
    "        trg_future_mask = trg_future_mask.to(DEVICE) # pad_mask | future_mask 할 때 같은 DEVICE 여야\n",
    "        \"\"\" trg future mask\n",
    "        F T T T T\n",
    "        F F T T T\n",
    "        F F F T T\n",
    "        F F F F T\n",
    "        F F F F F\n",
    "        \"\"\"\n",
    "        dec_mask = trg_pad_mask | trg_future_mask # dec_mask.shape = 개헤단단\n",
    "        \"\"\" decoder mask\n",
    "        F T T T T\n",
    "        F F T T T\n",
    "        F F F T T\n",
    "        F F F T T\n",
    "        F F F T T\n",
    "        \"\"\"\n",
    "        return dec_mask\n",
    "\n",
    "    def make_enc_dec_mask(self, src, trg):\n",
    "\n",
    "        enc_dec_mask = (src == pad_idx).unsqueeze(1).unsqueeze(2) # 개11단\n",
    "        enc_dec_mask = enc_dec_mask.expand(trg.shape[0], self.n_heads, trg.shape[1], src.shape[1]) # 개헤단단\n",
    "        \"\"\" src pad mask\n",
    "        F F T T\n",
    "        F F T T\n",
    "        F F T T\n",
    "        F F T T\n",
    "        F F T T\n",
    "        \"\"\"\n",
    "        return enc_dec_mask\n",
    "\n",
    "    def forward(self, src, trg):\n",
    "\n",
    "        enc_mask = self.make_enc_mask(src)\n",
    "        dec_mask = self.make_dec_mask(trg)\n",
    "        enc_dec_mask = self.make_enc_dec_mask(src, trg)\n",
    "\n",
    "        enc_out, atten_encs = self.encoder(src, enc_mask)\n",
    "        out, atten_decs, atten_enc_decs = self.decoder(trg, enc_out, dec_mask, enc_dec_mask)\n",
    "\n",
    "        return out, atten_encs, atten_decs, atten_enc_decs"
   ]
  },
  {
   "cell_type": "markdown",
   "source": [
    "#### tril, initialization 실험"
   ],
   "metadata": {
    "id": "L2G753XXdpvi"
   }
  },
  {
   "cell_type": "code",
   "execution_count": null,
   "metadata": {
    "id": "Nm_q7iriCSSq",
    "colab": {
     "base_uri": "https://localhost:8080/"
    },
    "executionInfo": {
     "status": "ok",
     "timestamp": 1710431743371,
     "user_tz": -540,
     "elapsed": 425,
     "user": {
      "displayName": "ppen hyuk",
      "userId": "06590780498642875598"
     }
    },
    "outputId": "7e585fba-34ba-423b-d290-99833af5bf02"
   },
   "outputs": [
    {
     "output_type": "stream",
     "name": "stdout",
     "text": [
      "Parameter containing:\n",
      "tensor([1., 1., 1., 1., 1., 1., 1., 1., 1., 1.], requires_grad=True)\n",
      "1\n"
     ]
    }
   ],
   "source": [
    "# 즉, Layer norm은 initialization에서 제외!\n",
    "print(nn.LayerNorm(10).weight)\n",
    "print(nn.LayerNorm(10).weight.dim())"
   ]
  },
  {
   "cell_type": "code",
   "execution_count": null,
   "metadata": {
    "id": "5z_pydaOWadP",
    "colab": {
     "base_uri": "https://localhost:8080/"
    },
    "executionInfo": {
     "status": "ok",
     "timestamp": 1710431743640,
     "user_tz": -540,
     "elapsed": 2,
     "user": {
      "displayName": "ppen hyuk",
      "userId": "06590780498642875598"
     }
    },
    "outputId": "ee81b11a-f681-463d-8be5-8a38eec719a7"
   },
   "outputs": [
    {
     "output_type": "stream",
     "name": "stdout",
     "text": [
      "Parameter containing:\n",
      "tensor([[-0.0728,  0.4038],\n",
      "        [-0.3477, -0.0703],\n",
      "        [ 0.1837, -0.6112],\n",
      "        [-0.2559, -0.5160],\n",
      "        [-0.4576, -0.4055],\n",
      "        [-0.0198,  0.6441],\n",
      "        [-0.6524, -0.0883],\n",
      "        [-0.2571,  0.2978],\n",
      "        [-0.1733,  0.0841],\n",
      "        [ 0.2591,  0.2502]], requires_grad=True)\n",
      "Parameter containing:\n",
      "tensor([[ 1.4248,  1.2274],\n",
      "        [ 1.3466,  0.9589],\n",
      "        [ 0.5012,  1.0482],\n",
      "        [-0.4071, -1.1700],\n",
      "        [-0.6329,  0.3741],\n",
      "        [ 0.4563,  1.5046],\n",
      "        [-1.6281, -0.5586],\n",
      "        [-1.7288,  1.4485],\n",
      "        [-0.4562,  0.2811],\n",
      "        [-0.8675,  0.1869]], requires_grad=True)\n",
      "Parameter containing:\n",
      "tensor([[ 0.6965,  0.6854],\n",
      "        [-0.6411,  0.3372],\n",
      "        [-0.4472, -0.3432],\n",
      "        [-0.0140, -0.0033],\n",
      "        [ 0.2006,  0.6243],\n",
      "        [ 0.3798, -0.3539],\n",
      "        [ 0.4334,  0.4258],\n",
      "        [ 0.6551, -0.1144],\n",
      "        [-0.5321,  0.1058],\n",
      "        [ 0.3599, -0.5334]], requires_grad=True)\n"
     ]
    }
   ],
   "source": [
    "# Kaiming vs Xavier\n",
    "layer = nn.Linear(2,10)\n",
    "print(layer.weight)\n",
    "nn.init.kaiming_uniform_(layer.weight)\n",
    "print(layer.weight) # in 만 보니까 분산 크다\n",
    "nn.init.xavier_uniform_(layer.weight)\n",
    "print(layer.weight) # in out 둘다 보니까 분산 작다"
   ]
  },
  {
   "cell_type": "code",
   "source": [
    "x = torch.ones(2,3,5,5)\n",
    "x = torch.tril(x) # tril: lower triangular\n",
    "print(x)"
   ],
   "metadata": {
    "id": "eXGhOlZDaRti",
    "colab": {
     "base_uri": "https://localhost:8080/"
    },
    "executionInfo": {
     "status": "ok",
     "timestamp": 1710431745588,
     "user_tz": -540,
     "elapsed": 5,
     "user": {
      "displayName": "ppen hyuk",
      "userId": "06590780498642875598"
     }
    },
    "outputId": "ea421a5e-9c74-4eb0-abb4-489775c4f79a"
   },
   "execution_count": null,
   "outputs": [
    {
     "output_type": "stream",
     "name": "stdout",
     "text": [
      "tensor([[[[1., 0., 0., 0., 0.],\n",
      "          [1., 1., 0., 0., 0.],\n",
      "          [1., 1., 1., 0., 0.],\n",
      "          [1., 1., 1., 1., 0.],\n",
      "          [1., 1., 1., 1., 1.]],\n",
      "\n",
      "         [[1., 0., 0., 0., 0.],\n",
      "          [1., 1., 0., 0., 0.],\n",
      "          [1., 1., 1., 0., 0.],\n",
      "          [1., 1., 1., 1., 0.],\n",
      "          [1., 1., 1., 1., 1.]],\n",
      "\n",
      "         [[1., 0., 0., 0., 0.],\n",
      "          [1., 1., 0., 0., 0.],\n",
      "          [1., 1., 1., 0., 0.],\n",
      "          [1., 1., 1., 1., 0.],\n",
      "          [1., 1., 1., 1., 1.]]],\n",
      "\n",
      "\n",
      "        [[[1., 0., 0., 0., 0.],\n",
      "          [1., 1., 0., 0., 0.],\n",
      "          [1., 1., 1., 0., 0.],\n",
      "          [1., 1., 1., 1., 0.],\n",
      "          [1., 1., 1., 1., 1.]],\n",
      "\n",
      "         [[1., 0., 0., 0., 0.],\n",
      "          [1., 1., 0., 0., 0.],\n",
      "          [1., 1., 1., 0., 0.],\n",
      "          [1., 1., 1., 1., 0.],\n",
      "          [1., 1., 1., 1., 1.]],\n",
      "\n",
      "         [[1., 0., 0., 0., 0.],\n",
      "          [1., 1., 0., 0., 0.],\n",
      "          [1., 1., 1., 0., 0.],\n",
      "          [1., 1., 1., 1., 0.],\n",
      "          [1., 1., 1., 1., 1.]]]])\n"
     ]
    }
   ]
  },
  {
   "cell_type": "markdown",
   "metadata": {
    "id": "Ha5rYiwSIBz6"
   },
   "source": [
    "## 모델 생성"
   ]
  },
  {
   "cell_type": "code",
   "execution_count": null,
   "metadata": {
    "id": "1XyuIUlwKm8B",
    "colab": {
     "base_uri": "https://localhost:8080/"
    },
    "executionInfo": {
     "status": "ok",
     "timestamp": 1710431747761,
     "user_tz": -540,
     "elapsed": 2176,
     "user": {
      "displayName": "ppen hyuk",
      "userId": "06590780498642875598"
     }
    },
    "outputId": "13df4dc8-560c-45f3-e1de-6f040a216d94"
   },
   "outputs": [
    {
     "output_type": "stream",
     "name": "stdout",
     "text": [
      "torch.Size([2, 7])\n",
      "torch.Size([2, 7, 65001])\n"
     ]
    }
   ],
   "source": [
    "model = Transformer(vocab_size, max_len, n_layers, d_model, d_ff, n_heads, drop_p).to(DEVICE)\n",
    "\n",
    "src = torch.tensor([[4,6,5,1,1,1],[7,7,1,1,1,1]]).to(DEVICE)\n",
    "trg = torch.tensor([[2,5,4,4,3,1,1],[2,9,6,7,3,1,1]]).to(DEVICE)\n",
    "\n",
    "model.eval()\n",
    "with torch.no_grad():\n",
    "    x = model(src, trg)[0]\n",
    "print(trg.shape)\n",
    "print(x.shape)"
   ]
  },
  {
   "cell_type": "markdown",
   "metadata": {
    "id": "GGTrDJKUIO7Q"
   },
   "source": [
    "## Train, Test, loss_epoch 함수"
   ]
  },
  {
   "cell_type": "code",
   "execution_count": null,
   "metadata": {
    "id": "9zx5gmVYkhFv"
   },
   "outputs": [],
   "source": [
    "def Train(model, train_DL, val_DL, criterion, optimizer, scheduler = None):\n",
    "    loss_history = {\"train\": [], \"val\": []}\n",
    "    best_loss = 9999\n",
    "    for ep in range(EPOCH):\n",
    "        model.train() # train mode로 전환\n",
    "        train_loss = loss_epoch(model, train_DL, criterion, optimizer = optimizer, scheduler = scheduler)\n",
    "        loss_history[\"train\"] += [train_loss]\n",
    "\n",
    "        model.eval() # test mode로 전환\n",
    "        with torch.no_grad():\n",
    "            val_loss = loss_epoch(model, val_DL, criterion)\n",
    "            loss_history[\"val\"] += [val_loss]\n",
    "            if val_loss < best_loss:\n",
    "                best_loss = val_loss\n",
    "                torch.save({\"model\": model,\n",
    "                            \"ep\": ep,\n",
    "                            \"optimizer\": optimizer,\n",
    "                            \"scheduler\": scheduler,}, save_model_path)\n",
    "        # print loss\n",
    "        print(f\"Epoch {ep+1}: train loss: {train_loss:.5f}   val loss: {val_loss:.5f}   current_LR: {optimizer.param_groups[0]['lr']:.8f}\")\n",
    "        print(\"-\" * 20)\n",
    "\n",
    "    torch.save({\"loss_history\": loss_history,\n",
    "                \"EPOCH\": EPOCH,\n",
    "                \"BATCH_SIZE\": BATCH_SIZE}, save_history_path)\n",
    "\n",
    "def Test(model, test_DL, criterion):\n",
    "    model.eval() # test mode로 전환\n",
    "    with torch.no_grad():\n",
    "        test_loss = loss_epoch(model, test_DL, criterion)\n",
    "    print(f\"Test loss: {test_loss:.3f} | Test PPL: {math.exp(test_loss):.3f}\")\n",
    "\n",
    "def loss_epoch(model, DL, criterion, optimizer = None, scheduler = None):\n",
    "    N = len(DL.dataset) # the number of data\n",
    "\n",
    "    rloss=0\n",
    "    for src_texts, trg_texts in tqdm(DL, leave=False):\n",
    "        src = tokenizer(src_texts, padding=True, truncation=True, max_length = max_len, return_tensors='pt').input_ids.to(DEVICE)\n",
    "        trg_texts = ['</s> ' + s for s in trg_texts]\n",
    "        trg = tokenizer(trg_texts, padding=True, truncation=True, max_length = max_len, return_tensors='pt').input_ids.to(DEVICE)\n",
    "        # inference\n",
    "        y_hat = model(src, trg[:,:-1])[0] # 모델 통과 시킬 땐 trg의 마지막 토큰은 제외!\n",
    "        # y_hat.shape = 개단차 즉, 훈련 땐 문장이 한번에 튀어나옴\n",
    "        # loss\n",
    "        loss = criterion(y_hat.permute(0,2,1), trg[:,1:]) # loss 계산 시엔 <sos> 는 제외!\n",
    "        \"\"\"\n",
    "        개단차 -> 개차단으로 바꿔줌 (1D segmentation으로 생각)\n",
    "        개채행열(예측), 개행열(정답)으로 주거나 개채1열, 개1열로 주거나 개채열, 개열로 줘야하도록 함수를 만들어놔서\n",
    "        우리 상황에서는 개차단, 개단 으로 줘야 한다.\n",
    "        이렇게 함수를 만들어놔야 1D, 2D segmentation 등등으로 확장가능하기 때문\n",
    "        다 필요없고, 그냥 y_hat=개차단, trg=개단으로 줘야만 계산 제대로 된다고 생각하시면 됩니다!\n",
    "        \"\"\"\n",
    "        # update\n",
    "        if optimizer is not None:\n",
    "            optimizer.zero_grad()\n",
    "            loss.backward()\n",
    "            optimizer.step()\n",
    "        if scheduler is not None:\n",
    "            scheduler.step()\n",
    "        # loss accumulation\n",
    "        loss_b = loss.item() * src.shape[0]\n",
    "        rloss += loss_b\n",
    "    loss_e = rloss/N\n",
    "    return loss_e\n",
    "\n",
    "def count_params(model):\n",
    "    num = sum([p.numel() for p in model.parameters() if p.requires_grad])\n",
    "    return num\n",
    "\n",
    "class NoamScheduler:\n",
    "    def __init__(self, optimizer, d_model, warmup_steps, LR_scale = 1):\n",
    "        self.optimizer = optimizer\n",
    "        self.current_step = 0\n",
    "        self.d_model = d_model\n",
    "        self.warmup_steps = warmup_steps\n",
    "        self.LR_scale = LR_scale\n",
    "\n",
    "    def step(self):\n",
    "        self.current_step += 1\n",
    "        lrate = self.LR_scale * (self.d_model ** -0.5) * min(self.current_step ** -0.5, self.current_step * self.warmup_steps ** -1.5)\n",
    "        self.optimizer.param_groups[0]['lr'] = lrate\n",
    "\n",
    "def plot_scheduler(scheduler_name, optimizer, scheduler, total_steps): # LR curve 보기\n",
    "    lr_history = []\n",
    "    steps = range(1, total_steps)\n",
    "\n",
    "    for _ in steps: # base model -> 10만 steps (12시간), big model -> 30만 steps (3.5일) 로 훈련했다고 함\n",
    "        lr_history += [optimizer.param_groups[0]['lr']]\n",
    "        scheduler.step()\n",
    "\n",
    "    plt.figure()\n",
    "    if scheduler_name == 'Noam':\n",
    "        if total_steps == 100000:\n",
    "            plt.plot(steps, (512 ** -0.5) * torch.tensor(steps) ** -0.5, 'g--', linewidth=1, label=r\"$d_{\\mathrm{model}}^{-0.5} \\cdot \\mathrm{step}^{-0.5}$\")\n",
    "            plt.plot(steps, (512 ** -0.5) * torch.tensor(steps) * 4000 ** -1.5, 'r--', linewidth=1, label=r\"$d_{\\mathrm{model}}^{-0.5} \\cdot \\mathrm{step} \\cdot \\mathrm{warmup\\_steps}^{-1.5}$\")\n",
    "        plt.plot(steps, lr_history, 'b', linewidth=2, alpha=0.8, label=\"Learning Rate\")\n",
    "    elif scheduler_name == 'Cos':\n",
    "        plt.plot(steps, lr_history, 'b', linewidth=2, alpha=0.8, label=\"Learning Rate\")\n",
    "    plt.ylim([-0.1*max(lr_history), 1.2*max(lr_history)])\n",
    "    plt.xlabel('Step')\n",
    "    plt.ylabel('Learning Rate')\n",
    "    plt.grid()\n",
    "    plt.legend()\n",
    "    plt.show()"
   ]
  },
  {
   "cell_type": "code",
   "execution_count": null,
   "metadata": {
    "id": "Slx6NMtjYrPv",
    "colab": {
     "base_uri": "https://localhost:8080/",
     "height": 1000
    },
    "executionInfo": {
     "status": "ok",
     "timestamp": 1710431757144,
     "user_tz": -540,
     "elapsed": 7822,
     "user": {
      "displayName": "ppen hyuk",
      "userId": "06590780498642875598"
     }
    },
    "outputId": "c80cd93f-a010-4f9d-f790-930504d01e3a"
   },
   "outputs": [
    {
     "output_type": "display_data",
     "data": {
      "text/plain": [
       "<Figure size 640x480 with 1 Axes>"
      ],
      "image/png": "[encoded data removed]"
     },
     "metadata": {}
    },
    {
     "output_type": "display_data",
     "data": {
      "text/plain": [
       "<Figure size 640x480 with 1 Axes>"
      ],
      "image/png": "[encoded data removed]"
     },
     "metadata": {}
    },
    {
     "output_type": "display_data",
     "data": {
      "text/plain": [
       "<Figure size 640x480 with 1 Axes>"
      ],
      "image/png": "[encoded data removed]"
     },
     "metadata": {}
    }
   ],
   "source": [
    "optimizer = optim.Adam(nn.Linear(1, 1).parameters(), lr=0) # 테스트용 optimizer\n",
    "scheduler = NoamScheduler(optimizer, d_model=512, warmup_steps=4000) # 논문 값\n",
    "plot_scheduler(scheduler_name = 'Noam', optimizer = optimizer, scheduler = scheduler, total_steps = 100000)\n",
    "\n",
    "optimizer = optim.Adam(nn.Linear(1, 1).parameters(), lr=0)\n",
    "scheduler = NoamScheduler(optimizer, d_model=d_model, warmup_steps=warmup_steps, LR_scale=LR_scale)\n",
    "plot_scheduler(scheduler_name = 'Noam', optimizer = optimizer, scheduler = scheduler, total_steps = int(len(train_DS)*EPOCH/BATCH_SIZE)) # 내 상황\n",
    "\n",
    "optimizer = optim.Adam(nn.Linear(1, 1).parameters(), lr=LR_init)\n",
    "scheduler = CosineAnnealingWarmRestarts(optimizer, T0, T_mult)\n",
    "plot_scheduler(scheduler_name = 'Cos', optimizer = optimizer, scheduler = scheduler, total_steps = int(len(train_DS)*EPOCH/BATCH_SIZE))"
   ]
  },
  {
   "cell_type": "markdown",
   "metadata": {
    "id": "l_G1AoumLOVA"
   },
   "source": [
    "## 모델 학습"
   ]
  },
  {
   "cell_type": "code",
   "execution_count": null,
   "metadata": {
    "id": "Nfg_BYSFmy6w"
   },
   "outputs": [],
   "source": [
    "if new_model_train:\n",
    "    params = [p for p in model.parameters() if p.requires_grad] # 사전 학습된 layer를 사용할 경우\n",
    "    if scheduler_name == 'Noam':\n",
    "        optimizer = optim.Adam(params, lr=0,\n",
    "                               betas=(0.9, 0.98), eps=1e-9,\n",
    "                               weight_decay=LAMBDA) # 논문에서 제시한 beta와 eps 사용, l2-Regularization은 한번 써봄 & 맨 처음 step 의 LR=0으로 출발 (warm-up)\n",
    "        scheduler = NoamScheduler(optimizer, d_model=d_model, warmup_steps=warmup_steps, LR_scale=LR_scale)\n",
    "\n",
    "    elif scheduler_name == 'Cos':\n",
    "        optimizer = optim.Adam(params, lr=LR_init,  # cos restart sheduling\n",
    "                               betas=(0.9, 0.98), eps=1e-9,\n",
    "                               weight_decay=LAMBDA)\n",
    "        scheduler = CosineAnnealingWarmRestarts(optimizer, T0, T_mult)\n",
    "\n",
    "    Train(model, train_DL, val_DL, criterion, optimizer, scheduler)"
   ]
  },
  {
   "cell_type": "markdown",
   "metadata": {
    "id": "1S70EQLBIUR8"
   },
   "source": [
    "## 로드 모델"
   ]
  },
  {
   "cell_type": "code",
   "execution_count": null,
   "metadata": {
    "id": "OQh9irraw_fd",
    "colab": {
     "base_uri": "https://localhost:8080/"
    },
    "executionInfo": {
     "status": "ok",
     "timestamp": 1710431757768,
     "user_tz": -540,
     "elapsed": 628,
     "user": {
      "displayName": "ppen hyuk",
      "userId": "06590780498642875598"
     }
    },
    "outputId": "41eae25c-94b6-4655-bf5e-b619ec4d7904"
   },
   "outputs": [
    {
     "output_type": "stream",
     "name": "stdout",
     "text": [
      "11\n",
      "Adam (\n",
      "Parameter Group 0\n",
      "    amsgrad: False\n",
      "    betas: (0.9, 0.98)\n",
      "    capturable: False\n",
      "    differentiable: False\n",
      "    eps: 1e-09\n",
      "    foreach: None\n",
      "    fused: None\n",
      "    lr: 0.00023409717446640351\n",
      "    maximize: False\n",
      "    weight_decay: 0\n",
      ")\n"
     ]
    }
   ],
   "source": [
    "loaded = torch.load(save_model_path, map_location=DEVICE)\n",
    "load_model = loaded[\"model\"]\n",
    "ep = loaded[\"ep\"]\n",
    "optimizer = loaded[\"optimizer\"]\n",
    "\n",
    "loaded = torch.load(save_history_path, map_location=DEVICE)\n",
    "loss_history = loaded[\"loss_history\"]\n",
    "\n",
    "print(ep)\n",
    "print(optimizer)"
   ]
  },
  {
   "cell_type": "code",
   "execution_count": null,
   "metadata": {
    "id": "W8eVKmFpxBA9",
    "colab": {
     "base_uri": "https://localhost:8080/",
     "height": 489
    },
    "executionInfo": {
     "status": "ok",
     "timestamp": 1710431758266,
     "user_tz": -540,
     "elapsed": 500,
     "user": {
      "displayName": "ppen hyuk",
      "userId": "06590780498642875598"
     }
    },
    "outputId": "660e1a50-a88e-4116-833f-f0b42c2f2872"
   },
   "outputs": [
    {
     "output_type": "execute_result",
     "data": {
      "text/plain": [
       "<matplotlib.legend.Legend at 0x7a9581eb8dc0>"
      ]
     },
     "metadata": {},
     "execution_count": 38
    },
    {
     "output_type": "display_data",
     "data": {
      "text/plain": [
       "<Figure size 640x480 with 1 Axes>"
      ],
      "image/png": "[encoded data removed]"
     },
     "metadata": {}
    }
   ],
   "source": [
    "plt.figure()\n",
    "plt.plot(range(1,EPOCH+1),loss_history[\"train\"], label=\"train\")\n",
    "plt.plot(range(1,EPOCH+1),loss_history[\"val\"], label=\"val\")\n",
    "plt.xlabel(\"Epoch\")\n",
    "plt.ylabel(\"Loss\")\n",
    "plt.title(\"Train, Val Loss\")\n",
    "plt.grid()\n",
    "plt.legend()"
   ]
  },
  {
   "cell_type": "code",
   "execution_count": null,
   "metadata": {
    "id": "xkMe28pnma4R",
    "colab": {
     "base_uri": "https://localhost:8080/"
    },
    "executionInfo": {
     "status": "ok",
     "timestamp": 1710431930836,
     "user_tz": -540,
     "elapsed": 172578,
     "user": {
      "displayName": "ppen hyuk",
      "userId": "06590780498642875598"
     }
    },
    "outputId": "714c015d-5603-43b4-f0c4-e452e5bc8b2d"
   },
   "outputs": [
    {
     "output_type": "stream",
     "name": "stderr",
     "text": [
      "                                               "
     ]
    },
    {
     "output_type": "stream",
     "name": "stdout",
     "text": [
      "Test loss: 0.864 | Test PPL: 2.372\n"
     ]
    },
    {
     "output_type": "stream",
     "name": "stderr",
     "text": [
      "\r"
     ]
    },
    {
     "output_type": "execute_result",
     "data": {
      "text/plain": [
       "37350377"
      ]
     },
     "metadata": {},
     "execution_count": 39
    }
   ],
   "source": [
    "Test(load_model, test_DL, criterion) # test data에 모델 학습 당시의 train 문장이 껴들어가 있어서 낮게 나옴\n",
    "                                     # (random_split으로 코드 전체 돌릴 때마다 test_DS 를 새로 만들다보니..)\n",
    "count_params(load_model)"
   ]
  },
  {
   "cell_type": "code",
   "execution_count": null,
   "metadata": {
    "id": "A18nz1o-mpF7",
    "colab": {
     "base_uri": "https://localhost:8080/"
    },
    "executionInfo": {
     "status": "ok",
     "timestamp": 1710431930836,
     "user_tz": -540,
     "elapsed": 31,
     "user": {
      "displayName": "ppen hyuk",
      "userId": "06590780498642875598"
     }
    },
    "outputId": "ec1cb0ca-a9fc-437d-8a6b-7a3318787e17"
   },
   "outputs": [
    {
     "output_type": "stream",
     "name": "stdout",
     "text": [
      "torch.Size([4, 1, 3])\n",
      "tensor([3.5257])\n",
      "torch.Size([4, 3, 1])\n",
      "torch.Size([4, 1])\n",
      "tensor(3.5257)\n"
     ]
    }
   ],
   "source": [
    "# Perplxity 구하기\n",
    "y_hat = torch.tensor([[[0.3659, 0.7025, 0.3104]], [[0.0097, 0.6577, 0.1947]],[[0.5659, 0.0025, 0.0104]], [[0.9097, 0.0577, 0.7947]]])\n",
    "target = torch.tensor([[2],  [1], [2],  [1]])\n",
    "\n",
    "soft = nn.Softmax(dim=-1)\n",
    "y_hat_soft = soft(y_hat)\n",
    "print(y_hat_soft.shape)\n",
    "v=1\n",
    "for i, val in enumerate(y_hat_soft):\n",
    "    v*=val[0,target[i]]\n",
    "print(v**(-1/target.shape[0]))\n",
    "# 3.5257\n",
    "\n",
    "criterion_test = nn.CrossEntropyLoss()\n",
    "print(y_hat.permute(0,2,1).shape)\n",
    "print(target.shape)\n",
    "print(torch.exp(criterion_test(y_hat.permute(0,2,1), target))) # 결론: loss에 torch.exp 취하셈\n",
    "# 3.5257"
   ]
  },
  {
   "cell_type": "markdown",
   "metadata": {
    "id": "ZqzZvCENIXcj"
   },
   "source": [
    "## 번역 함수, 어텐션 map 그리는 함수"
   ]
  },
  {
   "cell_type": "code",
   "execution_count": null,
   "metadata": {
    "id": "kEWhBsifvLUw"
   },
   "outputs": [],
   "source": [
    "def translation(model, src_text, atten_map_save = False):\n",
    "    model.eval()\n",
    "    with torch.no_grad():\n",
    "        src = tokenizer.encode(src_text, return_tensors='pt').to(DEVICE) # 1x단\n",
    "        enc_mask = model.make_enc_mask(src)\n",
    "        enc_out, atten_encs = model.encoder(src, enc_mask, atten_map_save)\n",
    "\n",
    "        pred = tokenizer.encode('</s>', return_tensors='pt', add_special_tokens=False).to(DEVICE) # 1x1\n",
    "        for _ in range(max_len-1): # <sos> 가 한 토큰이기 때문에 최대 99 번까지만 loop을 돌아야 함\n",
    "            dec_mask = model.make_dec_mask(pred)\n",
    "            enc_dec_mask = model.make_enc_dec_mask(src, pred)\n",
    "            out, atten_decs, atten_enc_decs = model.decoder(pred, enc_out, dec_mask, enc_dec_mask, atten_map_save)\n",
    "            # out.shape = (개=1,단,차)\n",
    "\n",
    "            pred_word = out[:,-1,:].argmax(dim=1).unsqueeze(0) # 마지막 단어에 대해 argmax해서 prediction 하고 shape = (1,1)로\n",
    "            pred = torch.cat([pred, pred_word], dim=1) # 1x단 (단은 하나씩 늘면서)\n",
    "\n",
    "            if tokenizer.decode(pred_word.item()) == '</s>':\n",
    "                break\n",
    "\n",
    "        translated_text = tokenizer.decode(pred[0])\n",
    "\n",
    "    return translated_text, atten_encs, atten_decs, atten_enc_decs\n",
    "\n",
    "def show_attention(atten, Query, Key, n):\n",
    "    atten = atten.cpu()\n",
    "\n",
    "    fig, ax = plt.subplots(nrows=1, ncols=3, figsize=[atten.shape[3]*1.5,atten.shape[2]])\n",
    "    for i in range(3):\n",
    "        ax[i].set_yticks(range(atten.shape[2]))\n",
    "        ax[i].set_yticklabels(Query, rotation=45)\n",
    "        ax[i].set_xticks(range(atten.shape[3]))\n",
    "        ax[i].set_xticklabels(Key, rotation=60)\n",
    "        ax[i].imshow(atten[n][i], cmap='bone') # n 번째 layer, 앞 세 개의 헤드만 plot\n",
    "        # ax[i].xaxis.tick_top()  # x축 레이블을 위쪽으로 이동"
   ]
  },
  {
   "cell_type": "code",
   "execution_count": null,
   "metadata": {
    "id": "fy3e9yXVKToo",
    "colab": {
     "base_uri": "https://localhost:8080/"
    },
    "executionInfo": {
     "status": "ok",
     "timestamp": 1709376913902,
     "user_tz": -540,
     "elapsed": 1168,
     "user": {
      "displayName": "ppen hyuk",
      "userId": "06590780498642875598"
     }
    },
    "outputId": "b3651ae5-0b41-453b-a51d-ff6c53958886"
   },
   "outputs": [
    {
     "output_type": "stream",
     "name": "stdout",
     "text": [
      "입력: 저는 홍차로 할게요, 친구는 아마 커피를 마실 거예요.\n",
      "정답: I will have black tea, my friend will probably have coffee.\n",
      "AI의 번역: </s> I'll have a red tea, my friend will probably drink coffee.</s>\n"
     ]
    }
   ],
   "source": [
    "# 번역해보기\n",
    "i = 4\n",
    "idx = test_DS.indices[i]\n",
    "src_text, trg_text = custom_DS.__getitem__(idx)\n",
    "print(f\"입력: {src_text}\")\n",
    "print(f\"정답: {trg_text}\")\n",
    "\n",
    "translated_text, atten_encs, atten_decs, atten_enc_decs = translation(load_model, src_text, atten_map_save = True)\n",
    "print(f\"AI의 번역: {translated_text}\")"
   ]
  },
  {
   "cell_type": "code",
   "source": [
    "# # teacher forcing 으로 넣어본다면?\n",
    "\n",
    "# src = tokenizer.encode(src_text, return_tensors='pt').to(DEVICE)\n",
    "# trg_text = '</s> ' + trg_text\n",
    "# trg = tokenizer.encode(trg_text, return_tensors='pt').to(DEVICE)\n",
    "\n",
    "# load_model.eval()\n",
    "# with torch.no_grad():\n",
    "#     y_hat = load_model(src, trg[:,:-1])[0]\n",
    "#     loss = criterion(y_hat.permute(0,2,1), trg[:,1:])\n",
    "#     out_token = y_hat.argmax(-1).squeeze()\n",
    "#     out_text = tokenizer.decode(out_token)\n",
    "\n",
    "# print('loss =', loss)\n",
    "# print('정답 =', [tokenizer.decode(i) for i in trg[0,1:]])\n",
    "# print('예측 =', [tokenizer.decode(i) for i in out_token])"
   ],
   "metadata": {
    "id": "BqEWgiIbHOwF"
   },
   "execution_count": null,
   "outputs": []
  },
  {
   "cell_type": "code",
   "execution_count": null,
   "metadata": {
    "id": "vQaSRui-0YDK",
    "colab": {
     "base_uri": "https://localhost:8080/",
     "height": 1000
    },
    "executionInfo": {
     "status": "ok",
     "timestamp": 1709377368932,
     "user_tz": -540,
     "elapsed": 3026,
     "user": {
      "displayName": "ppen hyuk",
      "userId": "06590780498642875598"
     }
    },
    "outputId": "4cd7c191-156d-4d63-d258-47491ed4d71b"
   },
   "outputs": [
    {
     "output_type": "display_data",
     "data": {
      "text/plain": [
       "<Figure size 2100x1400 with 3 Axes>"
      ],
      "image/png": "[encoded data removed]"
     },
     "metadata": {}
    },
    {
     "output_type": "display_data",
     "data": {
      "text/plain": [
       "<Figure size 4050x2700 with 3 Axes>"
      ],
      "image/png": "[encoded data removed]"
     },
     "metadata": {}
    },
    {
     "output_type": "display_data",
     "data": {
      "text/plain": [
       "<Figure size 2100x2700 with 3 Axes>"
      ],
      "image/png": "[encoded data removed]"
     },
     "metadata": {}
    }
   ],
   "source": [
    "enc_input = tokenizer.tokenize(src_text+' </s>') # <eos> 붙여서 학습 시켰기 때문에 여기도 붙여줘야\n",
    "dec_tokens = tokenizer.tokenize(translated_text)\n",
    "dec_input = dec_tokens[:-1] # 디코더 입력으로 들어가는 문장(sos 는 있고 eos는 없고)\n",
    "dec_output = dec_tokens[1:] # 디코더 출력으로 나간 문장\n",
    "\n",
    "# print(dec_input)\n",
    "# print(atten_enc_dec.shape)\n",
    "# print(len(dec_input))\n",
    "# print(len(enc_input))\n",
    "\n",
    "show_attention(atten_encs, enc_input, enc_input, n = 2) # 백화점 1층은 사원 헤드 (두루두루) 2층은 부장 헤드 3층은 임원 헤드\n",
    "show_attention(atten_decs, dec_input, dec_input, n = 2)\n",
    "show_attention(atten_enc_decs, dec_output, enc_input, n = 2) # 이 map을 해석할 때는 \"이 단어가 나오게끔 뭘 주목했느냐\" 로 해석해줘야 함 (ytick에 들어가는 단어가 아닌 예측한 단어를 썼기 때문)"
   ]
  },
  {
   "cell_type": "markdown",
   "metadata": {
    "id": "r2fr0zAdIiVZ"
   },
   "source": [
    "## BLEU score 구하기"
   ]
  },
  {
   "cell_type": "code",
   "execution_count": null,
   "metadata": {
    "id": "F_sJXs2UAscq",
    "colab": {
     "base_uri": "https://localhost:8080/"
    },
    "executionInfo": {
     "status": "ok",
     "timestamp": 1709375752645,
     "user_tz": -540,
     "elapsed": 684,
     "user": {
      "displayName": "ppen hyuk",
      "userId": "06590780498642875598"
     }
    },
    "outputId": "1abcc73d-b454-4bc4-85db-249c2e3a4c9e"
   },
   "outputs": [
    {
     "output_type": "execute_result",
     "data": {
      "text/plain": [
       "0.32921006485865717"
      ]
     },
     "metadata": {},
     "execution_count": 40
    }
   ],
   "source": [
    "from torchtext.data.metrics import bleu_score\n",
    "\n",
    "# trgs = [[['훌륭한', '강사와', '훌륭한', '수강생이','만나면','명강의가', '탄생한다']]]\n",
    "# preds = [['훌륭한', '강사와', '훌륭한', '수강생이','함께라면','명강의가','만들어진다']]\n",
    "# preds = [['만들어진다', '강사와', '훌륭한', '명강의가','훌륭한','수강생이','함께라면']]\n",
    "# preds = [['훌륭한', '강사와', '훌륭한', '수강생이','훌륭한','강사와','훌륭한','강의를', '만든다']]\n",
    "# preds = [['수강생이', '만나면', '명강의가', '탄생한다']]\n",
    "\n",
    "trgs = [[['훌륭한', '강사와', '훌륭한', '수강생이','만나면','명강의가', '탄생한다']], [['이것은', '두','번째','문장입니다']]]\n",
    "preds = [['훌륭한', '강사와', '훌륭한', '수강생이','훌륭한','강의를','만든다'], ['이것은','문장입니다']]\n",
    "\n",
    "bleu_score(preds, trgs, max_n = 4, weights = [0.25,0.25,0.25,0.25]) # default\n",
    "# bleu_score(preds, trgs, max_n = 1, weights = [1])"
   ]
  },
  {
   "cell_type": "code",
   "execution_count": null,
   "metadata": {
    "id": "PpmFWKwsbe9a"
   },
   "outputs": [],
   "source": [
    "def calc_bleu_score(model, DS):\n",
    "    trgs = []\n",
    "    preds = []\n",
    "\n",
    "    for i, (src_text, trg_text) in enumerate(DS):\n",
    "\n",
    "        translated_text, _, _, _ = translation(load_model, src_text)\n",
    "\n",
    "        trg = tokenizer.tokenize(trg_text)\n",
    "        translated_tok = tokenizer.tokenize(translated_text)[1:-1] # <sos> & <eos> 제외\n",
    "\n",
    "        trgs += [[trg]]\n",
    "        preds += [translated_tok]\n",
    "\n",
    "        if (i + 1) % 100 == 0:\n",
    "            print(f\"[{i + 1}/{len(DS)}]\")\n",
    "            print(f\"입력: {src_text}\")\n",
    "            print(f\"정답: {trg_text}\")\n",
    "            print(f\"AI의 번역: {translated_text[5:-4]}\") # 문자열에서 </s> 안보이게 하려고..\n",
    "\n",
    "    bleu = bleu_score(preds, trgs)\n",
    "    print()\n",
    "    print(f'Total BLEU Score = {bleu*100:.2f}')"
   ]
  },
  {
   "cell_type": "code",
   "execution_count": null,
   "metadata": {
    "id": "rue6FzjvULLG",
    "colab": {
     "base_uri": "https://localhost:8080/"
    },
    "executionInfo": {
     "status": "ok",
     "timestamp": 1709376593323,
     "user_tz": -540,
     "elapsed": 840819,
     "user": {
      "displayName": "ppen hyuk",
      "userId": "06590780498642875598"
     }
    },
    "outputId": "da5c6de7-eeda-4752-9914-df4b02cd2c00"
   },
   "outputs": [
    {
     "output_type": "stream",
     "name": "stdout",
     "text": [
      "[100/1000]\n",
      "입력: 방금 제 집에 도둑이 든 것 같아서 신고합니다.\n",
      "정답: I'm reporting because I think my house has just been robbed.\n",
      "AI의 번역: I'm afraid I just am just going home because I think my house at home.\n",
      "[200/1000]\n",
      "입력: 네. 감사합니다. 깨끗해야 편하게 쉴 수 있을 것 같아서요.\n",
      "정답: Okay. Thank you. I need a clean room to get a good rest.\n",
      "AI의 번역: Yes. Thank you. I think I can rest after cleaning.\n",
      "[300/1000]\n",
      "입력: 우리 회사의 현재 재무 상태는 어떤가요?\n",
      "정답: How's the current financial status of our company?\n",
      "AI의 번역: How is our financial status now?\n",
      "[400/1000]\n",
      "입력: 새시 포함해서 빌라 전체 수리 견적 요청합니다.\n",
      "정답: Please give me a quote for repairing the entire villa including the sashes.\n",
      "AI의 번역: I'd like to request a quotation including a new one.\n",
      "[500/1000]\n",
      "입력: 아니요, 이제 막 복귀하여 확인하지 못하였습니다.\n",
      "정답: No, I just came back so I haven't checked yet.\n",
      "AI의 번역: No, I just checked out and couldn't check it.\n",
      "[600/1000]\n",
      "입력: 안녕하세요. 여권 주세요. 그리고 여행용 가방도 올려주세요.\n",
      "정답: Hi. Please show me your passport. And please place your luggage up here.\n",
      "AI의 번역: Hello. Please give me your passport. And please put your luggage up.\n",
      "[700/1000]\n",
      "입력: 나도 조깅하러 간 건데, 뛰는 사람들 정말 많더라.\n",
      "정답: I went jogging too, but there were so many people running.\n",
      "AI의 번역: I'm jogging to jogging, but there are so many people running.\n",
      "[800/1000]\n",
      "입력: 상큼하면서 크게 부담도 없고, 정말 맛있습니다.\n",
      "정답: It's fresh and easy to eat, it's really delicious.\n",
      "AI의 번역: It's even when were even fresh, and it's really good.\n",
      "[900/1000]\n",
      "입력: 저기 기둥 옆에 볼펜 있는 거 보이세요?\n",
      "정답: Can you see the pens right next to that post?\n",
      "AI의 번역: Can you see the pen things next to the pens?\n",
      "[1000/1000]\n",
      "입력: 기존 시스템을 사용하는 동안에 어떤 점이 불편했나요?\n",
      "정답: What did you find uncomfortable while using your existing system?\n",
      "AI의 번역: What happened to the existing system while using the existing previous use?\n",
      "\n",
      "Total BLEU Score = 37.54\n"
     ]
    }
   ],
   "source": [
    "calc_bleu_score(load_model, test_DS)"
   ]
  },
  {
   "cell_type": "code",
   "execution_count": null,
   "metadata": {
    "id": "A29-xf4IUy4G",
    "colab": {
     "base_uri": "https://localhost:8080/"
    },
    "executionInfo": {
     "status": "ok",
     "timestamp": 1709376595855,
     "user_tz": -540,
     "elapsed": 2566,
     "user": {
      "displayName": "ppen hyuk",
      "userId": "06590780498642875598"
     }
    },
    "outputId": "d58c883e-7b52-4df0-870a-75b88485b369"
   },
   "outputs": [
    {
     "output_type": "stream",
     "name": "stdout",
     "text": [
      "입력: 여러분! 이 강의 정말 열심히 준비 했어요.\n",
      "AI의 번역: </s> Everyone! I've worked hard to prepare this lecture.</s>\n"
     ]
    }
   ],
   "source": [
    "# 내 번역기 써보기!\n",
    "src_text = \"여러분! 이 강의 정말 열심히 준비 했어요.\"\n",
    "print(f\"입력: {src_text}\")\n",
    "\n",
    "translated_text = translation(load_model, src_text)[0]\n",
    "print(f\"AI의 번역: {translated_text}\")"
   ]
  }
 ],
 "metadata": {
  "colab": {
   "provenance": [
    {
     "file_id": "1Va2H6KkK926CVGlbSPxSmAa5zd42QIBc",
     "timestamp": 1683559654537
    },
    {
     "file_id": "1DlnpWSJE-HqMUgeGJ2j3a829ttziJapm",
     "timestamp": 1683556940993
    }
   ],
   "gpuClass": "premium"
  },
  "kernelspec": {
   "name": "python3",
   "language": "python",
   "display_name": "Python 3 (ipykernel)"
  },
  "language_info": {
   "name": "python"
  }
 },
 "nbformat": 4,
 "nbformat_minor": 0
}
