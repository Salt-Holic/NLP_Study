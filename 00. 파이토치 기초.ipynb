{
 "cells": [
  {
   "cell_type": "markdown",
   "source": [
    "### 텐서 만들기"
   ],
   "metadata": {
    "collapsed": false
   }
  },
  {
   "cell_type": "code",
   "execution_count": 1,
   "metadata": {
    "collapsed": true
   },
   "outputs": [],
   "source": [
    "def describe(x):\n",
    "    print('타입: {}'.format(x.type()))\n",
    "    print('크기: {}'.format(x.shape))\n",
    "    print('값: {}'.format(x))\n",
    "    print()\n"
   ]
  },
  {
   "cell_type": "code",
   "execution_count": 2,
   "outputs": [
    {
     "name": "stdout",
     "output_type": "stream",
     "text": [
      "타입: torch.FloatTensor\n",
      "크기: torch.Size([2, 3])\n",
      "값: tensor([[0., 0., 0.],\n",
      "        [0., 0., 0.]])\n",
      "\n"
     ]
    }
   ],
   "source": [
    "import torch\n",
    "\n",
    "describe(torch.Tensor(2, 3))"
   ],
   "metadata": {
    "collapsed": false,
    "ExecuteTime": {
     "end_time": "2023-06-09T13:56:52.881163Z",
     "start_time": "2023-06-09T13:56:51.874548Z"
    }
   }
  },
  {
   "cell_type": "code",
   "execution_count": 3,
   "outputs": [
    {
     "name": "stdout",
     "output_type": "stream",
     "text": [
      "타입: torch.FloatTensor\n",
      "크기: torch.Size([2, 3])\n",
      "값: tensor([[0.4516, 0.5324, 0.5025],\n",
      "        [0.3851, 0.2914, 0.8602]])\n",
      "\n",
      "타입: torch.FloatTensor\n",
      "크기: torch.Size([2, 3])\n",
      "값: tensor([[ 2.1417,  0.3095,  0.1001],\n",
      "        [-0.5830, -2.6298,  0.0265]])\n",
      "\n"
     ]
    }
   ],
   "source": [
    "# 랜덤 초기화\n",
    "describe(torch.rand(2, 3))  # 균등 분포\n",
    "describe(torch.randn(2, 3))  # 표준 정규 분포"
   ],
   "metadata": {
    "collapsed": false,
    "ExecuteTime": {
     "end_time": "2023-06-09T13:56:52.891067Z",
     "start_time": "2023-06-09T13:56:52.881571Z"
    }
   }
  },
  {
   "cell_type": "code",
   "execution_count": 4,
   "outputs": [
    {
     "name": "stdout",
     "output_type": "stream",
     "text": [
      "타입: torch.FloatTensor\n",
      "크기: torch.Size([2, 3])\n",
      "값: tensor([[0., 0., 0.],\n",
      "        [0., 0., 0.]])\n",
      "\n",
      "타입: torch.FloatTensor\n",
      "크기: torch.Size([2, 3])\n",
      "값: tensor([[1., 1., 1.],\n",
      "        [1., 1., 1.]])\n",
      "\n",
      "타입: torch.FloatTensor\n",
      "크기: torch.Size([2, 3])\n",
      "값: tensor([[5., 5., 5.],\n",
      "        [5., 5., 5.]])\n",
      "\n"
     ]
    }
   ],
   "source": [
    "# filled() 메서드 사용\n",
    "describe(torch.zeros(2, 3))\n",
    "x = torch.ones(2, 3)\n",
    "describe(x)\n",
    "x.fill_(5)\n",
    "describe(x)"
   ],
   "metadata": {
    "collapsed": false,
    "ExecuteTime": {
     "end_time": "2023-06-09T13:56:52.896357Z",
     "start_time": "2023-06-09T13:56:52.892813Z"
    }
   }
  },
  {
   "cell_type": "code",
   "execution_count": 5,
   "outputs": [
    {
     "name": "stdout",
     "output_type": "stream",
     "text": [
      "타입: torch.FloatTensor\n",
      "크기: torch.Size([2, 3])\n",
      "값: tensor([[1., 2., 3.],\n",
      "        [4., 5., 6.]])\n",
      "\n"
     ]
    }
   ],
   "source": [
    "# 파이썬 리스트로 텐서를 만들고 초기화 하기\n",
    "x = torch.Tensor([[1, 2, 3],\n",
    "                  [4, 5, 6]])\n",
    "describe(x)"
   ],
   "metadata": {
    "collapsed": false,
    "ExecuteTime": {
     "end_time": "2023-06-09T13:56:52.900112Z",
     "start_time": "2023-06-09T13:56:52.897022Z"
    }
   }
  },
  {
   "cell_type": "code",
   "execution_count": 6,
   "outputs": [
    {
     "name": "stdout",
     "output_type": "stream",
     "text": [
      "타입: torch.DoubleTensor\n",
      "크기: torch.Size([2, 3])\n",
      "값: tensor([[0.6446, 0.7332, 0.0236],\n",
      "        [0.6694, 0.0482, 0.4658]], dtype=torch.float64)\n",
      "\n"
     ]
    }
   ],
   "source": [
    "# 넘파이로 텐서를 만들고 초기화\n",
    "import numpy as np\n",
    "\n",
    "npy = np.random.rand(2, 3)\n",
    "describe(torch.from_numpy(npy))\n",
    "# 넘파이 기본 데이터 타입이 float64여서 동일하게 float64로 타입이 결정"
   ],
   "metadata": {
    "collapsed": false,
    "ExecuteTime": {
     "end_time": "2023-06-09T13:56:52.961287Z",
     "start_time": "2023-06-09T13:56:52.901719Z"
    }
   }
  },
  {
   "cell_type": "markdown",
   "source": [
    "### 텐서 타입과 크기"
   ],
   "metadata": {
    "collapsed": false
   }
  },
  {
   "cell_type": "code",
   "execution_count": 7,
   "outputs": [
    {
     "name": "stdout",
     "output_type": "stream",
     "text": [
      "타입: torch.FloatTensor\n",
      "크기: torch.Size([2, 3])\n",
      "값: tensor([[1., 2., 3.],\n",
      "        [4., 5., 6.]])\n",
      "\n"
     ]
    }
   ],
   "source": [
    "x = torch.FloatTensor([[1, 2, 3],\n",
    "                       [4, 5, 6]])\n",
    "describe(x)"
   ],
   "metadata": {
    "collapsed": false,
    "ExecuteTime": {
     "end_time": "2023-06-09T13:56:52.962180Z",
     "start_time": "2023-06-09T13:56:52.906328Z"
    }
   }
  },
  {
   "cell_type": "code",
   "execution_count": 8,
   "outputs": [
    {
     "name": "stdout",
     "output_type": "stream",
     "text": [
      "타입: torch.LongTensor\n",
      "크기: torch.Size([2, 3])\n",
      "값: tensor([[1, 2, 3],\n",
      "        [4, 5, 6]])\n",
      "\n"
     ]
    }
   ],
   "source": [
    "x = x.long()\n",
    "describe(x)"
   ],
   "metadata": {
    "collapsed": false,
    "ExecuteTime": {
     "end_time": "2023-06-09T13:56:52.962739Z",
     "start_time": "2023-06-09T13:56:52.910977Z"
    }
   }
  },
  {
   "cell_type": "code",
   "execution_count": 9,
   "outputs": [
    {
     "name": "stdout",
     "output_type": "stream",
     "text": [
      "타입: torch.LongTensor\n",
      "크기: torch.Size([2, 3])\n",
      "값: tensor([[1, 2, 3],\n",
      "        [4, 5, 6]])\n",
      "\n",
      "타입: torch.FloatTensor\n",
      "크기: torch.Size([2, 3])\n",
      "값: tensor([[1., 2., 3.],\n",
      "        [4., 5., 6.]])\n",
      "\n"
     ]
    }
   ],
   "source": [
    "# torch.Tensor -> 기본 torch.FloatTensor, 타입을 캐스팅해서 다른 타입 사용\n",
    "# torch.tensor -> dtype을 지정해서 사용\n",
    "x = torch.tensor([[1, 2, 3],\n",
    "                  [4, 5, 6]], dtype=torch.int64)\n",
    "describe(x)\n",
    "\n",
    "x = x.float()\n",
    "describe(x)"
   ],
   "metadata": {
    "collapsed": false,
    "ExecuteTime": {
     "end_time": "2023-06-09T13:56:52.963019Z",
     "start_time": "2023-06-09T13:56:52.916225Z"
    }
   }
  },
  {
   "cell_type": "markdown",
   "source": [
    "### 텐서 연산"
   ],
   "metadata": {
    "collapsed": false
   }
  },
  {
   "cell_type": "code",
   "execution_count": 10,
   "outputs": [
    {
     "name": "stdout",
     "output_type": "stream",
     "text": [
      "타입: torch.FloatTensor\n",
      "크기: torch.Size([2, 3])\n",
      "값: tensor([[ 0.7258,  0.9344,  0.9276],\n",
      "        [-0.7711,  0.3508, -2.1222]])\n",
      "\n"
     ]
    }
   ],
   "source": [
    "x = torch.randn(2, 3)\n",
    "describe(x)"
   ],
   "metadata": {
    "collapsed": false,
    "ExecuteTime": {
     "end_time": "2023-06-09T13:56:52.963263Z",
     "start_time": "2023-06-09T13:56:52.922965Z"
    }
   }
  },
  {
   "cell_type": "code",
   "execution_count": 11,
   "outputs": [
    {
     "name": "stdout",
     "output_type": "stream",
     "text": [
      "타입: torch.FloatTensor\n",
      "크기: torch.Size([2, 3])\n",
      "값: tensor([[ 1.4515,  1.8689,  1.8553],\n",
      "        [-1.5423,  0.7015, -4.2445]])\n",
      "\n"
     ]
    }
   ],
   "source": [
    "describe(torch.add(x, x))"
   ],
   "metadata": {
    "collapsed": false,
    "ExecuteTime": {
     "end_time": "2023-06-09T13:56:52.963444Z",
     "start_time": "2023-06-09T13:56:52.926484Z"
    }
   }
  },
  {
   "cell_type": "code",
   "execution_count": 12,
   "outputs": [
    {
     "name": "stdout",
     "output_type": "stream",
     "text": [
      "타입: torch.FloatTensor\n",
      "크기: torch.Size([2, 3])\n",
      "값: tensor([[ 1.4515,  1.8689,  1.8553],\n",
      "        [-1.5423,  0.7015, -4.2445]])\n",
      "\n"
     ]
    }
   ],
   "source": [
    "describe(x + x)"
   ],
   "metadata": {
    "collapsed": false,
    "ExecuteTime": {
     "end_time": "2023-06-09T13:56:52.963847Z",
     "start_time": "2023-06-09T13:56:52.932212Z"
    }
   }
  },
  {
   "cell_type": "code",
   "execution_count": 13,
   "outputs": [
    {
     "name": "stdout",
     "output_type": "stream",
     "text": [
      "타입: torch.LongTensor\n",
      "크기: torch.Size([6])\n",
      "값: tensor([0, 1, 2, 3, 4, 5])\n",
      "\n",
      "타입: torch.LongTensor\n",
      "크기: torch.Size([2, 3])\n",
      "값: tensor([[0, 1, 2],\n",
      "        [3, 4, 5]])\n",
      "\n"
     ]
    }
   ],
   "source": [
    "'''\n",
    "텐서의 특정 차원에 적용할 수 있는 연산도 있음\n",
    "2D 텐서는 행을 0, 열을 1로 표현\n",
    "'''\n",
    "# 차원별 텐서 연산\n",
    "x = torch.arange(6)\n",
    "describe(x)\n",
    "\n",
    "x = x.view(2, 3)\n",
    "describe(x)"
   ],
   "metadata": {
    "collapsed": false,
    "ExecuteTime": {
     "end_time": "2023-06-09T13:56:52.964066Z",
     "start_time": "2023-06-09T13:56:52.936616Z"
    }
   }
  },
  {
   "cell_type": "code",
   "execution_count": 14,
   "outputs": [
    {
     "name": "stdout",
     "output_type": "stream",
     "text": [
      "타입: torch.LongTensor\n",
      "크기: torch.Size([3])\n",
      "값: tensor([3, 5, 7])\n",
      "\n"
     ]
    }
   ],
   "source": [
    "describe(torch.sum(x, dim=0))  # 행 덧셈"
   ],
   "metadata": {
    "collapsed": false,
    "ExecuteTime": {
     "end_time": "2023-06-09T13:56:52.964267Z",
     "start_time": "2023-06-09T13:56:52.941242Z"
    }
   }
  },
  {
   "cell_type": "code",
   "execution_count": 15,
   "outputs": [
    {
     "name": "stdout",
     "output_type": "stream",
     "text": [
      "타입: torch.LongTensor\n",
      "크기: torch.Size([2])\n",
      "값: tensor([ 3, 12])\n",
      "\n"
     ]
    }
   ],
   "source": [
    "describe(torch.sum(x, dim=1))  # 열 덧셈"
   ],
   "metadata": {
    "collapsed": false,
    "ExecuteTime": {
     "end_time": "2023-06-09T13:56:52.964422Z",
     "start_time": "2023-06-09T13:56:52.945084Z"
    }
   }
  },
  {
   "cell_type": "code",
   "execution_count": 16,
   "outputs": [
    {
     "name": "stdout",
     "output_type": "stream",
     "text": [
      "타입: torch.LongTensor\n",
      "크기: torch.Size([3, 2])\n",
      "값: tensor([[0, 3],\n",
      "        [1, 4],\n",
      "        [2, 5]])\n",
      "\n"
     ]
    }
   ],
   "source": [
    "describe(torch.transpose(x, 0, 1))"
   ],
   "metadata": {
    "collapsed": false,
    "ExecuteTime": {
     "end_time": "2023-06-09T13:56:52.964616Z",
     "start_time": "2023-06-09T13:56:52.954799Z"
    }
   }
  },
  {
   "cell_type": "markdown",
   "source": [
    "### 인덱싱, 슬라이싱, 연결"
   ],
   "metadata": {
    "collapsed": false
   }
  },
  {
   "cell_type": "code",
   "execution_count": 17,
   "outputs": [
    {
     "name": "stdout",
     "output_type": "stream",
     "text": [
      "타입: torch.LongTensor\n",
      "크기: torch.Size([2, 3])\n",
      "값: tensor([[0, 1, 2],\n",
      "        [3, 4, 5]])\n",
      "\n"
     ]
    }
   ],
   "source": [
    "x = torch.arange(6).view(2, 3)\n",
    "describe(x)"
   ],
   "metadata": {
    "collapsed": false,
    "ExecuteTime": {
     "end_time": "2023-06-09T13:56:52.964782Z",
     "start_time": "2023-06-09T13:56:52.955163Z"
    }
   }
  },
  {
   "cell_type": "code",
   "execution_count": 18,
   "outputs": [
    {
     "name": "stdout",
     "output_type": "stream",
     "text": [
      "타입: torch.LongTensor\n",
      "크기: torch.Size([1, 2])\n",
      "값: tensor([[0, 1]])\n",
      "\n"
     ]
    }
   ],
   "source": [
    "describe(x[:1, :2])"
   ],
   "metadata": {
    "collapsed": false,
    "ExecuteTime": {
     "end_time": "2023-06-09T13:56:52.965322Z",
     "start_time": "2023-06-09T13:56:52.955570Z"
    }
   }
  },
  {
   "cell_type": "code",
   "execution_count": 19,
   "outputs": [
    {
     "name": "stdout",
     "output_type": "stream",
     "text": [
      "타입: torch.LongTensor\n",
      "크기: torch.Size([])\n",
      "값: 1\n",
      "\n"
     ]
    }
   ],
   "source": [
    "describe(x[0, 1])"
   ],
   "metadata": {
    "collapsed": false,
    "ExecuteTime": {
     "end_time": "2023-06-09T13:56:52.965752Z",
     "start_time": "2023-06-09T13:56:52.957732Z"
    }
   }
  },
  {
   "cell_type": "code",
   "execution_count": 20,
   "outputs": [
    {
     "name": "stdout",
     "output_type": "stream",
     "text": [
      "타입: torch.LongTensor\n",
      "크기: torch.Size([2, 2])\n",
      "값: tensor([[0, 2],\n",
      "        [3, 5]])\n",
      "\n"
     ]
    }
   ],
   "source": [
    "indicies = torch.LongTensor([0, 2])\n",
    "describe(torch.index_select(x, dim=1, index=indicies))  # input: Tensor, dim=1 열 0과 2열을 선택"
   ],
   "metadata": {
    "collapsed": false,
    "ExecuteTime": {
     "end_time": "2023-06-09T13:56:52.966041Z",
     "start_time": "2023-06-09T13:56:52.961713Z"
    }
   }
  },
  {
   "cell_type": "code",
   "execution_count": 21,
   "outputs": [
    {
     "name": "stdout",
     "output_type": "stream",
     "text": [
      "타입: torch.LongTensor\n",
      "크기: torch.Size([2, 3])\n",
      "값: tensor([[0, 1, 2],\n",
      "        [0, 1, 2]])\n",
      "\n"
     ]
    }
   ],
   "source": [
    "indicies = torch.LongTensor([0, 0])\n",
    "describe(torch.index_select(x, dim=0, index=indicies))  # 행에 대해서 0번째 행을 두 번 선택"
   ],
   "metadata": {
    "collapsed": false,
    "ExecuteTime": {
     "end_time": "2023-06-09T13:56:52.970032Z",
     "start_time": "2023-06-09T13:56:52.965846Z"
    }
   }
  },
  {
   "cell_type": "code",
   "execution_count": 22,
   "outputs": [
    {
     "name": "stdout",
     "output_type": "stream",
     "text": [
      "타입: torch.LongTensor\n",
      "크기: torch.Size([2])\n",
      "값: tensor([0, 4])\n",
      "\n"
     ]
    }
   ],
   "source": [
    "row_indices = torch.arange(2).long()\n",
    "col_indices = torch.LongTensor([0, 1])\n",
    "describe(x[row_indices, col_indices])  # [0, 0], [1, 1] 선택\n",
    "# 인덱스를 설정할 때 항상 long type"
   ],
   "metadata": {
    "collapsed": false,
    "ExecuteTime": {
     "end_time": "2023-06-09T13:56:52.972753Z",
     "start_time": "2023-06-09T13:56:52.968942Z"
    }
   }
  },
  {
   "cell_type": "code",
   "execution_count": 23,
   "outputs": [
    {
     "name": "stdout",
     "output_type": "stream",
     "text": [
      "타입: torch.LongTensor\n",
      "크기: torch.Size([2, 3])\n",
      "값: tensor([[0, 1, 2],\n",
      "        [3, 4, 5]])\n",
      "\n"
     ]
    }
   ],
   "source": [
    "# 텐서 연결\n",
    "x = torch.arange(6).view(2, 3)\n",
    "describe(x)"
   ],
   "metadata": {
    "collapsed": false,
    "ExecuteTime": {
     "end_time": "2023-06-09T13:56:52.975543Z",
     "start_time": "2023-06-09T13:56:52.973124Z"
    }
   }
  },
  {
   "cell_type": "code",
   "execution_count": 24,
   "outputs": [
    {
     "name": "stdout",
     "output_type": "stream",
     "text": [
      "타입: torch.LongTensor\n",
      "크기: torch.Size([4, 3])\n",
      "값: tensor([[0, 1, 2],\n",
      "        [3, 4, 5],\n",
      "        [0, 1, 2],\n",
      "        [3, 4, 5]])\n",
      "\n"
     ]
    }
   ],
   "source": [
    "describe(torch.cat([x, x], dim=0))  # 행을 기준으로 이어 붙힘"
   ],
   "metadata": {
    "collapsed": false,
    "ExecuteTime": {
     "end_time": "2023-06-09T13:56:53.127787Z",
     "start_time": "2023-06-09T13:56:52.976525Z"
    }
   }
  },
  {
   "cell_type": "code",
   "execution_count": 25,
   "outputs": [
    {
     "name": "stdout",
     "output_type": "stream",
     "text": [
      "타입: torch.LongTensor\n",
      "크기: torch.Size([2, 6])\n",
      "값: tensor([[0, 1, 2, 0, 1, 2],\n",
      "        [3, 4, 5, 3, 4, 5]])\n",
      "\n"
     ]
    }
   ],
   "source": [
    "describe(torch.cat([x, x], dim=1))"
   ],
   "metadata": {
    "collapsed": false,
    "ExecuteTime": {
     "end_time": "2023-06-09T13:56:53.128746Z",
     "start_time": "2023-06-09T13:56:52.983454Z"
    }
   }
  },
  {
   "cell_type": "code",
   "execution_count": 26,
   "outputs": [
    {
     "name": "stdout",
     "output_type": "stream",
     "text": [
      "타입: torch.LongTensor\n",
      "크기: torch.Size([2, 2, 3])\n",
      "값: tensor([[[0, 1, 2],\n",
      "         [3, 4, 5]],\n",
      "\n",
      "        [[0, 1, 2],\n",
      "         [3, 4, 5]]])\n",
      "\n"
     ]
    }
   ],
   "source": [
    "describe(torch.stack([x, x]))  # 차원 증가"
   ],
   "metadata": {
    "collapsed": false,
    "ExecuteTime": {
     "end_time": "2023-06-09T13:56:53.128946Z",
     "start_time": "2023-06-09T13:56:52.986354Z"
    }
   }
  },
  {
   "cell_type": "code",
   "execution_count": 27,
   "outputs": [
    {
     "name": "stdout",
     "output_type": "stream",
     "text": [
      "타입: torch.LongTensor\n",
      "크기: torch.Size([2, 3])\n",
      "값: tensor([[0, 1, 2],\n",
      "        [3, 4, 5]])\n",
      "\n"
     ]
    }
   ],
   "source": [
    "# 텐서의 선형대수 계산: 행렬 곱셈\n",
    "x1 = torch.arange(6).view(2, 3)\n",
    "describe(x1)"
   ],
   "metadata": {
    "collapsed": false,
    "ExecuteTime": {
     "end_time": "2023-06-09T13:56:53.129137Z",
     "start_time": "2023-06-09T13:56:52.988742Z"
    }
   }
  },
  {
   "cell_type": "code",
   "execution_count": 28,
   "outputs": [
    {
     "name": "stdout",
     "output_type": "stream",
     "text": [
      "타입: torch.FloatTensor\n",
      "크기: torch.Size([3, 2])\n",
      "값: tensor([[1., 2.],\n",
      "        [1., 2.],\n",
      "        [1., 2.]])\n",
      "\n"
     ]
    }
   ],
   "source": [
    "x2 = torch.ones(3, 2)\n",
    "x2[:, 1] += 1  # 열 +1\n",
    "describe(x2)"
   ],
   "metadata": {
    "collapsed": false,
    "ExecuteTime": {
     "end_time": "2023-06-09T13:56:53.129428Z",
     "start_time": "2023-06-09T13:56:52.996341Z"
    }
   }
  },
  {
   "cell_type": "code",
   "execution_count": 29,
   "outputs": [
    {
     "name": "stdout",
     "output_type": "stream",
     "text": [
      "타입: torch.FloatTensor\n",
      "크기: torch.Size([2, 2])\n",
      "값: tensor([[ 3.,  6.],\n",
      "        [12., 24.]])\n",
      "\n"
     ]
    }
   ],
   "source": [
    "describe(torch.mm(x1.float(), x2))  # 형을 맞춰야 곱셈이 됨"
   ],
   "metadata": {
    "collapsed": false,
    "ExecuteTime": {
     "end_time": "2023-06-09T13:56:53.129598Z",
     "start_time": "2023-06-09T13:56:53.000811Z"
    }
   }
  },
  {
   "cell_type": "markdown",
   "source": [
    "### 텐서와 계산 그래프"
   ],
   "metadata": {
    "collapsed": false
   }
  },
  {
   "cell_type": "code",
   "execution_count": 30,
   "outputs": [
    {
     "name": "stdout",
     "output_type": "stream",
     "text": [
      "타입: torch.FloatTensor\n",
      "크기: torch.Size([2, 2])\n",
      "값: tensor([[1., 1.],\n",
      "        [1., 1.]], requires_grad=True)\n",
      "\n",
      "True\n"
     ]
    }
   ],
   "source": [
    "# 그래디언트 연산을 할 수 있는 텐서 만들기\n",
    "x = torch.ones(2, 2, requires_grad=True)\n",
    "# requires_grad 불리언 매개변수 True로 지정시 그레이디언트 기반 학습에 필요한 손실 함수와 텐서의 그레이디언트를 기로하는 부가 연산을 활성화\n",
    "describe(x)\n",
    "print(x.grad is None)\n"
   ],
   "metadata": {
    "collapsed": false,
    "ExecuteTime": {
     "end_time": "2023-06-09T13:56:53.129859Z",
     "start_time": "2023-06-09T13:56:53.005157Z"
    }
   }
  },
  {
   "cell_type": "code",
   "execution_count": 31,
   "outputs": [
    {
     "name": "stdout",
     "output_type": "stream",
     "text": [
      "타입: torch.FloatTensor\n",
      "크기: torch.Size([2, 2])\n",
      "값: tensor([[21., 21.],\n",
      "        [21., 21.]], grad_fn=<AddBackward0>)\n",
      "\n",
      "True\n"
     ]
    }
   ],
   "source": [
    "y = (x + 2) * (x + 5) + 3\n",
    "describe(y)\n",
    "print(x.grad is None)"
   ],
   "metadata": {
    "collapsed": false,
    "ExecuteTime": {
     "end_time": "2023-06-09T13:56:53.130033Z",
     "start_time": "2023-06-09T13:56:53.008283Z"
    }
   }
  },
  {
   "cell_type": "code",
   "execution_count": 32,
   "outputs": [
    {
     "name": "stdout",
     "output_type": "stream",
     "text": [
      "타입: torch.FloatTensor\n",
      "크기: torch.Size([])\n",
      "값: 21.0\n",
      "\n",
      "False\n"
     ]
    }
   ],
   "source": [
    "z = y.mean()\n",
    "describe(z)\n",
    "z.backward()\n",
    "print(x.grad is None)"
   ],
   "metadata": {
    "collapsed": false,
    "ExecuteTime": {
     "end_time": "2023-06-09T13:56:53.131055Z",
     "start_time": "2023-06-09T13:56:53.011829Z"
    }
   }
  },
  {
   "cell_type": "markdown",
   "source": [
    "### CUDA 텐서"
   ],
   "metadata": {
    "collapsed": false
   }
  },
  {
   "cell_type": "code",
   "execution_count": 33,
   "outputs": [
    {
     "name": "stdout",
     "output_type": "stream",
     "text": [
      "mps\n"
     ]
    }
   ],
   "source": [
    "# device = torch.device('cuda' if torch.cuda.is_available() else 'cpu')\n",
    "device = torch.device('mps' if torch.backends.mps.is_available() else 'cpu')\n",
    "\n",
    "print(device)"
   ],
   "metadata": {
    "collapsed": false,
    "ExecuteTime": {
     "end_time": "2023-06-09T13:56:53.131295Z",
     "start_time": "2023-06-09T13:56:53.031034Z"
    }
   }
  },
  {
   "cell_type": "code",
   "execution_count": 34,
   "outputs": [
    {
     "name": "stdout",
     "output_type": "stream",
     "text": [
      "타입: torch.mps.FloatTensor\n",
      "크기: torch.Size([3, 3])\n",
      "값: tensor([[0.6043, 0.3890, 0.1394],\n",
      "        [0.4029, 0.9789, 0.6683],\n",
      "        [0.7869, 0.2585, 0.3029]], device='mps:0')\n",
      "\n"
     ]
    }
   ],
   "source": [
    "x = torch.rand(3, 3).to(device)\n",
    "describe(x)"
   ],
   "metadata": {
    "collapsed": false,
    "ExecuteTime": {
     "end_time": "2023-06-09T13:56:53.260177Z",
     "start_time": "2023-06-09T13:56:53.034080Z"
    }
   }
  },
  {
   "cell_type": "code",
   "execution_count": 35,
   "outputs": [
    {
     "ename": "RuntimeError",
     "evalue": "Expected all tensors to be on the same device, but found at least two devices, mps:0 and cpu!",
     "output_type": "error",
     "traceback": [
      "\u001B[0;31m---------------------------------------------------------------------------\u001B[0m",
      "\u001B[0;31mRuntimeError\u001B[0m                              Traceback (most recent call last)",
      "Cell \u001B[0;32mIn[35], line 2\u001B[0m\n\u001B[1;32m      1\u001B[0m y \u001B[38;5;241m=\u001B[39m torch\u001B[38;5;241m.\u001B[39mrand(\u001B[38;5;241m3\u001B[39m, \u001B[38;5;241m3\u001B[39m)\n\u001B[0;32m----> 2\u001B[0m x \u001B[38;5;241m+\u001B[39m y\n\u001B[1;32m      3\u001B[0m \u001B[38;5;66;03m# cpu 와 gpu는 같이 연산 불가\u001B[39;00m\n\u001B[1;32m      4\u001B[0m \u001B[38;5;124;03m'''\u001B[39;00m\n\u001B[1;32m      5\u001B[0m \u001B[38;5;124;03mgpu로 데이터를 넣고 꺼내는 작업은 비용이 많이 들어감\u001B[39;00m\n\u001B[1;32m      6\u001B[0m \u001B[38;5;124;03m따라서 병렬 계산은 gpu에서 수행하고 최종 결과만 cpu로 전송\u001B[39;00m\n\u001B[1;32m      7\u001B[0m \u001B[38;5;124;03mcuda 장치가 여러개 있다면 CUDA_VISIBLE_DEVICES 환경 변수를 사용\u001B[39;00m\n\u001B[1;32m      8\u001B[0m \u001B[38;5;124;03m'''\u001B[39;00m\n",
      "\u001B[0;31mRuntimeError\u001B[0m: Expected all tensors to be on the same device, but found at least two devices, mps:0 and cpu!"
     ]
    }
   ],
   "source": [
    "y = torch.rand(3, 3)\n",
    "x + y\n",
    "# cpu 와 gpu는 같이 연산 불가\n",
    "'''\n",
    "gpu로 데이터를 넣고 꺼내는 작업은 비용이 많이 들어감\n",
    "따라서 병렬 계산은 gpu에서 수행하고 최종 결과만 cpu로 전송\n",
    "cuda 장치가 여러개 있다면 CUDA_VISIBLE_DEVICES 환경 변수를 사용\n",
    "'''"
   ],
   "metadata": {
    "collapsed": false,
    "ExecuteTime": {
     "end_time": "2023-06-09T13:56:53.560304Z",
     "start_time": "2023-06-09T13:56:53.260900Z"
    }
   }
  },
  {
   "cell_type": "markdown",
   "source": [
    "### 연습 문제"
   ],
   "metadata": {
    "collapsed": false
   }
  },
  {
   "cell_type": "code",
   "execution_count": null,
   "outputs": [],
   "source": [
    "# 1. 2D텐서를 만들고 차원 0 위치에 크기가 1인 차원을 추가\n",
    "x = torch.rand(3, 3)\n",
    "describe(x)\n",
    "x = x.unsqueeze(0)\n",
    "describe(x)\n"
   ],
   "metadata": {
    "collapsed": false
   }
  },
  {
   "cell_type": "code",
   "execution_count": null,
   "outputs": [],
   "source": [
    "# 2. 이전 텐서에 추가한 차원 삭제\n",
    "x = x.squeeze(0)\n",
    "describe(x)"
   ],
   "metadata": {
    "collapsed": false
   }
  },
  {
   "cell_type": "code",
   "execution_count": null,
   "outputs": [],
   "source": [
    "# 3. 범위가 (3, 7)이고 크기가 5,3인 랜덤한 텐서를 만드세요\n",
    "x = 3 + torch.rand(5, 3) * (7 - 3)\n",
    "describe(x)\n",
    "'''\n",
    "rand -> 0~1범위 0~4범위로 스케일링 해주고 +3\n",
    "'''"
   ],
   "metadata": {
    "collapsed": false
   }
  },
  {
   "cell_type": "code",
   "execution_count": null,
   "outputs": [],
   "source": [
    "# 4. 정규 분포(평균=0, 표준편차=1)를 사용해 텐서를 만드세요\n",
    "x = torch.randn(3, 3)\n",
    "describe(x)"
   ],
   "metadata": {
    "collapsed": false
   }
  },
  {
   "cell_type": "code",
   "execution_count": null,
   "outputs": [],
   "source": [
    "# 5. 텐서 torch.Tensor([1, 1, 1, 0, 1])에서 0이 아닌 원소의 인덱스를 추출\n",
    "x = torch.Tensor([1, 1, 1, 0, 1])\n",
    "print(x.count_nonzero())\n",
    "torch.nonzero(x)"
   ],
   "metadata": {
    "collapsed": false
   }
  },
  {
   "cell_type": "code",
   "execution_count": null,
   "outputs": [],
   "source": [
    "# 6. 크기가 (3, 1)인 랜덤한 텐서를 만들고 네 벌을 복사해 쌓으세요\n",
    "x = torch.rand(3, 1)\n",
    "describe(torch.hstack([x] * 4))\n",
    "\n",
    "x.expand(3, 4)"
   ],
   "metadata": {
    "collapsed": false
   }
  },
  {
   "cell_type": "code",
   "execution_count": null,
   "outputs": [],
   "source": [
    "# 7. 2차원 행렬 두 개(a=torch.rand(3, 4, 5), b=torch.rand(3, 5, 4))의 배치 행렬 곱셈을 계산\n",
    "a = torch.rand(3, 4, 5)\n",
    "b = torch.rand(3, 5, 4)\n",
    "torch.bmm(a, b)"
   ],
   "metadata": {
    "collapsed": false
   }
  },
  {
   "cell_type": "code",
   "execution_count": null,
   "outputs": [],
   "source": [
    "# 8. 3차원 행렬 a=torch.rand(3, 4, 5), 2차원 행렬 b=torch.rand(5, 4)의 배치 행렬 곱셈\n",
    "a = torch.rand(3, 4, 5)\n",
    "b = torch.rand(5, 4)\n",
    "torch.matmul(a, b)\n",
    "\n",
    "# torch.bmm(a, b.unsqueeze(0).expand(a.size(0), *b.size())"
   ],
   "metadata": {
    "collapsed": false
   }
  },
  {
   "cell_type": "markdown",
   "source": [
    "## 신경망의 기본 구성 요소"
   ],
   "metadata": {
    "collapsed": false
   }
  },
  {
   "cell_type": "markdown",
   "source": [
    "### 퍼셉트론"
   ],
   "metadata": {
    "collapsed": false
   }
  },
  {
   "cell_type": "code",
   "execution_count": null,
   "outputs": [],
   "source": [
    "import torch\n",
    "import torch.nn as nn\n",
    "\n",
    "\n",
    "class Perceptron(nn.Module):\n",
    "    # 퍼셉트론은 하나의 선형 층\n",
    "    def __init__(self, input_dim):\n",
    "        # 매개변수: input_dim(int) 입력 특성의 크기\n",
    "        super(Perceptron, self).__init__()\n",
    "        self.fc1 = nn.Linear(input_dim, 1)\n",
    "\n",
    "    def forward(self, x_in):\n",
    "        '''\n",
    "        퍼셉트론의 정방향 계산\n",
    "\n",
    "        매개변수:\n",
    "            x_in(torch.Tensor): 입력 데이터 텐서\n",
    "                x_in.shape는 (batch, num_features)\n",
    "        반환값:\n",
    "            결과 텐서 tensor.shape는 (batch,)\n",
    "        '''\n",
    "        return torch.sigmoid(self.fc1(x_in)).squeeze()"
   ],
   "metadata": {
    "collapsed": false
   }
  },
  {
   "cell_type": "markdown",
   "source": [
    "## 활성화 함수"
   ],
   "metadata": {
    "collapsed": false
   }
  },
  {
   "cell_type": "markdown",
   "source": [
    "### 시그모이드(Sigmoid)\n",
    "\n",
    "$f(x) = \\frac{1}{1 + e^{-x}}$\n",
    "\n",
    "임의의 실숫값을 입력 받아 0과 1사이의 값으로 압축\n",
    "\n",
    "시그모이드 함수는 입력 범위 대부분에서 매우 빠르게 포화됨(즉, 극단적인 출력을 만듦)\n",
    "\n",
    "이로 인해 그레이디언트가 0이 되거나 발산하여 부동소수 오버플로가 되는 문제 발생(그레이디언트 소실, 폭주 문제)\n",
    "\n",
    "이 때문에 신경망에서 시그모이드 활성화 함수는 거의 출력층에서만 사용\n",
    "\n",
    "출력층에서는 출력을 확률로 압축하는 데 시그모이드 함수를 사용"
   ],
   "metadata": {
    "collapsed": false
   }
  },
  {
   "cell_type": "code",
   "execution_count": null,
   "outputs": [],
   "source": [
    "import torch\n",
    "import matplotlib.pyplot as plt\n",
    "\n",
    "x = torch.range(-5, 5, 0.1)\n",
    "y = torch.sigmoid(x)\n",
    "plt.plot(x.numpy(), y.numpy())\n",
    "plt.show()"
   ],
   "metadata": {
    "collapsed": false
   }
  },
  {
   "cell_type": "markdown",
   "source": [
    "### 하이퍼볼릭 탄젠트(Hyperbolic Tangent, tanh)\n",
    "\n",
    "$f(x) = tanhx = \\frac{sinhx}{coshx} = \\frac{e^x - e^{-x}}{e^x + e^{-x}} $\n",
    "\n",
    "시그모이드 처럼 하이퍼볼릭 탄젠트도 압축 함수, 다만 (-1, 1)로 압축함"
   ],
   "metadata": {
    "collapsed": false
   }
  },
  {
   "cell_type": "code",
   "execution_count": 37,
   "outputs": [
    {
     "data": {
      "text/plain": "<Figure size 640x480 with 1 Axes>",
      "image/png": "[encoded data removed]"
     },
     "metadata": {},
     "output_type": "display_data"
    }
   ],
   "source": [
    "import torch\n",
    "import matplotlib.pyplot as plt\n",
    "\n",
    "x = torch.arange(-5, 5, 0.1)\n",
    "y = torch.tanh(x)\n",
    "\n",
    "plt.plot(x.numpy(), y.numpy())\n",
    "plt.show()"
   ],
   "metadata": {
    "collapsed": false,
    "ExecuteTime": {
     "end_time": "2023-06-09T14:04:11.898870Z",
     "start_time": "2023-06-09T14:04:11.653709Z"
    }
   }
  },
  {
   "cell_type": "markdown",
   "source": [
    "### 렐루(relu)\n",
    "\n",
    "$f(x) = max(0, x)$\n",
    "\n"
   ],
   "metadata": {
    "collapsed": false
   }
  },
  {
   "cell_type": "code",
   "execution_count": null,
   "outputs": [],
   "source": [],
   "metadata": {
    "collapsed": false
   }
  },
  {
   "cell_type": "code",
   "execution_count": 36,
   "outputs": [
    {
     "name": "stdout",
     "output_type": "stream",
     "text": [
      "tensor([[-0.5250,  0.7702,  0.0972]])\n",
      "tensor([[0.1535, 0.5605, 0.2860]])\n",
      "tensor([1.])\n"
     ]
    }
   ],
   "source": [
    "import torch.nn as nn\n",
    "import torch\n",
    "\n",
    "softmax = nn.Softmax(dim=1)\n",
    "x_input = torch.randn(1, 3)\n",
    "y_output = softmax(x_input)\n",
    "print(x_input)\n",
    "print(y_output)\n",
    "print(torch.sum(y_output, dim=1))"
   ],
   "metadata": {
    "collapsed": false,
    "ExecuteTime": {
     "end_time": "2023-06-09T14:02:39.855812Z",
     "start_time": "2023-06-09T14:02:39.836785Z"
    }
   }
  },
  {
   "cell_type": "code",
   "execution_count": null,
   "outputs": [],
   "source": [],
   "metadata": {
    "collapsed": false
   }
  }
 ],
 "metadata": {
  "kernelspec": {
   "display_name": "Python 3",
   "language": "python",
   "name": "python3"
  },
  "language_info": {
   "codemirror_mode": {
    "name": "ipython",
    "version": 2
   },
   "file_extension": ".py",
   "mimetype": "text/x-python",
   "name": "python",
   "nbconvert_exporter": "python",
   "pygments_lexer": "ipython2",
   "version": "2.7.6"
  }
 },
 "nbformat": 4,
 "nbformat_minor": 0
}
