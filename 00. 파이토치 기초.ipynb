{
 "cells": [
  {
   "cell_type": "markdown",
   "source": [
    "### 텐서 만들기"
   ],
   "metadata": {
    "collapsed": false
   }
  },
  {
   "cell_type": "code",
   "execution_count": 1,
   "metadata": {
    "collapsed": true,
    "ExecuteTime": {
     "end_time": "2023-06-08T04:52:59.116654Z",
     "start_time": "2023-06-08T04:52:59.113610Z"
    }
   },
   "outputs": [],
   "source": [
    "def describe(x):\n",
    "    print('타입: {}'.format(x.type()))\n",
    "    print('크기: {}'.format(x.shape))\n",
    "    print('값: {}'.format(x))\n",
    "    print()\n"
   ]
  },
  {
   "cell_type": "code",
   "execution_count": 2,
   "outputs": [
    {
     "name": "stdout",
     "output_type": "stream",
     "text": [
      "타입: torch.FloatTensor\n",
      "크기: torch.Size([2, 3])\n",
      "값: tensor([[0., 0., 0.],\n",
      "        [0., 0., 0.]])\n",
      "\n"
     ]
    }
   ],
   "source": [
    "import torch\n",
    "describe(torch.Tensor(2, 3))"
   ],
   "metadata": {
    "collapsed": false,
    "ExecuteTime": {
     "end_time": "2023-06-08T04:53:00.154917Z",
     "start_time": "2023-06-08T04:52:59.117301Z"
    }
   }
  },
  {
   "cell_type": "code",
   "execution_count": 3,
   "outputs": [
    {
     "name": "stdout",
     "output_type": "stream",
     "text": [
      "타입: torch.FloatTensor\n",
      "크기: torch.Size([2, 3])\n",
      "값: tensor([[0.9074, 0.1237, 0.8801],\n",
      "        [0.6428, 0.5944, 0.0136]])\n",
      "\n",
      "타입: torch.FloatTensor\n",
      "크기: torch.Size([2, 3])\n",
      "값: tensor([[ 1.1355, -0.7674,  1.2075],\n",
      "        [ 0.8909,  0.5733, -0.3632]])\n",
      "\n"
     ]
    }
   ],
   "source": [
    "# 랜덤 초기화\n",
    "describe(torch.rand(2, 3)) # 균등 분포\n",
    "describe(torch.randn(2, 3)) # 표준 정규 분포"
   ],
   "metadata": {
    "collapsed": false,
    "ExecuteTime": {
     "end_time": "2023-06-08T04:53:00.162985Z",
     "start_time": "2023-06-08T04:53:00.154639Z"
    }
   }
  },
  {
   "cell_type": "code",
   "execution_count": 4,
   "outputs": [
    {
     "name": "stdout",
     "output_type": "stream",
     "text": [
      "타입: torch.FloatTensor\n",
      "크기: torch.Size([2, 3])\n",
      "값: tensor([[0., 0., 0.],\n",
      "        [0., 0., 0.]])\n",
      "\n",
      "타입: torch.FloatTensor\n",
      "크기: torch.Size([2, 3])\n",
      "값: tensor([[1., 1., 1.],\n",
      "        [1., 1., 1.]])\n",
      "\n",
      "타입: torch.FloatTensor\n",
      "크기: torch.Size([2, 3])\n",
      "값: tensor([[5., 5., 5.],\n",
      "        [5., 5., 5.]])\n",
      "\n"
     ]
    }
   ],
   "source": [
    "# filled() 메서드 사용\n",
    "describe(torch.zeros(2, 3))\n",
    "x = torch.ones(2, 3)\n",
    "describe(x)\n",
    "x.fill_(5)\n",
    "describe(x)"
   ],
   "metadata": {
    "collapsed": false,
    "ExecuteTime": {
     "end_time": "2023-06-08T04:53:00.167755Z",
     "start_time": "2023-06-08T04:53:00.163793Z"
    }
   }
  },
  {
   "cell_type": "code",
   "execution_count": 5,
   "outputs": [
    {
     "name": "stdout",
     "output_type": "stream",
     "text": [
      "타입: torch.FloatTensor\n",
      "크기: torch.Size([2, 3])\n",
      "값: tensor([[1., 2., 3.],\n",
      "        [4., 5., 6.]])\n",
      "\n"
     ]
    }
   ],
   "source": [
    "# 파이썬 리스트로 텐서를 만들고 초기화 하기\n",
    "x = torch.Tensor([[1,2,3],\n",
    "                  [4,5,6]])\n",
    "describe(x)"
   ],
   "metadata": {
    "collapsed": false,
    "ExecuteTime": {
     "end_time": "2023-06-08T04:53:00.172879Z",
     "start_time": "2023-06-08T04:53:00.169796Z"
    }
   }
  },
  {
   "cell_type": "code",
   "execution_count": 6,
   "outputs": [
    {
     "name": "stdout",
     "output_type": "stream",
     "text": [
      "타입: torch.DoubleTensor\n",
      "크기: torch.Size([2, 3])\n",
      "값: tensor([[0.8382, 0.8633, 0.6915],\n",
      "        [0.9372, 0.4633, 0.1528]], dtype=torch.float64)\n",
      "\n"
     ]
    }
   ],
   "source": [
    "# 넘파이로 텐서를 만들고 초기화\n",
    "import numpy as np\n",
    "npy = np.random.rand(2, 3)\n",
    "describe(torch.from_numpy(npy))\n",
    "# 넘파이 기본 데이터 타입이 float64여서 동일하게 float64로 타입이 결정"
   ],
   "metadata": {
    "collapsed": false,
    "ExecuteTime": {
     "end_time": "2023-06-08T04:53:00.232880Z",
     "start_time": "2023-06-08T04:53:00.175358Z"
    }
   }
  },
  {
   "cell_type": "markdown",
   "source": [
    "### 텐서 타입과 크기"
   ],
   "metadata": {
    "collapsed": false
   }
  },
  {
   "cell_type": "code",
   "execution_count": 7,
   "outputs": [
    {
     "name": "stdout",
     "output_type": "stream",
     "text": [
      "타입: torch.FloatTensor\n",
      "크기: torch.Size([2, 3])\n",
      "값: tensor([[1., 2., 3.],\n",
      "        [4., 5., 6.]])\n",
      "\n"
     ]
    }
   ],
   "source": [
    "x = torch.FloatTensor([[1, 2, 3],\n",
    "                      [4, 5, 6]])\n",
    "describe(x)"
   ],
   "metadata": {
    "collapsed": false,
    "ExecuteTime": {
     "end_time": "2023-06-08T04:53:00.233118Z",
     "start_time": "2023-06-08T04:53:00.178588Z"
    }
   }
  },
  {
   "cell_type": "code",
   "execution_count": 8,
   "outputs": [
    {
     "name": "stdout",
     "output_type": "stream",
     "text": [
      "타입: torch.LongTensor\n",
      "크기: torch.Size([2, 3])\n",
      "값: tensor([[1, 2, 3],\n",
      "        [4, 5, 6]])\n",
      "\n"
     ]
    }
   ],
   "source": [
    "x = x.long()\n",
    "describe(x)"
   ],
   "metadata": {
    "collapsed": false,
    "ExecuteTime": {
     "end_time": "2023-06-08T04:53:00.233265Z",
     "start_time": "2023-06-08T04:53:00.182958Z"
    }
   }
  },
  {
   "cell_type": "code",
   "execution_count": 9,
   "outputs": [
    {
     "name": "stdout",
     "output_type": "stream",
     "text": [
      "타입: torch.LongTensor\n",
      "크기: torch.Size([2, 3])\n",
      "값: tensor([[1, 2, 3],\n",
      "        [4, 5, 6]])\n",
      "\n",
      "타입: torch.FloatTensor\n",
      "크기: torch.Size([2, 3])\n",
      "값: tensor([[1., 2., 3.],\n",
      "        [4., 5., 6.]])\n",
      "\n"
     ]
    }
   ],
   "source": [
    "# torch.Tensor -> 기본 torch.FloatTensor, 타입을 캐스팅해서 다른 타입 사용\n",
    "# torch.tensor -> dtype을 지정해서 사용\n",
    "x = torch.tensor([[1, 2, 3],\n",
    "                  [4, 5, 6]], dtype=torch.int64)\n",
    "describe(x)\n",
    "\n",
    "x = x.float()\n",
    "describe(x)"
   ],
   "metadata": {
    "collapsed": false,
    "ExecuteTime": {
     "end_time": "2023-06-08T04:53:00.233470Z",
     "start_time": "2023-06-08T04:53:00.187849Z"
    }
   }
  },
  {
   "cell_type": "markdown",
   "source": [
    "### 텐서 연산"
   ],
   "metadata": {
    "collapsed": false
   }
  },
  {
   "cell_type": "code",
   "execution_count": 10,
   "outputs": [
    {
     "name": "stdout",
     "output_type": "stream",
     "text": [
      "타입: torch.FloatTensor\n",
      "크기: torch.Size([2, 3])\n",
      "값: tensor([[ 1.3445, -0.0735, -0.5299],\n",
      "        [ 1.0780, -0.8770,  1.0029]])\n",
      "\n"
     ]
    }
   ],
   "source": [
    "x = torch.randn(2, 3)\n",
    "describe(x)"
   ],
   "metadata": {
    "collapsed": false,
    "ExecuteTime": {
     "end_time": "2023-06-08T04:53:00.233850Z",
     "start_time": "2023-06-08T04:53:00.193262Z"
    }
   }
  },
  {
   "cell_type": "code",
   "execution_count": 11,
   "outputs": [
    {
     "name": "stdout",
     "output_type": "stream",
     "text": [
      "타입: torch.FloatTensor\n",
      "크기: torch.Size([2, 3])\n",
      "값: tensor([[ 2.6890, -0.1471, -1.0598],\n",
      "        [ 2.1561, -1.7541,  2.0059]])\n",
      "\n"
     ]
    }
   ],
   "source": [
    "describe(torch.add(x, x))"
   ],
   "metadata": {
    "collapsed": false,
    "ExecuteTime": {
     "end_time": "2023-06-08T04:53:00.234233Z",
     "start_time": "2023-06-08T04:53:00.196697Z"
    }
   }
  },
  {
   "cell_type": "code",
   "execution_count": 12,
   "outputs": [
    {
     "name": "stdout",
     "output_type": "stream",
     "text": [
      "타입: torch.FloatTensor\n",
      "크기: torch.Size([2, 3])\n",
      "값: tensor([[ 2.6890, -0.1471, -1.0598],\n",
      "        [ 2.1561, -1.7541,  2.0059]])\n",
      "\n"
     ]
    }
   ],
   "source": [
    "describe(x + x)"
   ],
   "metadata": {
    "collapsed": false,
    "ExecuteTime": {
     "end_time": "2023-06-08T04:53:00.234419Z",
     "start_time": "2023-06-08T04:53:00.203041Z"
    }
   }
  },
  {
   "cell_type": "code",
   "execution_count": 13,
   "outputs": [
    {
     "name": "stdout",
     "output_type": "stream",
     "text": [
      "타입: torch.LongTensor\n",
      "크기: torch.Size([6])\n",
      "값: tensor([0, 1, 2, 3, 4, 5])\n",
      "\n",
      "타입: torch.LongTensor\n",
      "크기: torch.Size([2, 3])\n",
      "값: tensor([[0, 1, 2],\n",
      "        [3, 4, 5]])\n",
      "\n"
     ]
    }
   ],
   "source": [
    "'''\n",
    "텐서의 특정 차원에 적용할 수 있는 연산도 있음\n",
    "2D 텐서는 행을 0, 열을 1로 표현\n",
    "'''\n",
    "# 차원별 텐서 연산\n",
    "x = torch.arange(6)\n",
    "describe(x)\n",
    "\n",
    "x = x.view(2, 3)\n",
    "describe(x)"
   ],
   "metadata": {
    "collapsed": false,
    "ExecuteTime": {
     "end_time": "2023-06-08T04:53:00.234612Z",
     "start_time": "2023-06-08T04:53:00.205700Z"
    }
   }
  },
  {
   "cell_type": "code",
   "execution_count": 14,
   "outputs": [
    {
     "name": "stdout",
     "output_type": "stream",
     "text": [
      "타입: torch.LongTensor\n",
      "크기: torch.Size([3])\n",
      "값: tensor([3, 5, 7])\n",
      "\n"
     ]
    }
   ],
   "source": [
    "describe(torch.sum(x, dim=0)) # 행 덧셈"
   ],
   "metadata": {
    "collapsed": false,
    "ExecuteTime": {
     "end_time": "2023-06-08T04:53:00.234936Z",
     "start_time": "2023-06-08T04:53:00.213432Z"
    }
   }
  },
  {
   "cell_type": "code",
   "execution_count": 15,
   "outputs": [
    {
     "name": "stdout",
     "output_type": "stream",
     "text": [
      "타입: torch.LongTensor\n",
      "크기: torch.Size([2])\n",
      "값: tensor([ 3, 12])\n",
      "\n"
     ]
    }
   ],
   "source": [
    "describe(torch.sum(x, dim=1)) # 열 덧셈"
   ],
   "metadata": {
    "collapsed": false,
    "ExecuteTime": {
     "end_time": "2023-06-08T04:53:00.235221Z",
     "start_time": "2023-06-08T04:53:00.216704Z"
    }
   }
  },
  {
   "cell_type": "code",
   "execution_count": 16,
   "outputs": [
    {
     "name": "stdout",
     "output_type": "stream",
     "text": [
      "타입: torch.LongTensor\n",
      "크기: torch.Size([3, 2])\n",
      "값: tensor([[0, 3],\n",
      "        [1, 4],\n",
      "        [2, 5]])\n",
      "\n"
     ]
    }
   ],
   "source": [
    "describe(torch.transpose(x, 0, 1))"
   ],
   "metadata": {
    "collapsed": false,
    "ExecuteTime": {
     "end_time": "2023-06-08T04:53:00.235569Z",
     "start_time": "2023-06-08T04:53:00.220456Z"
    }
   }
  },
  {
   "cell_type": "markdown",
   "source": [
    "### 인덱싱, 슬라이싱, 연결"
   ],
   "metadata": {
    "collapsed": false
   }
  },
  {
   "cell_type": "code",
   "execution_count": 17,
   "outputs": [
    {
     "name": "stdout",
     "output_type": "stream",
     "text": [
      "타입: torch.LongTensor\n",
      "크기: torch.Size([2, 3])\n",
      "값: tensor([[0, 1, 2],\n",
      "        [3, 4, 5]])\n",
      "\n"
     ]
    }
   ],
   "source": [
    "x = torch.arange(6).view(2, 3)\n",
    "describe(x)"
   ],
   "metadata": {
    "collapsed": false,
    "ExecuteTime": {
     "end_time": "2023-06-08T04:53:00.236210Z",
     "start_time": "2023-06-08T04:53:00.224339Z"
    }
   }
  },
  {
   "cell_type": "code",
   "execution_count": 18,
   "outputs": [
    {
     "name": "stdout",
     "output_type": "stream",
     "text": [
      "타입: torch.LongTensor\n",
      "크기: torch.Size([1, 2])\n",
      "값: tensor([[0, 1]])\n",
      "\n"
     ]
    }
   ],
   "source": [
    "describe(x[:1, :2])"
   ],
   "metadata": {
    "collapsed": false,
    "ExecuteTime": {
     "end_time": "2023-06-08T04:53:00.236628Z",
     "start_time": "2023-06-08T04:53:00.228717Z"
    }
   }
  },
  {
   "cell_type": "code",
   "execution_count": 19,
   "outputs": [
    {
     "name": "stdout",
     "output_type": "stream",
     "text": [
      "타입: torch.LongTensor\n",
      "크기: torch.Size([])\n",
      "값: 1\n",
      "\n"
     ]
    }
   ],
   "source": [
    "describe(x[0, 1])"
   ],
   "metadata": {
    "collapsed": false,
    "ExecuteTime": {
     "end_time": "2023-06-08T04:53:00.236906Z",
     "start_time": "2023-06-08T04:53:00.231706Z"
    }
   }
  },
  {
   "cell_type": "code",
   "execution_count": 20,
   "outputs": [
    {
     "name": "stdout",
     "output_type": "stream",
     "text": [
      "타입: torch.LongTensor\n",
      "크기: torch.Size([2, 2])\n",
      "값: tensor([[0, 2],\n",
      "        [3, 5]])\n",
      "\n"
     ]
    }
   ],
   "source": [
    "indicies = torch.LongTensor([0, 2])\n",
    "describe(torch.index_select(x, dim=1, index=indicies)) # input: Tensor, dim=1 열 0과 2열을 선택"
   ],
   "metadata": {
    "collapsed": false,
    "ExecuteTime": {
     "end_time": "2023-06-08T04:53:00.246593Z",
     "start_time": "2023-06-08T04:53:00.235925Z"
    }
   }
  },
  {
   "cell_type": "code",
   "execution_count": 21,
   "outputs": [
    {
     "name": "stdout",
     "output_type": "stream",
     "text": [
      "타입: torch.LongTensor\n",
      "크기: torch.Size([2, 3])\n",
      "값: tensor([[0, 1, 2],\n",
      "        [0, 1, 2]])\n",
      "\n"
     ]
    }
   ],
   "source": [
    "indicies = torch.LongTensor([0, 0])\n",
    "describe(torch.index_select(x, dim=0, index=indicies)) # 행에 대해서 0번째 행을 두 번 선택"
   ],
   "metadata": {
    "collapsed": false,
    "ExecuteTime": {
     "end_time": "2023-06-08T04:53:00.247049Z",
     "start_time": "2023-06-08T04:53:00.239808Z"
    }
   }
  },
  {
   "cell_type": "code",
   "execution_count": 22,
   "outputs": [
    {
     "name": "stdout",
     "output_type": "stream",
     "text": [
      "타입: torch.LongTensor\n",
      "크기: torch.Size([2])\n",
      "값: tensor([0, 4])\n",
      "\n"
     ]
    }
   ],
   "source": [
    "row_indices = torch.arange(2).long()\n",
    "col_indices = torch.LongTensor([0, 1])\n",
    "describe(x[row_indices, col_indices]) # [0, 0], [1, 1] 선택\n",
    "# 인덱스를 설정할 때 항상 long type"
   ],
   "metadata": {
    "collapsed": false,
    "ExecuteTime": {
     "end_time": "2023-06-08T04:53:00.247252Z",
     "start_time": "2023-06-08T04:53:00.242543Z"
    }
   }
  },
  {
   "cell_type": "code",
   "execution_count": 23,
   "outputs": [
    {
     "name": "stdout",
     "output_type": "stream",
     "text": [
      "타입: torch.LongTensor\n",
      "크기: torch.Size([2, 3])\n",
      "값: tensor([[0, 1, 2],\n",
      "        [3, 4, 5]])\n",
      "\n"
     ]
    }
   ],
   "source": [
    "# 텐서 연결\n",
    "x = torch.arange(6).view(2, 3)\n",
    "describe(x)"
   ],
   "metadata": {
    "collapsed": false,
    "ExecuteTime": {
     "end_time": "2023-06-08T04:53:00.254829Z",
     "start_time": "2023-06-08T04:53:00.247472Z"
    }
   }
  },
  {
   "cell_type": "code",
   "execution_count": 24,
   "outputs": [
    {
     "name": "stdout",
     "output_type": "stream",
     "text": [
      "타입: torch.LongTensor\n",
      "크기: torch.Size([4, 3])\n",
      "값: tensor([[0, 1, 2],\n",
      "        [3, 4, 5],\n",
      "        [0, 1, 2],\n",
      "        [3, 4, 5]])\n",
      "\n"
     ]
    }
   ],
   "source": [
    "describe(torch.cat([x, x], dim=0)) # 행을 기준으로 이어 붙힘"
   ],
   "metadata": {
    "collapsed": false,
    "ExecuteTime": {
     "end_time": "2023-06-08T04:53:00.382707Z",
     "start_time": "2023-06-08T04:53:00.249849Z"
    }
   }
  },
  {
   "cell_type": "code",
   "execution_count": 25,
   "outputs": [
    {
     "name": "stdout",
     "output_type": "stream",
     "text": [
      "타입: torch.LongTensor\n",
      "크기: torch.Size([2, 6])\n",
      "값: tensor([[0, 1, 2, 0, 1, 2],\n",
      "        [3, 4, 5, 3, 4, 5]])\n",
      "\n"
     ]
    }
   ],
   "source": [
    "describe(torch.cat([x, x], dim=1))"
   ],
   "metadata": {
    "collapsed": false,
    "ExecuteTime": {
     "end_time": "2023-06-08T04:53:00.383339Z",
     "start_time": "2023-06-08T04:53:00.254066Z"
    }
   }
  },
  {
   "cell_type": "code",
   "execution_count": 26,
   "outputs": [
    {
     "name": "stdout",
     "output_type": "stream",
     "text": [
      "타입: torch.LongTensor\n",
      "크기: torch.Size([2, 2, 3])\n",
      "값: tensor([[[0, 1, 2],\n",
      "         [3, 4, 5]],\n",
      "\n",
      "        [[0, 1, 2],\n",
      "         [3, 4, 5]]])\n",
      "\n"
     ]
    }
   ],
   "source": [
    "describe(torch.stack([x, x])) # 차원 증가"
   ],
   "metadata": {
    "collapsed": false,
    "ExecuteTime": {
     "end_time": "2023-06-08T04:53:00.383709Z",
     "start_time": "2023-06-08T04:53:00.257325Z"
    }
   }
  },
  {
   "cell_type": "code",
   "execution_count": 27,
   "outputs": [
    {
     "name": "stdout",
     "output_type": "stream",
     "text": [
      "타입: torch.LongTensor\n",
      "크기: torch.Size([2, 3])\n",
      "값: tensor([[0, 1, 2],\n",
      "        [3, 4, 5]])\n",
      "\n"
     ]
    }
   ],
   "source": [
    "# 텐서의 선형대수 계산: 행렬 곱셈\n",
    "x1 = torch.arange(6).view(2, 3)\n",
    "describe(x1)"
   ],
   "metadata": {
    "collapsed": false,
    "ExecuteTime": {
     "end_time": "2023-06-08T04:53:16.615464Z",
     "start_time": "2023-06-08T04:53:16.601967Z"
    }
   }
  },
  {
   "cell_type": "code",
   "execution_count": 28,
   "outputs": [
    {
     "name": "stdout",
     "output_type": "stream",
     "text": [
      "타입: torch.FloatTensor\n",
      "크기: torch.Size([3, 2])\n",
      "값: tensor([[1., 2.],\n",
      "        [1., 2.],\n",
      "        [1., 2.]])\n",
      "\n"
     ]
    }
   ],
   "source": [
    "x2 = torch.ones(3, 2)\n",
    "x2[:, 1] += 1 # 열 +1\n",
    "describe(x2)"
   ],
   "metadata": {
    "collapsed": false,
    "ExecuteTime": {
     "end_time": "2023-06-08T04:54:16.444698Z",
     "start_time": "2023-06-08T04:54:16.439889Z"
    }
   }
  },
  {
   "cell_type": "code",
   "execution_count": 31,
   "outputs": [
    {
     "name": "stdout",
     "output_type": "stream",
     "text": [
      "타입: torch.FloatTensor\n",
      "크기: torch.Size([2, 2])\n",
      "값: tensor([[ 3.,  6.],\n",
      "        [12., 24.]])\n",
      "\n"
     ]
    }
   ],
   "source": [
    "describe(torch.mm(x1.float(), x2)) # 형을 맞춰야 곱셈이 됨"
   ],
   "metadata": {
    "collapsed": false,
    "ExecuteTime": {
     "end_time": "2023-06-08T04:55:02.770452Z",
     "start_time": "2023-06-08T04:55:02.761035Z"
    }
   }
  },
  {
   "cell_type": "markdown",
   "source": [
    "### 텐서와 계산 그래프"
   ],
   "metadata": {
    "collapsed": false
   }
  },
  {
   "cell_type": "code",
   "execution_count": 32,
   "outputs": [
    {
     "name": "stdout",
     "output_type": "stream",
     "text": [
      "타입: torch.FloatTensor\n",
      "크기: torch.Size([2, 2])\n",
      "값: tensor([[1., 1.],\n",
      "        [1., 1.]], requires_grad=True)\n",
      "\n",
      "True\n"
     ]
    }
   ],
   "source": [
    "# 그래디언트 연산을 할 수 있는 텐서 만들기\n",
    "x = torch.ones(2, 2, requires_grad=True)\n",
    "# requires_grad 불리언 매개변수 True로 지정시 그레이디언트 기반 학습에 필요한 손실 함수와 텐서의 그레이디언트를 기로하는 부가 연산을 활성화\n",
    "describe(x)\n",
    "print(x.grad is None)\n"
   ],
   "metadata": {
    "collapsed": false,
    "ExecuteTime": {
     "end_time": "2023-06-08T04:58:12.718811Z",
     "start_time": "2023-06-08T04:58:12.714844Z"
    }
   }
  },
  {
   "cell_type": "code",
   "execution_count": 34,
   "outputs": [
    {
     "name": "stdout",
     "output_type": "stream",
     "text": [
      "타입: torch.FloatTensor\n",
      "크기: torch.Size([2, 2])\n",
      "값: tensor([[21., 21.],\n",
      "        [21., 21.]], grad_fn=<AddBackward0>)\n",
      "\n",
      "True\n"
     ]
    }
   ],
   "source": [
    "y = (x + 2) * (x + 5) + 3\n",
    "describe(y)\n",
    "print(x.grad is None)"
   ],
   "metadata": {
    "collapsed": false,
    "ExecuteTime": {
     "end_time": "2023-06-08T04:59:11.305851Z",
     "start_time": "2023-06-08T04:59:11.300556Z"
    }
   }
  },
  {
   "cell_type": "code",
   "execution_count": 35,
   "outputs": [
    {
     "name": "stdout",
     "output_type": "stream",
     "text": [
      "타입: torch.FloatTensor\n",
      "크기: torch.Size([])\n",
      "값: 21.0\n",
      "\n",
      "False\n"
     ]
    }
   ],
   "source": [
    "z = y.mean()\n",
    "describe(z)\n",
    "z.backward()\n",
    "print(x.grad is None)"
   ],
   "metadata": {
    "collapsed": false,
    "ExecuteTime": {
     "end_time": "2023-06-08T04:59:46.583015Z",
     "start_time": "2023-06-08T04:59:46.552551Z"
    }
   }
  },
  {
   "cell_type": "markdown",
   "source": [
    "### CUDA 텐서"
   ],
   "metadata": {
    "collapsed": false
   }
  },
  {
   "cell_type": "code",
   "execution_count": 38,
   "outputs": [
    {
     "name": "stdout",
     "output_type": "stream",
     "text": [
      "mps\n"
     ]
    }
   ],
   "source": [
    "# device = torch.device('cuda' if torch.cuda.is_available() else 'cpu')\n",
    "device = torch.device('mps' if torch.backends.mps.is_available() else 'cpu')\n",
    "\n",
    "print(device)"
   ],
   "metadata": {
    "collapsed": false,
    "ExecuteTime": {
     "end_time": "2023-06-08T05:32:52.686947Z",
     "start_time": "2023-06-08T05:32:52.677995Z"
    }
   }
  },
  {
   "cell_type": "code",
   "execution_count": 39,
   "outputs": [
    {
     "name": "stdout",
     "output_type": "stream",
     "text": [
      "타입: torch.mps.FloatTensor\n",
      "크기: torch.Size([3, 3])\n",
      "값: tensor([[0.0943, 0.5747, 0.2655],\n",
      "        [0.4133, 0.2030, 0.4168],\n",
      "        [0.1339, 0.9065, 0.9217]], device='mps:0')\n",
      "\n"
     ]
    }
   ],
   "source": [
    "x = torch.rand(3, 3).to(device)\n",
    "describe(x)"
   ],
   "metadata": {
    "collapsed": false,
    "ExecuteTime": {
     "end_time": "2023-06-08T05:32:55.730504Z",
     "start_time": "2023-06-08T05:32:54.000162Z"
    }
   }
  },
  {
   "cell_type": "code",
   "execution_count": 40,
   "outputs": [
    {
     "ename": "RuntimeError",
     "evalue": "Expected all tensors to be on the same device, but found at least two devices, mps:0 and cpu!",
     "output_type": "error",
     "traceback": [
      "\u001B[0;31m---------------------------------------------------------------------------\u001B[0m",
      "\u001B[0;31mRuntimeError\u001B[0m                              Traceback (most recent call last)",
      "Cell \u001B[0;32mIn[40], line 2\u001B[0m\n\u001B[1;32m      1\u001B[0m y \u001B[38;5;241m=\u001B[39m torch\u001B[38;5;241m.\u001B[39mrand(\u001B[38;5;241m3\u001B[39m, \u001B[38;5;241m3\u001B[39m)\n\u001B[0;32m----> 2\u001B[0m x \u001B[38;5;241m+\u001B[39m y\n",
      "\u001B[0;31mRuntimeError\u001B[0m: Expected all tensors to be on the same device, but found at least two devices, mps:0 and cpu!"
     ]
    }
   ],
   "source": [
    "y = torch.rand(3, 3)\n",
    "x + y\n",
    "# cpu 와 gpu는 같이 연산 불가\n",
    "'''\n",
    "gpu로 데이터를 넣고 꺼내는 작업은 비용이 많이 들어감\n",
    "따라서 병렬 계산은 gpu에서 수행하고 최종 결과만 cpu로 전송\n",
    "cuda 장치가 여러개 있다면 CUDA_VISIBLE_DEVICES 환경 변수를 사용\n",
    "'''"
   ],
   "metadata": {
    "collapsed": false,
    "ExecuteTime": {
     "end_time": "2023-06-08T05:33:28.928997Z",
     "start_time": "2023-06-08T05:33:28.910700Z"
    }
   }
  },
  {
   "cell_type": "markdown",
   "source": [
    "### 연습 문제"
   ],
   "metadata": {
    "collapsed": false
   }
  },
  {
   "cell_type": "code",
   "execution_count": 51,
   "outputs": [
    {
     "name": "stdout",
     "output_type": "stream",
     "text": [
      "타입: torch.FloatTensor\n",
      "크기: torch.Size([3, 3])\n",
      "값: tensor([[0.2928, 0.3426, 0.4808],\n",
      "        [0.4396, 0.1621, 0.6670],\n",
      "        [0.6630, 0.3587, 0.1301]])\n",
      "\n",
      "타입: torch.FloatTensor\n",
      "크기: torch.Size([1, 3, 3])\n",
      "값: tensor([[[0.2928, 0.3426, 0.4808],\n",
      "         [0.4396, 0.1621, 0.6670],\n",
      "         [0.6630, 0.3587, 0.1301]]])\n",
      "\n"
     ]
    }
   ],
   "source": [
    "# 1. 2D텐서를 만들고 차원 0 위치에 크기가 1인 차원을 추가\n",
    "x = torch.rand(3, 3)\n",
    "describe(x)\n",
    "x = x.unsqueeze(0)\n",
    "describe(x)\n"
   ],
   "metadata": {
    "collapsed": false,
    "ExecuteTime": {
     "end_time": "2023-06-08T05:44:33.156583Z",
     "start_time": "2023-06-08T05:44:33.153768Z"
    }
   }
  },
  {
   "cell_type": "code",
   "execution_count": 52,
   "outputs": [
    {
     "name": "stdout",
     "output_type": "stream",
     "text": [
      "타입: torch.FloatTensor\n",
      "크기: torch.Size([3, 3])\n",
      "값: tensor([[0.2928, 0.3426, 0.4808],\n",
      "        [0.4396, 0.1621, 0.6670],\n",
      "        [0.6630, 0.3587, 0.1301]])\n",
      "\n"
     ]
    }
   ],
   "source": [
    "# 2. 이전 텐서에 추가한 차원 삭제\n",
    "x = x.squeeze(0)\n",
    "describe(x)"
   ],
   "metadata": {
    "collapsed": false,
    "ExecuteTime": {
     "end_time": "2023-06-08T05:45:09.215050Z",
     "start_time": "2023-06-08T05:45:09.199202Z"
    }
   }
  },
  {
   "cell_type": "code",
   "execution_count": 53,
   "outputs": [
    {
     "name": "stdout",
     "output_type": "stream",
     "text": [
      "타입: torch.FloatTensor\n",
      "크기: torch.Size([5, 3])\n",
      "값: tensor([[5.3970, 6.9761, 4.3541],\n",
      "        [4.6541, 4.3547, 4.9806],\n",
      "        [3.2724, 3.0962, 6.1753],\n",
      "        [4.5844, 5.5909, 6.1795],\n",
      "        [3.9437, 6.7806, 3.1690]])\n",
      "\n"
     ]
    }
   ],
   "source": [
    "# 3. 범위가 (3, 7)이고 크기가 5,3인 랜덤한 텐서를 만드세요\n",
    "x = 3 + torch.rand(5, 3) * (7 - 3)\n",
    "describe(x)\n",
    "'''\n",
    "rand -> 0~1범위 0~4범위로 스케일링 해주고 +3\n",
    "'''"
   ],
   "metadata": {
    "collapsed": false,
    "ExecuteTime": {
     "end_time": "2023-06-08T05:50:45.413896Z",
     "start_time": "2023-06-08T05:50:45.382362Z"
    }
   }
  },
  {
   "cell_type": "code",
   "execution_count": 55,
   "outputs": [
    {
     "name": "stdout",
     "output_type": "stream",
     "text": [
      "타입: torch.FloatTensor\n",
      "크기: torch.Size([3, 3])\n",
      "값: tensor([[ 0.7076,  0.7281,  0.0329],\n",
      "        [-0.7973, -1.2629,  0.6950],\n",
      "        [-0.4922, -0.1316,  0.5548]])\n",
      "\n"
     ]
    }
   ],
   "source": [
    "# 4. 정규 분포(평균=0, 표준편차=1)를 사용해 텐서를 만드세요\n",
    "x = torch.randn(3, 3)\n",
    "describe(x)"
   ],
   "metadata": {
    "collapsed": false,
    "ExecuteTime": {
     "end_time": "2023-06-08T05:53:34.564653Z",
     "start_time": "2023-06-08T05:53:34.557116Z"
    }
   }
  },
  {
   "cell_type": "code",
   "execution_count": 61,
   "outputs": [
    {
     "name": "stdout",
     "output_type": "stream",
     "text": [
      "tensor(4)\n"
     ]
    },
    {
     "data": {
      "text/plain": "tensor([[0],\n        [1],\n        [2],\n        [4]])"
     },
     "execution_count": 61,
     "metadata": {},
     "output_type": "execute_result"
    }
   ],
   "source": [
    "# 5. 텐서 torch.Tensor([1, 1, 1, 0, 1])에서 0이 아닌 원소의 인덱스를 추출\n",
    "x = torch.Tensor([1, 1, 1, 0, 1])\n",
    "print(x.count_nonzero())\n",
    "torch.nonzero(x)"
   ],
   "metadata": {
    "collapsed": false,
    "ExecuteTime": {
     "end_time": "2023-06-08T05:57:02.146043Z",
     "start_time": "2023-06-08T05:57:02.140880Z"
    }
   }
  },
  {
   "cell_type": "code",
   "execution_count": 67,
   "outputs": [
    {
     "name": "stdout",
     "output_type": "stream",
     "text": [
      "타입: torch.FloatTensor\n",
      "크기: torch.Size([3, 4])\n",
      "값: tensor([[0.1438, 0.1438, 0.1438, 0.1438],\n",
      "        [0.9092, 0.9092, 0.9092, 0.9092],\n",
      "        [0.4344, 0.4344, 0.4344, 0.4344]])\n",
      "\n"
     ]
    },
    {
     "data": {
      "text/plain": "tensor([[0.1438, 0.1438, 0.1438, 0.1438],\n        [0.9092, 0.9092, 0.9092, 0.9092],\n        [0.4344, 0.4344, 0.4344, 0.4344]])"
     },
     "execution_count": 67,
     "metadata": {},
     "output_type": "execute_result"
    }
   ],
   "source": [
    "# 6. 크기가 (3, 1)인 랜덤한 텐서를 만들고 네 벌을 복사해 쌓으세요\n",
    "x = torch.rand(3, 1)\n",
    "describe(torch.hstack([x]*4))\n",
    "\n",
    "x.expand(3, 4)"
   ],
   "metadata": {
    "collapsed": false,
    "ExecuteTime": {
     "end_time": "2023-06-08T06:00:57.177128Z",
     "start_time": "2023-06-08T06:00:57.172181Z"
    }
   }
  },
  {
   "cell_type": "code",
   "execution_count": 69,
   "outputs": [
    {
     "data": {
      "text/plain": "tensor([[[1.0108, 0.9477, 0.8401, 1.3131],\n         [2.1093, 1.5091, 1.9701, 2.2013],\n         [0.9323, 0.5244, 0.7375, 0.5675],\n         [1.8795, 1.3459, 1.7055, 2.0167]],\n\n        [[1.3568, 0.4564, 0.8571, 1.3340],\n         [1.6210, 0.3888, 0.8786, 1.0893],\n         [0.4218, 0.1995, 0.5243, 0.3414],\n         [1.3709, 0.3879, 1.1309, 1.0373]],\n\n        [[1.5920, 1.5553, 1.6033, 1.0661],\n         [1.4483, 1.7265, 1.8073, 1.1049],\n         [1.6601, 1.4358, 1.3991, 1.1090],\n         [1.1321, 1.0752, 1.1583, 0.7712]]])"
     },
     "execution_count": 69,
     "metadata": {},
     "output_type": "execute_result"
    }
   ],
   "source": [
    "# 7. 2차원 행렬 두 개(a=torch.rand(3, 4, 5), b=torch.rand(3, 5, 4))의 배치 행렬 곱셈을 계산\n",
    "a=torch.rand(3, 4, 5)\n",
    "b=torch.rand(3, 5, 4)\n",
    "torch.bmm(a, b)"
   ],
   "metadata": {
    "collapsed": false,
    "ExecuteTime": {
     "end_time": "2023-06-08T06:03:29.199117Z",
     "start_time": "2023-06-08T06:03:29.193899Z"
    }
   }
  },
  {
   "cell_type": "code",
   "execution_count": 70,
   "outputs": [
    {
     "data": {
      "text/plain": "tensor([[[1.0869, 1.2099, 1.4758, 0.8696],\n         [0.4130, 0.8840, 0.7591, 0.3228],\n         [1.5958, 1.4865, 1.4685, 1.0337],\n         [1.1135, 1.3028, 1.6322, 0.9489]],\n\n        [[1.6340, 1.7159, 1.7992, 1.1331],\n         [0.9275, 1.3561, 1.0644, 0.6378],\n         [1.8795, 2.1915, 1.7894, 1.1804],\n         [0.6121, 0.6970, 0.7649, 0.4963]],\n\n        [[1.4164, 1.7680, 1.6943, 1.0346],\n         [1.1411, 1.4394, 1.4034, 0.7877],\n         [1.6216, 1.6968, 1.1517, 0.8894],\n         [0.7630, 1.0037, 1.1948, 0.5716]]])"
     },
     "execution_count": 70,
     "metadata": {},
     "output_type": "execute_result"
    }
   ],
   "source": [
    "# 8. 3차원 행렬 a=torch.rand(3, 4, 5), 2차원 행렬 b=torch.rand(5, 4)의 배치 행렬 곱셈\n",
    "a=torch.rand(3, 4, 5)\n",
    "b=torch.rand(5, 4)\n",
    "torch.matmul(a, b)\n",
    "\n",
    "# torch.bmm(a, b.unsqueeze(0).expand(a.size(0), *b.size())"
   ],
   "metadata": {
    "collapsed": false,
    "ExecuteTime": {
     "end_time": "2023-06-08T06:14:45.139917Z",
     "start_time": "2023-06-08T06:14:45.128798Z"
    }
   }
  },
  {
   "cell_type": "code",
   "execution_count": null,
   "outputs": [],
   "source": [],
   "metadata": {
    "collapsed": false
   }
  }
 ],
 "metadata": {
  "kernelspec": {
   "display_name": "Python 3",
   "language": "python",
   "name": "python3"
  },
  "language_info": {
   "codemirror_mode": {
    "name": "ipython",
    "version": 2
   },
   "file_extension": ".py",
   "mimetype": "text/x-python",
   "name": "python",
   "nbconvert_exporter": "python",
   "pygments_lexer": "ipython2",
   "version": "2.7.6"
  }
 },
 "nbformat": 4,
 "nbformat_minor": 0
}
