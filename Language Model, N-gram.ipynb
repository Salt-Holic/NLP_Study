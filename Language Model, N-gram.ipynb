{
 "cells": [
  {
   "cell_type": "markdown",
   "source": [
    "언어모델\n",
    "문장내 앞서 등장한 단어들을 기반으로 이어서 등장할 적절한 단어를 예측하는 모델\n",
    "크게 통계학 기반의 언어 모델(Statistical Language Model, SLM)과 인공 신경망 기반 언어 모델(Artificial Neural Network, ANN) 있음\n",
    "기계번역, 오타 교정(날아갔다, 알아갔다), 음성 인식(메롱 메론), 검색어 추천\n",
    "\n",
    "N-gram\n",
    "통계학적 언어 모델중 하나\n",
    "N은 몇 개의 단어를 고려하냐 의미함(N개의 연속적인 단어 나열을 하나의 토큰으로 간주), 모든 단어를 고려하지 않고 N개의 단어를 가지고 다음 단어를 예측함\n",
    "\n",
    "한계점\n",
    "1. 정확도 문제: N개의 단어만 고려하기 떄문에 문장내에 전체 단어를 고려하는 언어 모델과 비교했을때 정확도가 낮다(장기 의존성 부재 N개의 단어만 고려하기 때문에 앞 문장 맥락은 놓치게 됨)\n",
    "\n",
    "2. 희소(Sparsity) 문제: 처음 보는 단어가 등장하면, 이전 데이터가 존재하지 않았기 떄문에 확률은 0 (이를 일반화 능력 결여라고 표현함)\n",
    "\n",
    "3. 상충(Trade-off) 문제: 몇 개의 N을 설정하느냐에따라 성능이 달라짐(N을 늘리면 Long Term Dependency이 해결되지만 희소문제는 커짐)\n",
    "\n",
    "n-gram 여전히 사용 작은모델에서 사용됨, 빠름\n",
    "의문: 확률기반 언어모델은 특정 단어 뒤에 어떠한 특정 단어가 주로 등장한다면 문장 생성 뒤 한 가지 단어만 등장하는가?\n"
   ],
   "metadata": {
    "collapsed": false
   }
  },
  {
   "cell_type": "code",
   "execution_count": null,
   "outputs": [],
   "source": [],
   "metadata": {
    "collapsed": false
   }
  }
 ],
 "metadata": {
  "kernelspec": {
   "display_name": "Python 3",
   "language": "python",
   "name": "python3"
  },
  "language_info": {
   "codemirror_mode": {
    "name": "ipython",
    "version": 2
   },
   "file_extension": ".py",
   "mimetype": "text/x-python",
   "name": "python",
   "nbconvert_exporter": "python",
   "pygments_lexer": "ipython2",
   "version": "2.7.6"
  }
 },
 "nbformat": 4,
 "nbformat_minor": 0
}
