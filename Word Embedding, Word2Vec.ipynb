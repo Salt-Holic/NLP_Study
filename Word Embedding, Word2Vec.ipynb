{
 "cells": [
  {
   "cell_type": "markdown",
   "source": [
    "# Word Embedding"
   ],
   "metadata": {
    "collapsed": false
   }
  },
  {
   "cell_type": "markdown",
   "source": [
    "## 워드 임베딩(Word Embedding)\n",
    "단어를 밀집 벡터(dense vector)의 형태로 표현하는 방법을 워드 임베딩이라고 함\n",
    "이 밀집 벡터를 워드 임베딩 과정을 통해 나온 결과라고 하여 임베딩 벡터라고도 함\n",
    "\n",
    "워드 임베딩 방법론으로는 LSA, Word2Vec, FastText, Glove등이 있음\n",
    "\n",
    "### 희소 표현\n",
    "- 원-핫 벡터들은 표현하고자 하는 단어의 인덱스 값만 1, 나머지는 0으로 표현. 이를 희소 표현이라고 함\n",
    "원-핫 벡터 == 희소 벡터\n",
    "Ex) 강아지 = [ 0 0 0 0 1 0 0 0 0 0 0 0 ... 중략 ... 0]\n",
    "\n",
    "    - 단점\n",
    "    공간이 낭비 됨\n",
    "    희소 벡터의 문제점은 단어의 의미를 표현하지 못함\n",
    "\n",
    "### 밀집 표현\n",
    "- 희소 표현과 반대되는 표현. 밀집 표현은 벡터의 차원을 단어 집합의 크기로 상정하지 않음\n",
    "Ex) 강아지 = [0.2 1.8 1.1 -2.1 1.1 2.8 ... 중략 ...]\n"
   ],
   "metadata": {
    "collapsed": false
   }
  },
  {
   "cell_type": "markdown",
   "source": [
    "## Word2Vec"
   ],
   "metadata": {
    "collapsed": false
   }
  },
  {
   "cell_type": "markdown",
   "source": [
    "### Word2Vec\n",
    "- 단어 벡터간 유의미한 유사도를 반영할 수 있도록 단어의 의미를 수치화 할 수 있는 방법\n",
    "Word2Vec의 학습 방식에는 CBOW, Skip-Gram 두 가지 방식이 존재\n",
    "\n",
    "\n",
    "### CBOW(Continuous Bag Of Word)\n",
    "- 주변에 있는 단어들을 입력으로 중간에 있는 단어들을 예측하는 방법\n",
    "EX) '나는 자연어 공부를 한다' 에서 ['나는', '공부를', '한다'](주변 단어)로부터 '자연어'(중심 단어)를 예측하는 일을 함\n",
    "- 이렇게 중심 단어를 예측하기 위해서 몇 개의 주변 단어를 볼지를 결정해야 하는데 이 범위를 윈도우라고 함(실제 예측시 앞, 뒤 n개의 단어 즉, 2n개의 단어 사용)\n",
    "\n",
    "![nn](img/day04_01.png)\n",
    "![nn](img/day04_02.png)\n"
   ],
   "metadata": {
    "collapsed": false
   }
  },
  {
   "cell_type": "markdown",
   "source": [
    "Skip-Gram\n",
    "중간에 있는 단어들을 입력으로 주변 단어들을 예측하는 방법(CBOW와 반대)\n",
    "\n",
    "![nn](img/day04_03.png)\n",
    "![nn](img/day04_04.png)"
   ],
   "metadata": {
    "collapsed": false
   }
  }
 ],
 "metadata": {
  "kernelspec": {
   "display_name": "Python 3",
   "language": "python",
   "name": "python3"
  },
  "language_info": {
   "codemirror_mode": {
    "name": "ipython",
    "version": 2
   },
   "file_extension": ".py",
   "mimetype": "text/x-python",
   "name": "python",
   "nbconvert_exporter": "python",
   "pygments_lexer": "ipython2",
   "version": "2.7.6"
  }
 },
 "nbformat": 4,
 "nbformat_minor": 0
}
