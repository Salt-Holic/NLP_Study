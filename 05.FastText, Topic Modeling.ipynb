{
 "cells": [
  {
   "cell_type": "markdown",
   "source": [
    "## FastText\n",
    "페이스북에서 개발한 단어를 벡터롤 만드는 방법\n",
    "메커니즘 자체는 Word2Vec의 확장으로 볼 수 있음\n",
    "\n",
    "Word2Vec와의 차이점은 Word2Vec는 단어를 쪼개질 수 없는 단위로 생각한다면,\n",
    "FastText는 하나의 단어 안에도 여러 단어들이 존재하는 것으로 간주\n",
    "즉, 내부단어(SubWord)를 고려하여 학습합니다.\n",
    "\n",
    "학습할 단어에 <,>을 포함하여 n-gram에 대한 모든 경우의 수와 학습할 단어에 <,>를 붙인 값을 모두 더한 벡터값들의 총 합을 하나의 벡터로 사용함\n",
    "![nn](img/05_02.png)\n",
    "\n",
    "orange만 학습한 뒤 oranges라는 단어가 들어올 경우 둘은 높은 유사도를 가지게 됨\n",
    "![nn](img/05_01.png)\n",
    "\n",
    "장점\n",
    "모르는 단어(Out of Vocabulary, OOV)에 대한 대응\n",
    "- 내부 단어들을 통해 모르는 단어와의 유사도도 계산할 수 있음\n",
    "- birthday라는 단어를 학습하지 않은 상태여도 birth와 day라는 단어가 학습이 되어있을 때 birthday에 대한 벡터를 얻을 수 있음\n",
    "\n",
    "출현 빈도수가 적은 단어에 대한 대응\n",
    "- Word2Vec은 등장 빈도수가 적은 단어에 대해서는 임베딩 정확도가 떨어지는 단점이 있고 오탈자가 있는 단어는 다른 단어로 인식\n",
    "- FastText는 그 단어의 n-gram이 다른 단어의 n-gram과 겹치는 경우라면, 유사도를 계산해서 임베딩 성능을 계산함 즉, 노이즈에 강함\n",
    "\n",
    "예시\n",
    "```\n",
    "# happy, n = 3\n",
    "<ha, hap, app, ppy, py>, <happy>\n",
    "# happpy, n = 3\n",
    "<ha, hap, app, ppp, ppy, py>, <happpy>\n",
    "```"
   ],
   "metadata": {
    "collapsed": false
   }
  },
  {
   "cell_type": "markdown",
   "source": [
    "## Topic Modeling\n",
    "문서 집합의 추상적인 주제를 발견하기 위한 통계적 모델 중 하나로, 텍스트 본문의 숨겨진 의미구조를 발견하기 위해 사용되는 텍스트 마이닝 기법중 하나\n",
    "뉴스 기사 분류, 추천 시스템, 검색 엔진 최적화, 고객 의견 분석 등에 사용됨\n",
    "\n",
    "### 잠재 의미 분석(Latent Sementic Analysis, LSA)\n",
    "LSA는 정확히는 토픽 모델리을 위해 최적화된 알고리즘은 아니지만, 토픽 모델링이라는 분야에 아이디어를 제공한 알고리즘\n",
    "\n",
    "BoW에 기반한 DTM, TF-IDF는 기본적으로 단어의 출현 빈도수를 수치화한 방법으로 단어의 의미를 고려하지 못함(단어의 토픽를 고려하지 못한다고 함)\n",
    "이를 위한 대안으로 DTM의 잠재된 의미를 이끌어내는 방법 LSA\n",
    "### 잠재 디리클레 할당(Latent Dirichlet Allocation, LDA)\n",
    "\n",
    "### 비음수 행렬 분해(Non-negative Matrix Factorization, NMF)\n"
   ],
   "metadata": {
    "collapsed": false
   }
  }
 ],
 "metadata": {
  "kernelspec": {
   "display_name": "Python 3",
   "language": "python",
   "name": "python3"
  },
  "language_info": {
   "codemirror_mode": {
    "name": "ipython",
    "version": 2
   },
   "file_extension": ".py",
   "mimetype": "text/x-python",
   "name": "python",
   "nbconvert_exporter": "python",
   "pygments_lexer": "ipython2",
   "version": "2.7.6"
  }
 },
 "nbformat": 4,
 "nbformat_minor": 0
}
