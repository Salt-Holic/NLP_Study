{
 "cells": [
  {
   "cell_type": "markdown",
   "source": [
    "# 자연어 전처리"
   ],
   "metadata": {
    "collapsed": false
   }
  },
  {
   "cell_type": "markdown",
   "source": [
    "## 토큰화(Tokenization)\n",
    "코퍼스를 토큰단위로 나누는 작업\n",
    "토큰의 단위가 상황에 따라 다르지만, 보통 의미있는 단위로 토큰을 정의\n",
    "\n",
    "-고려사항\n",
    "1.구두점이나 특수 문자를 단순 제외해서는 안 된다\n",
    "2.줄임말과 단어 내에 띄어쓰기가 있는 경우\n",
    "\n",
    "\n",
    "-단어 토큰화(가장 일반적)\n",
    "특정 구분기호를 가지고 텍스트를 나누는 방법, 영어의 경우 기본적으로 공백을 통해 나눔(구두점도 제거) -> word2vec, glove\n",
    "한국어와 맞지 않음\n",
    "\n",
    "단점:\n",
    "OOV 문제(Out of Vocabulary): 입력된 데이터가 이미 만들어진 단어사전에 없는경우\n",
    "단어 사전(토큰 리스트)는 코퍼스 데이터 내에서 만들어지기 때문에 모델 예측시 훈련때 없던 단어가 입력으로 들어올 수 있음\n",
    "훈련때 없었으므로 처리 불가\n",
    "간단한 해결책 UNK(Unkown Token) 훈련때 많이 등장하지 않았던 값을 UNK로 사전 등록 -> 문제점:모든 OOV단어가 UNK가 됨\n",
    "\n",
    "-문장 토큰화\n",
    "문장 단위로 토큰화를 진행\n",
    "\n",
    "-문자 토큰화(단어 토큰화 문제 해결)\n",
    "문자 단위로 코퍼스를 분리 영어는 알파벳, 한글은 자음 모음 분리, OOV문제 해결및 메모리 문제 해결(단어가 아닌 문자만 사전에 등록하면 되기때문)\n",
    "\n",
    "단점:\n",
    "입력 내용이 길어짐, 입력이 길어지는 만큼 단어사이의 거리가 멀어짐, 단어간의 관계를 학습하기 어려움\n",
    "\n",
    "\n",
    "-서브 워드 토큰화(단어, 문자 토큰화 중간 각 장점만을 취함)\n",
    "n개의 문자(n-gram characters)를 가지고 나누는 방법(문자 토큰화 확장판)\n",
    "대표적인 서브 워드를 만드는 알고리즘 BPE(Byte Pair Encoding)\n",
    "한국어에서 좋은 성능을 보여줌, 문장을 형태소로 나누어서 각 형태소 별로 인코딩을 하는 방법\n",
    "\n",
    "-한국어 토큰화\n",
    "한국어 특징\n",
    "1.한국어는 교착어 - 서로 다른 조사를 분리해줄 필요가 있음\n",
    "2.띄어쓰기가 영어보다 잘 지켜지지 않음\n",
    "\n",
    "한국어는 형태소 토큰화를 수행해야 함 -> 형태소 분석기 필요"
   ],
   "metadata": {
    "collapsed": false
   }
  },
  {
   "cell_type": "markdown",
   "source": [
    "## 정제(Cleaning), 정규화(Normalization)\n",
    "\n",
    "정제: 갖고 있는 코퍼스로부터 노이즈 데이터를 제거\n",
    "정규화: 표현 방법이 다른 단어들을 통합시켜서 같은 단어로 만듦\n",
    "\n",
    "정규화 방법\n",
    "1. 규칙에 기반한 표기가 다른 단어들 통합\n",
    "    - 필요에 따라 직접 코딩을 통해 표기가 다른 단어들을 하나의 단어로 정규화\n",
    "    - 표제어 추출, 어간 추출\n",
    "2. 대,소문자 통합\n",
    "    - 대, 소문자를 통합하여 단어의 개수를 줄일 수 있음 단, 무작정 통합해서는 안됨 EX) 회사 이름, 사람 이름 등\n",
    "    - 문장 앞글자만 대문자 뒤는 소문자로 바꾸는 방법도 있음\n",
    "3. 노이즈 제거\n",
    "    - 노이즈 데이터는 자연어가 아닌 아무 의미도 갖지 않는 글자들(특수문자등)을 의미하기도 하지만, 목적에 맞지 않는 불필요 단어도 해당함\n",
    "    - 등장 빈도가 적은 단어, 길이가 짧은 단어 제거(영어권 언어 기준) -> 길이가 짧은면 크게 의미가 없는 경우 많음\n",
    "4. 정규표현식\n",
    "    - 노이즈 데이터의 특징을 잡아서 제거"
   ],
   "metadata": {
    "collapsed": false
   }
  },
  {
   "cell_type": "markdown",
   "source": [
    "## 표제어 추출(Lemmatization)\n",
    "표제어(Lemma) - 기본 사전형 단어(가장 기본이 되는 단어?)\n",
    "표제어 추출은 단어들로부터 표제어를 찾아가는 과정\n",
    "다른 형태를 가지더라도, 그 뿌리가 되는 단어가 존재 -> 이를 통해 단어의 개수를 줄일수 있는지 판단\n",
    "예시) am, is, are -> 뿌리단어 be\n",
    "\n",
    "표제어 추출을 하는 가장 섬세하는 방법은 parsing -> 즉,형태소 단위로 파싱\n",
    "\n",
    "참고)\n",
    "형태소(morpheme) - 의미를 가진 가장 작은 단위\n",
    "형태학(morphology) - 형태소로부터 단어들을 만들어가는 학문\n",
    "\n",
    "형태소는 두가지 종류 존재\n",
    "어간(stem): 단어의 의미를 담고 있는 핵심 부분\n",
    "접사(affix): 단어에 추가적인 의미를 주는 부분\n",
    "Cats -> cat(어간) + -s(접사)\n",
    "\n",
    "\n",
    "## 어간 추출(Stemming)\n",
    "어간을 추출하는 작업, 정해진 규칙으로 단어의 어미를 잘라냄\n",
    "추출후 결과는 사전에 없는 단어일 수 있음\n",
    "어간(stem)과 어미(ending) 분리\n",
    "\n",
    "```\n",
    "결과 차이\n",
    "Stemming\n",
    "am → am\n",
    "the going → the go\n",
    "having → hav\n",
    "\n",
    "Lemmatization\n",
    "am → be\n",
    "the going → the going\n",
    "having → have\n",
    "```"
   ],
   "metadata": {
    "collapsed": false
   }
  },
  {
   "cell_type": "markdown",
   "source": [
    "## 토큰화 실습"
   ],
   "metadata": {
    "collapsed": false
   }
  },
  {
   "cell_type": "code",
   "execution_count": 1,
   "outputs": [
    {
     "name": "stdout",
     "output_type": "stream",
     "text": [
      "단어 토큰화1: ['Do', \"n't\", 'be', 'fooled', 'by', 'the', 'dark', 'sounding', 'name', ',', 'Mr.', 'Jone', \"'s\", 'Orphanage', 'is', 'as', 'cheery', 'as', 'cheery', 'goes', 'for', 'a', 'pastry', 'shop', '.']\n"
     ]
    }
   ],
   "source": [
    "from nltk.tokenize import word_tokenize\n",
    "from nltk.tokenize import WordPunctTokenizer  # 구두점을 별도로 분리 해주는 토크나이저\n",
    "\n",
    "print('단어 토큰화1:', word_tokenize(\"Don't be fooled by the dark sounding name, Mr. Jone's Orphanage is as cheery as cheery goes for a pastry shop.\"))"
   ],
   "metadata": {
    "collapsed": false,
    "ExecuteTime": {
     "end_time": "2023-05-11T03:15:09.039795Z",
     "start_time": "2023-05-11T03:15:08.204575Z"
    }
   }
  },
  {
   "cell_type": "code",
   "execution_count": 2,
   "outputs": [
    {
     "name": "stdout",
     "output_type": "stream",
     "text": [
      "단어 토큰화2 : ['Don', \"'\", 't', 'be', 'fooled', 'by', 'the', 'dark', 'sounding', 'name', ',', 'Mr', '.', 'Jone', \"'\", 's', 'Orphanage', 'is', 'as', 'cheery', 'as', 'cheery', 'goes', 'for', 'a', 'pastry', 'shop', '.']\n"
     ]
    }
   ],
   "source": [
    "print('단어 토큰화2 :',WordPunctTokenizer().tokenize(\"Don't be fooled by the dark sounding name, Mr. Jone's Orphanage is as cheery as cheery goes for a pastry shop.\"))"
   ],
   "metadata": {
    "collapsed": false,
    "ExecuteTime": {
     "end_time": "2023-05-11T03:15:09.042453Z",
     "start_time": "2023-05-11T03:15:09.041155Z"
    }
   }
  },
  {
   "cell_type": "code",
   "execution_count": 3,
   "outputs": [
    {
     "name": "stdout",
     "output_type": "stream",
     "text": [
      "트리뱅크 워드토크나이저 : ['Starting', 'a', 'home-based', 'restaurant', 'may', 'be', 'an', 'ideal.', 'it', 'does', \"n't\", 'have', 'a', 'food', 'chain', 'or', 'restaurant', 'of', 'their', 'own', '.']\n"
     ]
    }
   ],
   "source": [
    "from nltk.tokenize import TreebankWordTokenizer\n",
    "\n",
    "tokenizer = TreebankWordTokenizer()\n",
    "\n",
    "text = \"Starting a home-based restaurant may be an ideal. it doesn't have a food chain or restaurant of their own.\"\n",
    "print('트리뱅크 워드토크나이저 :',tokenizer.tokenize(text))"
   ],
   "metadata": {
    "collapsed": false,
    "ExecuteTime": {
     "end_time": "2023-05-11T03:21:59.276701Z",
     "start_time": "2023-05-11T03:21:59.270506Z"
    }
   }
  },
  {
   "cell_type": "code",
   "execution_count": 4,
   "outputs": [
    {
     "name": "stdout",
     "output_type": "stream",
     "text": [
      "문장 토큰화1 : ['His barber kept his word.', 'But keeping such a huge secret to himself was driving him crazy.', 'Finally, the barber went up a mountain and almost to the edge of a cliff.', 'He dug a hole in the midst of some reeds.', 'He looked about, to make sure no one was near.']\n"
     ]
    }
   ],
   "source": [
    "from nltk.tokenize import sent_tokenize  # 문장 단위 토큰화\n",
    "\n",
    "text = \"His barber kept his word. But keeping such a huge secret to himself was driving him crazy. Finally, the barber went up a mountain and almost to the edge of a cliff. He dug a hole in the midst of some reeds. He looked about, to make sure no one was near.\"\n",
    "print('문장 토큰화1 :',sent_tokenize(text))"
   ],
   "metadata": {
    "collapsed": false,
    "ExecuteTime": {
     "end_time": "2023-05-11T03:23:22.465713Z",
     "start_time": "2023-05-11T03:23:22.451005Z"
    }
   }
  },
  {
   "cell_type": "code",
   "execution_count": 5,
   "outputs": [
    {
     "name": "stdout",
     "output_type": "stream",
     "text": [
      "문장 토큰화2 : ['I am actively looking for Ph.D. students.', 'and you are a Ph.D student.']\n"
     ]
    }
   ],
   "source": [
    "#  단순히 마침표를 구분자로 지정하지 않았기 때문에 문장 중간에 마침표가 있어도 잘 인식함\n",
    "text = \"I am actively looking for Ph.D. students. and you are a Ph.D student.\"\n",
    "print('문장 토큰화2 :',sent_tokenize(text))"
   ],
   "metadata": {
    "collapsed": false,
    "ExecuteTime": {
     "end_time": "2023-05-11T03:23:45.816445Z",
     "start_time": "2023-05-11T03:23:45.809836Z"
    }
   }
  },
  {
   "cell_type": "code",
   "execution_count": 6,
   "outputs": [
    {
     "name": "stderr",
     "output_type": "stream",
     "text": [
      "[Kss]: Because there's no supported C++ morpheme analyzer, Kss will take pecab as a backend. :D\n",
      "For your information, Kss also supports mecab backend.\n",
      "We recommend you to install mecab or konlpy.tag.Mecab for faster execution of Kss.\n",
      "Please refer to following web sites for details:\n",
      "- mecab: https://github.com/hyunwoongko/python-mecab-kor\n",
      "- konlpy.tag.Mecab: https://konlpy.org/en/latest/api/konlpy.tag/#mecab-class\n",
      "\n"
     ]
    },
    {
     "name": "stdout",
     "output_type": "stream",
     "text": [
      "한국어 문장 토큰화 : ['딥 러닝 자연어 처리가 재미있기는 합니다.', '그런데 문제는 영어보다 한국어로 할 때 너무 어렵습니다.', '이제 해보면 알걸요?']\n"
     ]
    }
   ],
   "source": [
    "import kss  # 한국어 문장 토큰화 -> konlpy.tag.Mecab\n",
    "\n",
    "text = '딥 러닝 자연어 처리가 재미있기는 합니다. 그런데 문제는 영어보다 한국어로 할 때 너무 어렵습니다. 이제 해보면 알걸요?'\n",
    "print('한국어 문장 토큰화 :',kss.split_sentences(text))"
   ],
   "metadata": {
    "collapsed": false,
    "ExecuteTime": {
     "end_time": "2023-05-11T03:25:48.286416Z",
     "start_time": "2023-05-11T03:25:48.175628Z"
    }
   }
  },
  {
   "cell_type": "markdown",
   "source": [
    "## 품사 태깅"
   ],
   "metadata": {
    "collapsed": false
   }
  },
  {
   "cell_type": "code",
   "execution_count": 7,
   "outputs": [
    {
     "name": "stdout",
     "output_type": "stream",
     "text": [
      "단어 토큰화 : ['I', 'am', 'actively', 'looking', 'for', 'Ph.D.', 'students', '.', 'and', 'you', 'are', 'a', 'Ph.D.', 'student', '.']\n",
      "품사 태깅 : [('I', 'PRP'), ('am', 'VBP'), ('actively', 'RB'), ('looking', 'VBG'), ('for', 'IN'), ('Ph.D.', 'NNP'), ('students', 'NNS'), ('.', '.'), ('and', 'CC'), ('you', 'PRP'), ('are', 'VBP'), ('a', 'DT'), ('Ph.D.', 'NNP'), ('student', 'NN'), ('.', '.')]\n"
     ]
    }
   ],
   "source": [
    "from nltk.tokenize import word_tokenize\n",
    "from nltk.tag import pos_tag\n",
    "\n",
    "text = \"I am actively looking for Ph.D. students. and you are a Ph.D. student.\"\n",
    "tokenized_sentence = word_tokenize(text)\n",
    "\n",
    "print('단어 토큰화 :',tokenized_sentence)\n",
    "print('품사 태깅 :',pos_tag(tokenized_sentence))"
   ],
   "metadata": {
    "collapsed": false,
    "ExecuteTime": {
     "end_time": "2023-05-11T03:28:29.579397Z",
     "start_time": "2023-05-11T03:28:29.525271Z"
    }
   }
  },
  {
   "cell_type": "code",
   "execution_count": 10,
   "outputs": [
    {
     "name": "stdout",
     "output_type": "stream",
     "text": [
      "OKT 형태소 분석 : ['열심히', '코딩', '한', '당신', ',', '연휴', '에는', '여행', '을', '가봐요']\n",
      "OKT 품사 태깅 : [('열심히', 'Adverb'), ('코딩', 'Noun'), ('한', 'Josa'), ('당신', 'Noun'), (',', 'Punctuation'), ('연휴', 'Noun'), ('에는', 'Josa'), ('여행', 'Noun'), ('을', 'Josa'), ('가봐요', 'Verb')]\n",
      "OKT 명사 추출 : ['코딩', '당신', '연휴', '여행']\n"
     ]
    }
   ],
   "source": [
    "from konlpy.tag import Okt\n",
    "from konlpy.tag import Kkma\n",
    "\n",
    "okt = Okt()\n",
    "kkma = Kkma()\n",
    "\n",
    "print('OKT 형태소 분석 :',okt.morphs(\"열심히 코딩한 당신, 연휴에는 여행을 가봐요\"))\n",
    "print('OKT 품사 태깅 :',okt.pos(\"열심히 코딩한 당신, 연휴에는 여행을 가봐요\"))\n",
    "print('OKT 명사 추출 :',okt.nouns(\"열심히 코딩한 당신, 연휴에는 여행을 가봐요\"))"
   ],
   "metadata": {
    "collapsed": false,
    "ExecuteTime": {
     "end_time": "2023-05-11T03:42:01.087870Z",
     "start_time": "2023-05-11T03:41:58.685796Z"
    }
   }
  },
  {
   "cell_type": "code",
   "execution_count": null,
   "outputs": [],
   "source": [],
   "metadata": {
    "collapsed": false
   }
  }
 ],
 "metadata": {
  "kernelspec": {
   "display_name": "Python 3",
   "language": "python",
   "name": "python3"
  },
  "language_info": {
   "codemirror_mode": {
    "name": "ipython",
    "version": 2
   },
   "file_extension": ".py",
   "mimetype": "text/x-python",
   "name": "python",
   "nbconvert_exporter": "python",
   "pygments_lexer": "ipython2",
   "version": "2.7.6"
  }
 },
 "nbformat": 4,
 "nbformat_minor": 0
}
